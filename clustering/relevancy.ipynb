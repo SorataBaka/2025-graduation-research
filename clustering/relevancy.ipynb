{
 "cells": [
  {
   "cell_type": "markdown",
   "id": "f757abc7",
   "metadata": {},
   "source": [
    "# Start parsing label studio"
   ]
  },
  {
   "cell_type": "code",
   "execution_count": 9,
   "id": "947e0554",
   "metadata": {},
   "outputs": [],
   "source": [
    "LABEL_STUDIO_DUMP=\"out/labelstudio/p1/p1_training_labeled.json\"\n",
    "LABELED_CLEANED=\"out/labelstudio/p1/p1_training_cleaned.json\""
   ]
  },
  {
   "cell_type": "code",
   "execution_count": 10,
   "id": "fe6f2f62",
   "metadata": {},
   "outputs": [
    {
     "name": "stdout",
     "output_type": "stream",
     "text": [
      "Relevant count: 422 Irrelevant Count: 678\n"
     ]
    }
   ],
   "source": [
    "import json\n",
    "with open(LABEL_STUDIO_DUMP, \"r\", encoding=\"utf-8\") as file:\n",
    "  documents = json.load(file)\n",
    "\n",
    "rawdata = [doc[\"data\"] for doc in documents]\n",
    "metadata = [doc[\"meta\"] for doc in documents]\n",
    "annotations = [doc[\"annotations\"][0] for doc in documents]\n",
    "\n",
    "relevant_count = 0;\n",
    "irrelevant_count = 0;\n",
    "\n",
    "relevancy_label_mapping = {\n",
    "  \"relevant\": 1,\n",
    "  \"irrelevant\": 0\n",
    "}\n",
    "\n",
    "for data, annotation, meta in zip(rawdata, annotations, metadata):\n",
    "  label = annotation[\"result\"][0][\"value\"][\"choices\"][0]\n",
    "  if label == \"relevant\":\n",
    "    relevant_count += 1\n",
    "  if label == \"irrelevant\":\n",
    "    irrelevant_count += 1\n",
    "  data[\"relevancy_label\"] = relevancy_label_mapping[label]\n",
    "  data.update(meta)\n",
    "  \n",
    "print(f\"Relevant count: {relevant_count} Irrelevant Count: {irrelevant_count}\")\n",
    "\n",
    "with open(LABELED_CLEANED, \"w\", encoding=\"utf-8\") as file:\n",
    "  json.dump(rawdata, file, ensure_ascii=False, indent=2)\n"
   ]
  },
  {
   "cell_type": "markdown",
   "id": "5bac17c0",
   "metadata": {},
   "source": [
    "## Train initial model for pre-annotation on 700 manually labeled data"
   ]
  },
  {
   "cell_type": "code",
   "execution_count": 11,
   "id": "3953ee73",
   "metadata": {},
   "outputs": [
    {
     "name": "stderr",
     "output_type": "stream",
     "text": [
      "Generating train split: 1100 examples [00:00, 71092.09 examples/s]\n",
      "Casting the dataset: 100%|██████████| 1100/1100 [00:00<00:00, 341505.14 examples/s]"
     ]
    },
    {
     "name": "stdout",
     "output_type": "stream",
     "text": [
      "Train: 990 samples\n",
      "Validation: 110 samples\n"
     ]
    },
    {
     "name": "stderr",
     "output_type": "stream",
     "text": [
      "\n"
     ]
    }
   ],
   "source": [
    "from datasets import load_dataset, ClassLabel, concatenate_datasets\n",
    "\n",
    "# Load the full dataset\n",
    "ds = load_dataset(\"json\", data_files=LABELED_CLEANED)[\"train\"]\n",
    "\n",
    "unique_labels = ds.unique(\"relevancy_label\")\n",
    "class_label = ClassLabel(names=[str(label) for label in unique_labels])\n",
    "ds = ds.cast_column(\"relevancy_label\", class_label)\n",
    "\n",
    "# First split: 80% train, 20% temp (val + test)\n",
    "split_ds = ds.train_test_split(test_size=0.1, seed=42, stratify_by_column=\"relevancy_label\")\n",
    "\n",
    "train_dataset = split_ds[\"train\"]\n",
    "val_dataset = split_ds[\"test\"]\n",
    "\n",
    "print(f\"Train: {len(train_dataset)} samples\")\n",
    "print(f\"Validation: {len(val_dataset)} samples\")"
   ]
  },
  {
   "cell_type": "code",
   "execution_count": 12,
   "id": "9a42b255",
   "metadata": {},
   "outputs": [],
   "source": [
    "import re\n",
    "\n",
    "def remove_urls(example):\n",
    "    # Remove http, https, and www URLs\n",
    "    example[\"text\"] = re.sub(r'<url>', '', example[\"text\"])\n",
    "    return example\n"
   ]
  },
  {
   "cell_type": "code",
   "execution_count": 13,
   "id": "87588a39",
   "metadata": {},
   "outputs": [
    {
     "name": "stderr",
     "output_type": "stream",
     "text": [
      "Some weights of CustomModel were not initialized from the model checkpoint at indobenchmark/indobert-base-p2 and are newly initialized: ['classifier.bias', 'classifier.weight', 'loss_fct.weight']\n",
      "You should probably TRAIN this model on a down-stream task to be able to use it for predictions and inference.\n"
     ]
    },
    {
     "data": {
      "text/plain": [
       "82"
      ]
     },
     "execution_count": 13,
     "metadata": {},
     "output_type": "execute_result"
    }
   ],
   "source": [
    "from transformers import AutoModelForSequenceClassification, AutoTokenizer, BertForSequenceClassification\n",
    "import torch\n",
    "import torch.nn as nn\n",
    "import json\n",
    "from sklearn.utils import class_weight\n",
    "import numpy as np\n",
    "device = torch.device(\"mps\" if torch.backends.mps.is_available() else \"cpu\")\n",
    "class CustomModel(BertForSequenceClassification):\n",
    "  def __init__(self, config, class_weights=None):\n",
    "    super().__init__(config)\n",
    "    labels = np.array(train_dataset[\"relevancy_label\"])\n",
    "    weights = class_weight.compute_class_weight(\n",
    "      class_weight=\"balanced\",\n",
    "      classes = np.array([0, 1]),\n",
    "      y = labels\n",
    "    )\n",
    "    device = torch.device(\"mps\" if torch.backends.mps.is_available() else \"cpu\")\n",
    "\n",
    "    self.class_weights = torch.tensor(weights, dtype=torch.float).to(device)\n",
    "    weight = torch.tensor([1.5, 1.0], dtype=torch.float).to(device)\n",
    "    self.loss_fct = nn.CrossEntropyLoss(weight=class_weights) if class_weights is not None else nn.CrossEntropyLoss(weight=weight)\n",
    "\n",
    "  def forward(self, input_ids=None, attention_mask=None, labels=None):\n",
    "    outputs = super().forward(input_ids, attention_mask=attention_mask)\n",
    "    logits = outputs.logits\n",
    "\n",
    "    loss = None\n",
    "    if labels is not None:\n",
    "        loss = self.loss_fct(logits, labels)\n",
    "\n",
    "    return (loss, logits) if loss is not None else logits\n",
    "\n",
    "with open(\"out/hashtag_list.json\", \"r\") as file:\n",
    "  hashtags = json.load(file)\n",
    "\n",
    "tokenizer = AutoTokenizer.from_pretrained(\"indobenchmark/indobert-base-p2\", cache_dir=\"cache/\")\n",
    "model = CustomModel.from_pretrained(\"indobenchmark/indobert-base-p2\", cache_dir=\"cache/\", num_labels=2)\n",
    "model.to(device)\n",
    "tokenizer.add_tokens(hashtags)"
   ]
  },
  {
   "cell_type": "code",
   "execution_count": 14,
   "id": "21cb569c",
   "metadata": {},
   "outputs": [],
   "source": [
    "def tokenizer_function(examples):\n",
    "  return tokenizer(\n",
    "    examples[\"text\"],\n",
    "    padding=\"max_length\",\n",
    "    truncation=True,\n",
    "    max_length=256,\n",
    "    return_tensors=\"pt\" \n",
    "  )"
   ]
  },
  {
   "cell_type": "code",
   "execution_count": 15,
   "id": "793ad23d",
   "metadata": {},
   "outputs": [
    {
     "name": "stderr",
     "output_type": "stream",
     "text": [
      "Map: 100%|██████████| 990/990 [00:00<00:00, 18128.15 examples/s]\n",
      "Map: 100%|██████████| 110/110 [00:00<00:00, 13441.32 examples/s]\n"
     ]
    }
   ],
   "source": [
    "train_dataset = train_dataset.map(remove_urls)\n",
    "test_dataset = val_dataset.map(remove_urls)"
   ]
  },
  {
   "cell_type": "code",
   "execution_count": 16,
   "id": "44ad8082",
   "metadata": {},
   "outputs": [
    {
     "name": "stderr",
     "output_type": "stream",
     "text": [
      "Map: 100%|██████████| 990/990 [00:00<00:00, 10503.19 examples/s]\n",
      "Map: 100%|██████████| 110/110 [00:00<00:00, 8103.65 examples/s]\n"
     ]
    }
   ],
   "source": [
    "train_dataset = train_dataset.map(tokenizer_function, batched=True)\n",
    "test_dataset = val_dataset.map(tokenizer_function, batched=True)"
   ]
  },
  {
   "cell_type": "code",
   "execution_count": 17,
   "id": "ffc79277",
   "metadata": {},
   "outputs": [],
   "source": [
    "train_dataset = train_dataset.rename_column(\"relevancy_label\", \"labels\")\n",
    "test_dataset = test_dataset.rename_column(\"relevancy_label\", \"labels\")\n",
    "\n",
    "train_dataset.set_format(\"torch\", columns=[\"input_ids\", \"attention_mask\", \"token_type_ids\", \"labels\"])\n",
    "test_dataset.set_format(\"torch\", columns=[\"input_ids\", \"attention_mask\", \"token_type_ids\", \"labels\"])"
   ]
  },
  {
   "cell_type": "code",
   "execution_count": 18,
   "id": "8d34feb3",
   "metadata": {},
   "outputs": [
    {
     "name": "stdout",
     "output_type": "stream",
     "text": [
      "{'labels': tensor(0), 'input_ids': tensor([    2,  1841,  2064,  2983, 13007,    41,  4731,  2420,    57, 30468,\n",
      "         2999,    80, 11753,    74, 30468, 16488,    57,  7970, 30477, 30535,\n",
      "        30521,    92,   119,  2008, 30470,     3,     0,     0,     0,     0,\n",
      "            0,     0,     0,     0,     0,     0,     0,     0,     0,     0,\n",
      "            0,     0,     0,     0,     0,     0,     0,     0,     0,     0,\n",
      "            0,     0,     0,     0,     0,     0,     0,     0,     0,     0,\n",
      "            0,     0,     0,     0,     0,     0,     0,     0,     0,     0,\n",
      "            0,     0,     0,     0,     0,     0,     0,     0,     0,     0,\n",
      "            0,     0,     0,     0,     0,     0,     0,     0,     0,     0,\n",
      "            0,     0,     0,     0,     0,     0,     0,     0,     0,     0,\n",
      "            0,     0,     0,     0,     0,     0,     0,     0,     0,     0,\n",
      "            0,     0,     0,     0,     0,     0,     0,     0,     0,     0,\n",
      "            0,     0,     0,     0,     0,     0,     0,     0,     0,     0,\n",
      "            0,     0,     0,     0,     0,     0,     0,     0,     0,     0,\n",
      "            0,     0,     0,     0,     0,     0,     0,     0,     0,     0,\n",
      "            0,     0,     0,     0,     0,     0,     0,     0,     0,     0,\n",
      "            0,     0,     0,     0,     0,     0,     0,     0,     0,     0,\n",
      "            0,     0,     0,     0,     0,     0,     0,     0,     0,     0,\n",
      "            0,     0,     0,     0,     0,     0,     0,     0,     0,     0,\n",
      "            0,     0,     0,     0,     0,     0,     0,     0,     0,     0,\n",
      "            0,     0,     0,     0,     0,     0,     0,     0,     0,     0,\n",
      "            0,     0,     0,     0,     0,     0,     0,     0,     0,     0,\n",
      "            0,     0,     0,     0,     0,     0,     0,     0,     0,     0,\n",
      "            0,     0,     0,     0,     0,     0,     0,     0,     0,     0,\n",
      "            0,     0,     0,     0,     0,     0,     0,     0,     0,     0,\n",
      "            0,     0,     0,     0,     0,     0]), 'token_type_ids': tensor([0, 0, 0, 0, 0, 0, 0, 0, 0, 0, 0, 0, 0, 0, 0, 0, 0, 0, 0, 0, 0, 0, 0, 0,\n",
      "        0, 0, 0, 0, 0, 0, 0, 0, 0, 0, 0, 0, 0, 0, 0, 0, 0, 0, 0, 0, 0, 0, 0, 0,\n",
      "        0, 0, 0, 0, 0, 0, 0, 0, 0, 0, 0, 0, 0, 0, 0, 0, 0, 0, 0, 0, 0, 0, 0, 0,\n",
      "        0, 0, 0, 0, 0, 0, 0, 0, 0, 0, 0, 0, 0, 0, 0, 0, 0, 0, 0, 0, 0, 0, 0, 0,\n",
      "        0, 0, 0, 0, 0, 0, 0, 0, 0, 0, 0, 0, 0, 0, 0, 0, 0, 0, 0, 0, 0, 0, 0, 0,\n",
      "        0, 0, 0, 0, 0, 0, 0, 0, 0, 0, 0, 0, 0, 0, 0, 0, 0, 0, 0, 0, 0, 0, 0, 0,\n",
      "        0, 0, 0, 0, 0, 0, 0, 0, 0, 0, 0, 0, 0, 0, 0, 0, 0, 0, 0, 0, 0, 0, 0, 0,\n",
      "        0, 0, 0, 0, 0, 0, 0, 0, 0, 0, 0, 0, 0, 0, 0, 0, 0, 0, 0, 0, 0, 0, 0, 0,\n",
      "        0, 0, 0, 0, 0, 0, 0, 0, 0, 0, 0, 0, 0, 0, 0, 0, 0, 0, 0, 0, 0, 0, 0, 0,\n",
      "        0, 0, 0, 0, 0, 0, 0, 0, 0, 0, 0, 0, 0, 0, 0, 0, 0, 0, 0, 0, 0, 0, 0, 0,\n",
      "        0, 0, 0, 0, 0, 0, 0, 0, 0, 0, 0, 0, 0, 0, 0, 0]), 'attention_mask': tensor([1, 1, 1, 1, 1, 1, 1, 1, 1, 1, 1, 1, 1, 1, 1, 1, 1, 1, 1, 1, 1, 1, 1, 1,\n",
      "        1, 1, 0, 0, 0, 0, 0, 0, 0, 0, 0, 0, 0, 0, 0, 0, 0, 0, 0, 0, 0, 0, 0, 0,\n",
      "        0, 0, 0, 0, 0, 0, 0, 0, 0, 0, 0, 0, 0, 0, 0, 0, 0, 0, 0, 0, 0, 0, 0, 0,\n",
      "        0, 0, 0, 0, 0, 0, 0, 0, 0, 0, 0, 0, 0, 0, 0, 0, 0, 0, 0, 0, 0, 0, 0, 0,\n",
      "        0, 0, 0, 0, 0, 0, 0, 0, 0, 0, 0, 0, 0, 0, 0, 0, 0, 0, 0, 0, 0, 0, 0, 0,\n",
      "        0, 0, 0, 0, 0, 0, 0, 0, 0, 0, 0, 0, 0, 0, 0, 0, 0, 0, 0, 0, 0, 0, 0, 0,\n",
      "        0, 0, 0, 0, 0, 0, 0, 0, 0, 0, 0, 0, 0, 0, 0, 0, 0, 0, 0, 0, 0, 0, 0, 0,\n",
      "        0, 0, 0, 0, 0, 0, 0, 0, 0, 0, 0, 0, 0, 0, 0, 0, 0, 0, 0, 0, 0, 0, 0, 0,\n",
      "        0, 0, 0, 0, 0, 0, 0, 0, 0, 0, 0, 0, 0, 0, 0, 0, 0, 0, 0, 0, 0, 0, 0, 0,\n",
      "        0, 0, 0, 0, 0, 0, 0, 0, 0, 0, 0, 0, 0, 0, 0, 0, 0, 0, 0, 0, 0, 0, 0, 0,\n",
      "        0, 0, 0, 0, 0, 0, 0, 0, 0, 0, 0, 0, 0, 0, 0, 0])}\n"
     ]
    }
   ],
   "source": [
    "print(train_dataset[0])"
   ]
  },
  {
   "cell_type": "code",
   "execution_count": 19,
   "id": "ef995197",
   "metadata": {},
   "outputs": [],
   "source": [
    "from transformers import TrainingArguments\n",
    "\n",
    "training_args = TrainingArguments(\n",
    "  output_dir=\"./results\",\n",
    "  num_train_epochs=5,\n",
    "  per_device_train_batch_size=16,\n",
    "  save_strategy=\"epoch\",\n",
    "  logging_strategy=\"steps\",\n",
    "  logging_steps=5,\n",
    "  load_best_model_at_end=True,\n",
    "  metric_for_best_model=\"accuracy\",\n",
    "  greater_is_better=False,\n",
    "  eval_strategy=\"epoch\",\n",
    ")"
   ]
  },
  {
   "cell_type": "code",
   "execution_count": 20,
   "id": "13350e25",
   "metadata": {},
   "outputs": [],
   "source": [
    "from transformers import Trainer, default_data_collator\n",
    "from torch.optim import AdamW\n",
    "import evaluate\n",
    "import numpy as np\n",
    "accuracy_metric = evaluate.load(\"accuracy\")\n",
    "from sklearn.metrics import (\n",
    "    accuracy_score,\n",
    "    precision_recall_fscore_support,\n",
    ")\n",
    "\n",
    "\n",
    "def compute_metrics(eval_pred):\n",
    "    \"\"\"\n",
    "    eval_pred is a transformers EvalPrediction: (logits, labels)\n",
    "    Returns a dict whose keys become 'eval_<key>' in Trainer logs.\n",
    "    \"\"\"\n",
    "    logits, labels = eval_pred\n",
    "    # Convert to numpy, take argmax for predicted class (0/1).\n",
    "    preds = np.argmax(logits, axis=-1)\n",
    "\n",
    "    # F1, precision, recall for the positive class (1 = relevant)\n",
    "    precision, recall, f1, _ = precision_recall_fscore_support(\n",
    "        labels, preds, average=\"binary\", pos_label=1, zero_division=0\n",
    "    )\n",
    "\n",
    "    acc = accuracy_score(labels, preds)\n",
    "\n",
    "    return {\n",
    "        \"eval_accuracy\": acc,\n",
    "        \"eval_precision\": precision,\n",
    "        \"eval_recall\": recall,\n",
    "        \"eval_f1\": f1,\n",
    "    }\n",
    "  \n",
    "trainer = Trainer(\n",
    "  model=model,\n",
    "  args = training_args,\n",
    "  train_dataset=train_dataset,\n",
    "  eval_dataset=test_dataset,\n",
    "  compute_metrics=compute_metrics,\n",
    "  data_collator=default_data_collator,\n",
    "  optimizers=(AdamW(model.parameters(), lr=5e-5), None)\n",
    ")"
   ]
  },
  {
   "cell_type": "code",
   "execution_count": 21,
   "id": "c36159c9",
   "metadata": {},
   "outputs": [],
   "source": [
    "from transformers import Trainer, default_data_collator\n",
    "import evaluate\n",
    "\n",
    "accuracy_metric = evaluate.load(\"accuracy\")\n",
    "trainer = Trainer(\n",
    "  model=model,\n",
    "  args = training_args,\n",
    "  train_dataset=train_dataset,\n",
    "  eval_dataset=test_dataset,\n",
    "  compute_metrics=compute_metrics,\n",
    "  data_collator=default_data_collator,\n",
    ")"
   ]
  },
  {
   "cell_type": "code",
   "execution_count": 22,
   "id": "d64e286e",
   "metadata": {},
   "outputs": [
    {
     "name": "stdout",
     "output_type": "stream",
     "text": [
      "dict_keys(['labels', 'input_ids', 'attention_mask'])\n"
     ]
    },
    {
     "name": "stderr",
     "output_type": "stream",
     "text": [
      "/opt/anaconda3/envs/sentiment/lib/python3.9/site-packages/torch/utils/data/dataloader.py:683: UserWarning: 'pin_memory' argument is set as true but not supported on MPS now, then device pinned memory won't be used.\n",
      "  warnings.warn(warn_msg)\n"
     ]
    }
   ],
   "source": [
    "train_dataloader = trainer.get_train_dataloader()\n",
    "batch = next(iter(train_dataloader))\n",
    "print(batch.keys())"
   ]
  },
  {
   "cell_type": "code",
   "execution_count": 23,
   "id": "ad8bbcfc",
   "metadata": {},
   "outputs": [
    {
     "data": {
      "text/html": [
       "\n",
       "    <div>\n",
       "      \n",
       "      <progress value='310' max='310' style='width:300px; height:20px; vertical-align: middle;'></progress>\n",
       "      [310/310 07:28, Epoch 5/5]\n",
       "    </div>\n",
       "    <table border=\"1\" class=\"dataframe\">\n",
       "  <thead>\n",
       " <tr style=\"text-align: left;\">\n",
       "      <th>Epoch</th>\n",
       "      <th>Training Loss</th>\n",
       "      <th>Validation Loss</th>\n",
       "      <th>Accuracy</th>\n",
       "      <th>Precision</th>\n",
       "      <th>Recall</th>\n",
       "      <th>F1</th>\n",
       "    </tr>\n",
       "  </thead>\n",
       "  <tbody>\n",
       "    <tr>\n",
       "      <td>1</td>\n",
       "      <td>0.108300</td>\n",
       "      <td>0.226898</td>\n",
       "      <td>0.927273</td>\n",
       "      <td>0.854167</td>\n",
       "      <td>0.976190</td>\n",
       "      <td>0.911111</td>\n",
       "    </tr>\n",
       "    <tr>\n",
       "      <td>2</td>\n",
       "      <td>0.144900</td>\n",
       "      <td>0.225217</td>\n",
       "      <td>0.945455</td>\n",
       "      <td>0.928571</td>\n",
       "      <td>0.928571</td>\n",
       "      <td>0.928571</td>\n",
       "    </tr>\n",
       "    <tr>\n",
       "      <td>3</td>\n",
       "      <td>0.088100</td>\n",
       "      <td>0.307699</td>\n",
       "      <td>0.945455</td>\n",
       "      <td>0.909091</td>\n",
       "      <td>0.952381</td>\n",
       "      <td>0.930233</td>\n",
       "    </tr>\n",
       "    <tr>\n",
       "      <td>4</td>\n",
       "      <td>0.007200</td>\n",
       "      <td>0.384085</td>\n",
       "      <td>0.927273</td>\n",
       "      <td>0.869565</td>\n",
       "      <td>0.952381</td>\n",
       "      <td>0.909091</td>\n",
       "    </tr>\n",
       "    <tr>\n",
       "      <td>5</td>\n",
       "      <td>0.000400</td>\n",
       "      <td>0.343638</td>\n",
       "      <td>0.918182</td>\n",
       "      <td>0.902439</td>\n",
       "      <td>0.880952</td>\n",
       "      <td>0.891566</td>\n",
       "    </tr>\n",
       "  </tbody>\n",
       "</table><p>"
      ],
      "text/plain": [
       "<IPython.core.display.HTML object>"
      ]
     },
     "metadata": {},
     "output_type": "display_data"
    },
    {
     "name": "stderr",
     "output_type": "stream",
     "text": [
      "/opt/anaconda3/envs/sentiment/lib/python3.9/site-packages/torch/utils/data/dataloader.py:683: UserWarning: 'pin_memory' argument is set as true but not supported on MPS now, then device pinned memory won't be used.\n",
      "  warnings.warn(warn_msg)\n",
      "/opt/anaconda3/envs/sentiment/lib/python3.9/site-packages/torch/utils/data/dataloader.py:683: UserWarning: 'pin_memory' argument is set as true but not supported on MPS now, then device pinned memory won't be used.\n",
      "  warnings.warn(warn_msg)\n",
      "/opt/anaconda3/envs/sentiment/lib/python3.9/site-packages/torch/utils/data/dataloader.py:683: UserWarning: 'pin_memory' argument is set as true but not supported on MPS now, then device pinned memory won't be used.\n",
      "  warnings.warn(warn_msg)\n",
      "/opt/anaconda3/envs/sentiment/lib/python3.9/site-packages/torch/utils/data/dataloader.py:683: UserWarning: 'pin_memory' argument is set as true but not supported on MPS now, then device pinned memory won't be used.\n",
      "  warnings.warn(warn_msg)\n"
     ]
    },
    {
     "data": {
      "text/plain": [
       "TrainOutput(global_step=310, training_loss=0.10997991463687691, metrics={'train_runtime': 450.5519, 'train_samples_per_second': 10.987, 'train_steps_per_second': 0.688, 'total_flos': 651199862016000.0, 'train_loss': 0.10997991463687691, 'epoch': 5.0})"
      ]
     },
     "execution_count": 23,
     "metadata": {},
     "output_type": "execute_result"
    }
   ],
   "source": [
    "trainer.train()"
   ]
  },
  {
   "cell_type": "code",
   "execution_count": 24,
   "id": "c9c172e7",
   "metadata": {},
   "outputs": [
    {
     "name": "stderr",
     "output_type": "stream",
     "text": [
      "/opt/anaconda3/envs/sentiment/lib/python3.9/site-packages/torch/utils/data/dataloader.py:683: UserWarning: 'pin_memory' argument is set as true but not supported on MPS now, then device pinned memory won't be used.\n",
      "  warnings.warn(warn_msg)\n"
     ]
    },
    {
     "data": {
      "text/html": [],
      "text/plain": [
       "<IPython.core.display.HTML object>"
      ]
     },
     "metadata": {},
     "output_type": "display_data"
    },
    {
     "name": "stderr",
     "output_type": "stream",
     "text": [
      "/opt/anaconda3/envs/sentiment/lib/python3.9/site-packages/torch/utils/data/dataloader.py:683: UserWarning: 'pin_memory' argument is set as true but not supported on MPS now, then device pinned memory won't be used.\n",
      "  warnings.warn(warn_msg)\n"
     ]
    },
    {
     "name": "stdout",
     "output_type": "stream",
     "text": [
      "\n",
      "=== Confusion Matrix ===\n",
      "[[64  4]\n",
      " [ 5 37]]\n",
      "\n",
      "=== Classification Report ===\n",
      "              precision    recall  f1-score   support\n",
      "\n",
      "  irrelevant     0.9275    0.9412    0.9343        68\n",
      "    relevant     0.9024    0.8810    0.8916        42\n",
      "\n",
      "    accuracy                         0.9182       110\n",
      "   macro avg     0.9150    0.9111    0.9129       110\n",
      "weighted avg     0.9180    0.9182    0.9180       110\n",
      "\n",
      "=== Scalar metrics returned by Trainer ===\n",
      "eval_loss           : 0.3436\n",
      "eval_model_preparation_time: 0.0012\n",
      "eval_accuracy       : 0.9182\n",
      "eval_macro_f1       : 0.9129\n",
      "eval_macro_precision: 0.9150\n",
      "eval_macro_recall   : 0.9111\n",
      "eval_irrelevant_precision: 0.9275\n",
      "eval_irrelevant_recall: 0.9412\n",
      "eval_irrelevant_f1  : 0.9343\n",
      "eval_irrelevant_support: 68.0000\n",
      "eval_relevant_precision: 0.9024\n",
      "eval_relevant_recall: 0.8810\n",
      "eval_relevant_f1    : 0.8916\n",
      "eval_relevant_support: 42.0000\n",
      "eval_runtime        : 2.6775\n",
      "eval_samples_per_second: 41.0830\n",
      "eval_steps_per_second: 5.2290\n"
     ]
    }
   ],
   "source": [
    "from sklearn.metrics import (\n",
    "    accuracy_score,\n",
    "    precision_recall_fscore_support,\n",
    "    confusion_matrix,\n",
    "    classification_report,\n",
    ")\n",
    "\n",
    "CLASS_NAMES = [\"irrelevant\", \"relevant\"]  # adjust if you have more\n",
    "\n",
    "def compute_metrics(eval_pred):\n",
    "    logits, labels = eval_pred\n",
    "    preds = logits.argmax(axis=1)\n",
    "\n",
    "    # overall (macro) metrics\n",
    "    macro_p, macro_r, macro_f1, _ = precision_recall_fscore_support(\n",
    "        labels, preds, average=\"macro\", zero_division=0\n",
    "    )\n",
    "    acc = accuracy_score(labels, preds)\n",
    "\n",
    "    # per-class metrics\n",
    "    per_class = precision_recall_fscore_support(labels, preds, average=None, zero_division=0)\n",
    "    p_cls, r_cls, f1_cls, support_cls = per_class\n",
    "\n",
    "    # Flatten per-class metrics into scalars in the returned dict\n",
    "    metrics = {\n",
    "        \"accuracy\": acc,\n",
    "        \"macro_f1\": macro_f1,\n",
    "        \"macro_precision\": macro_p,\n",
    "        \"macro_recall\": macro_r,\n",
    "    }\n",
    "    for idx, name in enumerate(CLASS_NAMES):\n",
    "        metrics[f\"{name}_precision\"] = p_cls[idx]\n",
    "        metrics[f\"{name}_recall\"]    = r_cls[idx]\n",
    "        metrics[f\"{name}_f1\"]        = f1_cls[idx]\n",
    "        metrics[f\"{name}_support\"]   = support_cls[idx]\n",
    "\n",
    "    return metrics\n",
    "\n",
    "from transformers import Trainer\n",
    "\n",
    "evaluation_trainer = Trainer(\n",
    "    model=model,\n",
    "    args=training_args,\n",
    "    train_dataset=train_dataset,\n",
    "    eval_dataset=test_dataset,\n",
    "    compute_metrics=compute_metrics,\n",
    ")\n",
    "metrics = evaluation_trainer.evaluate()\n",
    "pred_out = evaluation_trainer.predict(test_dataset)\n",
    "preds  = pred_out.predictions.argmax(axis=1)\n",
    "labels = pred_out.label_ids\n",
    "\n",
    "print(\"\\n=== Confusion Matrix ===\")\n",
    "print(confusion_matrix(labels, preds))\n",
    "\n",
    "print(\"\\n=== Classification Report ===\")\n",
    "print(classification_report(labels, preds, target_names=CLASS_NAMES, digits=4))\n",
    "\n",
    "print(\"=== Scalar metrics returned by Trainer ===\")\n",
    "for k, v in metrics.items():\n",
    "    print(f\"{k:20s}: {v:.4f}\")"
   ]
  },
  {
   "cell_type": "code",
   "execution_count": 25,
   "id": "92ab5ba5",
   "metadata": {},
   "outputs": [
    {
     "data": {
      "text/plain": [
       "('tokenizers/ruu-tni-relevancy-classification-p1/tokenizer_config.json',\n",
       " 'tokenizers/ruu-tni-relevancy-classification-p1/special_tokens_map.json',\n",
       " 'tokenizers/ruu-tni-relevancy-classification-p1/vocab.txt',\n",
       " 'tokenizers/ruu-tni-relevancy-classification-p1/added_tokens.json',\n",
       " 'tokenizers/ruu-tni-relevancy-classification-p1/tokenizer.json')"
      ]
     },
     "execution_count": 25,
     "metadata": {},
     "output_type": "execute_result"
    }
   ],
   "source": [
    "trainer.save_model(\"models/ruu-tni-relevancy-classification-p1\")\n",
    "tokenizer.save_pretrained(\"tokenizers/ruu-tni-relevancy-classification-p1\")"
   ]
  },
  {
   "cell_type": "code",
   "execution_count": 29,
   "id": "968c0a95",
   "metadata": {},
   "outputs": [
    {
     "name": "stderr",
     "output_type": "stream",
     "text": [
      "model.safetensors: 100%|██████████| 498M/498M [00:53<00:00, 9.28MB/s]\n"
     ]
    },
    {
     "data": {
      "text/plain": [
       "CommitInfo(commit_url='https://huggingface.co/tianharjuno/ruu-tni-relevancy-classification-p1/commit/ec5d846d0f207cc9a977b1ace16b61c616f3841f', commit_message='Upload tokenizer', commit_description='', oid='ec5d846d0f207cc9a977b1ace16b61c616f3841f', pr_url=None, repo_url=RepoUrl('https://huggingface.co/tianharjuno/ruu-tni-relevancy-classification-p1', endpoint='https://huggingface.co', repo_type='model', repo_id='tianharjuno/ruu-tni-relevancy-classification-p1'), pr_revision=None, pr_num=None)"
      ]
     },
     "execution_count": 29,
     "metadata": {},
     "output_type": "execute_result"
    }
   ],
   "source": [
    "from transformers import AutoModelForSequenceClassification, AutoTokenizer\n",
    "model = AutoModelForSequenceClassification.from_pretrained(\"models/ruu-tni-relevancy-classification-p1\")\n",
    "tokenizers = AutoTokenizer.from_pretrained(\"tokenizers/ruu-tni-relevancy-classification-p1\")\n",
    "model.push_to_hub(\"tianharjuno/ruu-tni-relevancy-classification-p1\")\n",
    "tokenizers.push_to_hub(\"tianharjuno/ruu-tni-relevancy-classification-p1\")"
   ]
  },
  {
   "cell_type": "code",
   "execution_count": 27,
   "id": "d50678d2",
   "metadata": {},
   "outputs": [],
   "source": [
    "import torch\n",
    "from transformers import AutoModelForSequenceClassification, AutoTokenizer\n",
    "model = AutoModelForSequenceClassification.from_pretrained(\"models/ruu-tni-relevancy-classification-p1\", cache_dir=\"cache/\")\n",
    "tokenizers = AutoTokenizer.from_pretrained(\"tokenizers/ruu-tni-relevancy-classification-p1\", cache_dir=\"cache/\")\n",
    "model.eval()\n",
    "\n",
    "def predict(text):\n",
    "  inputs = tokenizers(text, return_tensors=\"pt\", truncation=True, padding=True)\n",
    "  with torch.no_grad():\n",
    "    outputs = model(**inputs)\n",
    "  logits = outputs.logits\n",
    "  \n",
    "  probabilities = torch.softmax(logits, dim=1)\n",
    "  predicted_class_idx = torch.argmax(probabilities, dim=1).item()\n",
    "  \n",
    "  label_mappings = {\n",
    "    1: \"relevant\",\n",
    "    0: \"irrelevant\"\n",
    "  }\n",
    "  \n",
    "  print(f\"Predicted class index: {label_mappings[predicted_class_idx]}\")\n",
    "  print(f\"Probabilities: {probabilities.squeeze().tolist()}\")\n"
   ]
  },
  {
   "cell_type": "code",
   "execution_count": 28,
   "id": "80123862",
   "metadata": {},
   "outputs": [
    {
     "name": "stderr",
     "output_type": "stream",
     "text": [
      "Asking to truncate to max_length but no maximum length is provided and the model has no predefined maximum length. Default to no truncation.\n"
     ]
    },
    {
     "name": "stdout",
     "output_type": "stream",
     "text": [
      "Predicted class index: relevant\n",
      "Probabilities: [0.00028608657885342836, 0.9997138381004333]\n"
     ]
    }
   ],
   "source": [
    "predict(\"Kehidupan WNI semakin terancam dengan ruu tni #cabutruutni\")"
   ]
  },
  {
   "cell_type": "markdown",
   "id": "8f50cf27",
   "metadata": {},
   "source": [
    "## Pre-annotation on new sampled data using relevancy stage 1 model."
   ]
  },
  {
   "cell_type": "code",
   "execution_count": 31,
   "id": "736c54d2",
   "metadata": {},
   "outputs": [
    {
     "name": "stderr",
     "output_type": "stream",
     "text": [
      "Batch predicting: 100%|██████████| 481/481 [01:46<00:00,  4.52it/s]\n"
     ]
    }
   ],
   "source": [
    "import json\n",
    "import torch\n",
    "from transformers import AutoModelForSequenceClassification, AutoTokenizer\n",
    "from tqdm import tqdm\n",
    "import numpy as np\n",
    "\n",
    "# Load input JSON\n",
    "with open(\"out/indobertweet/indobertweet-kmeans-embed.json\", \"r\", encoding=\"utf-8\") as file:\n",
    "    documents = json.load(file)\n",
    "\n",
    "# Load model and tokenizer\n",
    "model = AutoModelForSequenceClassification.from_pretrained(\n",
    "    \"tianharjuno/ruu-tni-relevancy-classification-p1\", device_map=None\n",
    ")\n",
    "tokenizer = AutoTokenizer.from_pretrained(\n",
    "    \"tianharjuno/ruu-tni-relevancy-classification-p1\"\n",
    ")\n",
    "model.eval()\n",
    "device = torch.device(\"mps\" if torch.backends.mps.is_available() and torch.backends.mps.is_built() else \"cpu\")\n",
    "model.to(device)\n",
    "\n",
    "# Prediction function with batching\n",
    "def predict_in_batches(texts, batch_size=32):\n",
    "    results = []\n",
    "    for i in tqdm(range(0, len(texts), batch_size), desc=\"Batch predicting\"):\n",
    "        batch = texts[i:i + batch_size]\n",
    "        inputs = tokenizer(\n",
    "            batch,\n",
    "            return_tensors=\"pt\",\n",
    "            truncation=True,\n",
    "            padding=True,\n",
    "            max_length=256\n",
    "        )\n",
    "        inputs = {k: v.to(device) for k, v in inputs.items()}\n",
    "        with torch.no_grad():\n",
    "            outputs = model(**inputs)\n",
    "        logits = outputs.logits\n",
    "        probs = torch.softmax(logits, dim=1)\n",
    "        indices = torch.argmax(probs, dim=1)\n",
    "        label_map = [\"irrelevant\", \"relevant\"]\n",
    "        batch_results = [\n",
    "            {\"label\": label_map[i.item()], \"score\": probs[j][i].item()}\n",
    "            for j, i in enumerate(indices)\n",
    "        ]\n",
    "        results.extend(batch_results)\n",
    "    return results\n",
    "\n",
    "# Run prediction\n",
    "texts = [doc[\"content\"] for doc in documents]\n",
    "results = predict_in_batches(texts, batch_size=32)\n",
    "\n",
    "#calculate entropy\n",
    "def binary_entropy(p):\n",
    "    p = np.clip(p, 1e-12, 1 - 1e-12)  # Avoid log(0)\n",
    "    return -p * np.log2(p) - (1 - p) * np.log2(1 - p)\n",
    "    \n",
    "parsed_result = []\n",
    "for doc, result in zip(documents, results):\n",
    "    doc[\"prediction_result\"] = result[\"label\"]\n",
    "    doc[\"prediction_score\"] = result[\"score\"]\n",
    "    doc[\"entropy_score\"] = binary_entropy(result[\"score\"])\n",
    "    parsed_result.append(doc)\n",
    "\n",
    "# Save output\n",
    "with open(\"out/labelstudio/p2/p2_training_preannotated.json\", \"w\", encoding=\"utf-8\") as file:\n",
    "    json.dump(parsed_result, file, ensure_ascii=False, indent=2)"
   ]
  },
  {
   "cell_type": "code",
   "execution_count": 32,
   "id": "a5c3a077",
   "metadata": {},
   "outputs": [
    {
     "name": "stdout",
     "output_type": "stream",
     "text": [
      "15364 1100 14264\n",
      "290 83 41\n",
      "299 86 42\n",
      "205 59 28\n",
      "185 53 25\n",
      "4 1 0\n",
      "26 8 3\n",
      "15 5 1\n",
      "182 52 26\n",
      "198 57 27\n",
      "3 1 0\n"
     ]
    }
   ],
   "source": [
    "\n",
    "import json\n",
    "from collections import defaultdict\n",
    "import math\n",
    "import pandas as pd\n",
    "import random\n",
    "with open(\"out/labelstudio/p2/p2_training_preannotated.json\", \"r\", encoding=\"utf-8\") as file:\n",
    "  documents = json.load(file)\n",
    "with open(\"out/labelstudio/p1/p1_training_cleaned.json\", \"r\", encoding=\"utf-8\") as file:\n",
    "  p1documents = json.load(file)\n",
    "  \n",
    "p1documents_ids = [doc[\"tweet_id\"] for doc in p1documents]\n",
    "\n",
    "purified = []\n",
    "\n",
    "for doc in documents:\n",
    "  found = 0\n",
    "  for ids in p1documents_ids:\n",
    "    if(doc[\"tweet_id\"] == ids):\n",
    "      found = 1\n",
    "  if found == 0:\n",
    "    purified.append(doc)\n",
    "\n",
    "print(len(documents), len(p1documents), len(purified))\n",
    "documents = purified\n",
    "SAMPLE_COUNT = 2000\n",
    "\n",
    "buckets = defaultdict(list)\n",
    "buckets_sampled = defaultdict(list)\n",
    "bucket_content_count = defaultdict(int)\n",
    "bucket_ratio_count = defaultdict(float)\n",
    "data_count = 0\n",
    "\n",
    "for doc in documents:\n",
    "  label = doc[\"bucket_label\"]\n",
    "  buckets[label].append(doc)\n",
    "  bucket_content_count[label] += 1\n",
    "  data_count += 1\n",
    "  \n",
    "for bucket_name, count in bucket_content_count.items():\n",
    "  bucket_ratio_count[bucket_name] = count / data_count\n",
    "  \n",
    "for bucket_name, data in buckets.items():\n",
    "  data.sort(key=lambda x: x[\"entropy_score\"], reverse=True)\n",
    "\n",
    "for bucket_name, data in buckets.items():\n",
    "  bucket_sample_total = math.ceil(bucket_ratio_count[bucket_name] * SAMPLE_COUNT)\n",
    "  data_df = pd.DataFrame(data)\n",
    "  \n",
    "  high_entropy_threshold = data_df[\"entropy_score\"].quantile(0.30)   # 30th percentile (start of high entropy)\n",
    "  medium_entropy_lower = data_df[\"entropy_score\"].quantile(0.50)     # 50th percentile\n",
    "  medium_entropy_upper = data_df[\"entropy_score\"].quantile(0.80)     # 80th percentile\n",
    "  low_entropy_lower = data_df[\"entropy_score\"].quantile(0.10)        # 10th percentile\n",
    "  low_entropy_upper = data_df[\"entropy_score\"].quantile(0.20)        # 20th percentile\n",
    "  \n",
    "  \n",
    "  # High entropy: top 70% entropy, i.e. > 30th percentile\n",
    "  # Print thresholds firs\n",
    "\n",
    "  low_entropy_tweets = data_df[\n",
    "    (data_df[\"entropy_score\"] >= low_entropy_lower) & \n",
    "    (data_df[\"entropy_score\"] <= low_entropy_upper)\n",
    "  ]\n",
    "\n",
    "  medium_entropy_tweets = data_df[\n",
    "    (data_df[\"entropy_score\"] >= medium_entropy_lower) & \n",
    "    (data_df[\"entropy_score\"] <= medium_entropy_upper)\n",
    "  ]\n",
    "\n",
    "  high_entropy_tweets = data_df[\n",
    "    data_df[\"entropy_score\"] > high_entropy_threshold\n",
    "  ]\n",
    "\n",
    "  high_entropy_count = math.ceil(bucket_sample_total * 0.7)\n",
    "  medium_entropy_count = math.ceil(bucket_sample_total * 0.2)\n",
    "  low_entropy_count = bucket_sample_total - high_entropy_count - medium_entropy_count\n",
    "\n",
    "  high_entropy_tweets_adjusted = high_entropy_tweets[:high_entropy_count]\n",
    "  medium_entropy_tweets_adjusted = medium_entropy_tweets.sample(n=medium_entropy_count, random_state=42)\n",
    "  low_entropy_tweets_adjusted = low_entropy_tweets.sample(n = low_entropy_count, random_state=42)\n",
    "  \n",
    "  print(high_entropy_count, medium_entropy_count, low_entropy_count)\n",
    "  \n",
    "  concat = pd.concat([high_entropy_tweets_adjusted, medium_entropy_tweets_adjusted, low_entropy_tweets_adjusted], ignore_index=True)\n",
    "  buckets_sampled[bucket_name] = concat.to_dict(orient=\"records\")\n",
    "  \n",
    "merged = []\n",
    "for dd in buckets_sampled.values():\n",
    "  merged.extend(dd)\n",
    "  \n",
    "formatted = []\n",
    "for doc in merged:\n",
    "  formatted.append({\n",
    "    \"data\": {\n",
    "      \"text\": doc[\"content\"],\n",
    "      \"bucket_label\": doc[\"bucket_label\"],\n",
    "      \"prediction_score\": doc[\"prediction_score\"],\n",
    "      \"prediction_result\": doc[\"prediction_result\"],\n",
    "      \"entropy_score\": doc[\"entropy_score\"]\n",
    "      },\n",
    "    \"meta\": {\n",
    "      \"tweet_id\": doc[\"tweet_id\"],\n",
    "      \"time\": doc[\"time\"],\n",
    "      \"author\": doc[\"author\"],\n",
    "      \"comment_count\": doc[\"comment_count\"],\n",
    "      \"repost_count\": doc[\"repost_count\"],\n",
    "      \"like_count\": doc[\"like_count\"],\n",
    "      \"view_count\": doc[\"view_count\"],\n",
    "      \"created_at\": doc[\"created_at\"],\n",
    "    },\n",
    "    \"predictions\": [{\n",
    "      \"model_version\": \"1.0.0\",\n",
    "      \"score\": doc[\"prediction_score\"],\n",
    "      \"result\": [{\n",
    "        \"from_name\": \"sentiment\",\n",
    "        \"to_name\": \"text\",\n",
    "        \"type\": \"choices\",\n",
    "        \"value\": {\"choices\": [doc[\"prediction_result\"]]},\n",
    "      }]\n",
    "    }]\n",
    "  })  \n",
    "\n",
    "with open(\"out/labelstudio/p2/p2_training_prepped.json\", \"w\", encoding=\"utf-8\") as file:\n",
    "  json.dump(formatted, file, ensure_ascii=False, indent=2)\n"
   ]
  }
 ],
 "metadata": {
  "kernelspec": {
   "display_name": "sentiment",
   "language": "python",
   "name": "python3"
  },
  "language_info": {
   "codemirror_mode": {
    "name": "ipython",
    "version": 3
   },
   "file_extension": ".py",
   "mimetype": "text/x-python",
   "name": "python",
   "nbconvert_exporter": "python",
   "pygments_lexer": "ipython3",
   "version": "3.9.22"
  }
 },
 "nbformat": 4,
 "nbformat_minor": 5
}
