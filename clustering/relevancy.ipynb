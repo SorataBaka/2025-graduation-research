{
 "cells": [
  {
   "cell_type": "markdown",
   "id": "f757abc7",
   "metadata": {},
   "source": [
    "# Start parsing label studio"
   ]
  },
  {
   "cell_type": "code",
   "execution_count": null,
   "id": "947e0554",
   "metadata": {},
   "outputs": [],
   "source": [
    "LABEL_STUDIO_DUMP=\"out/labelstudio/p1/p1_training_labeled.json\"\n",
    "LABELED_CLEANED=\"out/labelstudio/p1/p1_training_cleaned.json\""
   ]
  },
  {
   "cell_type": "code",
   "execution_count": null,
   "id": "fe6f2f62",
   "metadata": {},
   "outputs": [],
   "source": [
    "import json\n",
    "with open(LABEL_STUDIO_DUMP, \"r\", encoding=\"utf-8\") as file:\n",
    "  documents = json.load(file)\n",
    "\n",
    "rawdata = [doc[\"data\"] for doc in documents]\n",
    "metadata = [doc[\"meta\"] for doc in documents]\n",
    "annotations = [doc[\"annotations\"][0] for doc in documents]\n",
    "\n",
    "relevant_count = 0;\n",
    "irrelevant_count = 0;\n",
    "\n",
    "relevancy_label_mapping = {\n",
    "  \"relevant\": 1,\n",
    "  \"irrelevant\": 0\n",
    "}\n",
    "\n",
    "for data, annotation, meta in zip(rawdata, annotations, metadata):\n",
    "  label = annotation[\"result\"][0][\"value\"][\"choices\"][0]\n",
    "  if label == \"relevant\":\n",
    "    relevant_count += 1\n",
    "  if label == \"irrelevant\":\n",
    "    irrelevant_count += 1\n",
    "  data[\"relevancy_label\"] = relevancy_label_mapping[label]\n",
    "  data.update(meta)\n",
    "  \n",
    "print(f\"Relevant count: {relevant_count} Irrelevant Count: {irrelevant_count}\")\n",
    "\n",
    "with open(LABELED_CLEANED, \"w\", encoding=\"utf-8\") as file:\n",
    "  json.dump(rawdata, file, ensure_ascii=False, indent=2)\n"
   ]
  },
  {
   "cell_type": "markdown",
   "id": "5bac17c0",
   "metadata": {},
   "source": [
    "## Train initial model for pre-annotation on 700 manually labeled data"
   ]
  },
  {
   "cell_type": "code",
   "execution_count": null,
   "id": "3953ee73",
   "metadata": {},
   "outputs": [],
   "source": [
    "from datasets import load_dataset, ClassLabel, concatenate_datasets\n",
    "\n",
    "# Load the full dataset\n",
    "ds = load_dataset(\"json\", data_files=LABELED_CLEANED)[\"train\"]\n",
    "\n",
    "unique_labels = ds.unique(\"relevancy_label\")\n",
    "class_label = ClassLabel(names=[str(label) for label in unique_labels])\n",
    "ds = ds.cast_column(\"relevancy_label\", class_label)\n",
    "\n",
    "# First split: 80% train, 20% temp (val + test)\n",
    "split_ds = ds.train_test_split(test_size=0.1, seed=42, stratify_by_column=\"relevancy_label\")\n",
    "\n",
    "train_dataset = split_ds[\"train\"]\n",
    "val_dataset = split_ds[\"test\"]\n",
    "\n",
    "print(f\"Train: {len(train_dataset)} samples\")\n",
    "print(f\"Validation: {len(val_dataset)} samples\")"
   ]
  },
  {
   "cell_type": "code",
   "execution_count": null,
   "id": "9a42b255",
   "metadata": {},
   "outputs": [],
   "source": [
    "import re\n",
    "\n",
    "def remove_urls(example):\n",
    "    # Remove http, https, and www URLs\n",
    "    example[\"text\"] = re.sub(r'https?://\\S+|www\\.\\S+', '', example[\"text\"])\n",
    "    return example\n"
   ]
  },
  {
   "cell_type": "code",
   "execution_count": null,
   "id": "87588a39",
   "metadata": {},
   "outputs": [],
   "source": [
    "from transformers import AutoModelForSequenceClassification, AutoTokenizer\n",
    "import torch\n",
    "device = torch.device(\"mps\" if torch.backends.mps.is_available() else \"cpu\")\n",
    "tokenizer = AutoTokenizer.from_pretrained(\"indobenchmark/indobert-base-p2\", cache_dir=\"cache/\")\n",
    "model = AutoModelForSequenceClassification.from_pretrained(\"indobenchmark/indobert-base-p2\", cache_dir=\"cache/\", num_labels=2)\n",
    "model.to(device)"
   ]
  },
  {
   "cell_type": "code",
   "execution_count": null,
   "id": "21cb569c",
   "metadata": {},
   "outputs": [],
   "source": [
    "def tokenizer_function(examples):\n",
    "  return tokenizer(\n",
    "    examples[\"text\"],\n",
    "    padding=\"max_length\",\n",
    "    truncation=True,\n",
    "    max_length=256,\n",
    "    return_tensors=\"pt\" \n",
    "  )"
   ]
  },
  {
   "cell_type": "code",
   "execution_count": null,
   "id": "793ad23d",
   "metadata": {},
   "outputs": [],
   "source": [
    "train_dataset = train_dataset.map(remove_urls)\n",
    "test_dataset = val_dataset.map(remove_urls)"
   ]
  },
  {
   "cell_type": "code",
   "execution_count": null,
   "id": "44ad8082",
   "metadata": {},
   "outputs": [],
   "source": [
    "train_dataset = train_dataset.map(tokenizer_function, batched=True)\n",
    "test_dataset = val_dataset.map(tokenizer_function, batched=True)"
   ]
  },
  {
   "cell_type": "code",
   "execution_count": null,
   "id": "ffc79277",
   "metadata": {},
   "outputs": [],
   "source": [
    "train_dataset = train_dataset.rename_column(\"relevancy_label\", \"labels\")\n",
    "test_dataset = test_dataset.rename_column(\"relevancy_label\", \"labels\")\n",
    "\n",
    "train_dataset.set_format(\"torch\", columns=[\"input_ids\", \"attention_mask\", \"token_type_ids\", \"labels\"])\n",
    "test_dataset.set_format(\"torch\", columns=[\"input_ids\", \"attention_mask\", \"token_type_ids\", \"labels\"])"
   ]
  },
  {
   "cell_type": "code",
   "execution_count": null,
   "id": "8d34feb3",
   "metadata": {},
   "outputs": [],
   "source": [
    "print(train_dataset[0])"
   ]
  },
  {
   "cell_type": "code",
   "execution_count": null,
   "id": "ef995197",
   "metadata": {},
   "outputs": [],
   "source": [
    "from transformers import TrainingArguments\n",
    "\n",
    "training_args = TrainingArguments(\n",
    "  output_dir=\"./results\",\n",
    "  num_train_epochs=7,\n",
    "  per_device_train_batch_size=16,\n",
    "  save_strategy=\"epoch\",\n",
    "  logging_strategy=\"steps\",\n",
    "  logging_steps=5,\n",
    "  load_best_model_at_end=True,\n",
    "  metric_for_best_model=\"accuracy\",\n",
    "  eval_strategy=\"epoch\",\n",
    ")"
   ]
  },
  {
   "cell_type": "code",
   "execution_count": null,
   "id": "13350e25",
   "metadata": {},
   "outputs": [],
   "source": [
    "from transformers import Trainer, default_data_collator\n",
    "import evaluate\n",
    "accuracy_metric = evaluate.load(\"accuracy\")\n",
    "\n",
    "def compute_metrics(eval_pred):\n",
    "    logits, labels = eval_pred\n",
    "    predictions = logits.argmax(axis=-1)\n",
    "    return accuracy_metric.compute(predictions=predictions, references=labels)\n",
    "  \n",
    "trainer = Trainer(\n",
    "  model=model,\n",
    "  args = training_args,\n",
    "  train_dataset=train_dataset,\n",
    "  eval_dataset=test_dataset,\n",
    "  compute_metrics=compute_metrics,\n",
    "  data_collator=default_data_collator,\n",
    ")"
   ]
  },
  {
   "cell_type": "code",
   "execution_count": null,
   "id": "c36159c9",
   "metadata": {},
   "outputs": [],
   "source": [
    "from transformers import Trainer, default_data_collator\n",
    "import evaluate\n",
    "\n",
    "accuracy_metric = evaluate.load(\"accuracy\")\n",
    "trainer = Trainer(\n",
    "  model=model,\n",
    "  args = training_args,\n",
    "  train_dataset=train_dataset,\n",
    "  eval_dataset=test_dataset,\n",
    "  compute_metrics=compute_metrics,\n",
    "  data_collator=default_data_collator,\n",
    ")"
   ]
  },
  {
   "cell_type": "code",
   "execution_count": null,
   "id": "d64e286e",
   "metadata": {},
   "outputs": [],
   "source": [
    "train_dataloader = trainer.get_train_dataloader()\n",
    "batch = next(iter(train_dataloader))\n",
    "print(batch.keys())"
   ]
  },
  {
   "cell_type": "code",
   "execution_count": null,
   "id": "ad8bbcfc",
   "metadata": {},
   "outputs": [],
   "source": [
    "trainer.train()"
   ]
  },
  {
   "cell_type": "code",
   "execution_count": null,
   "id": "c9c172e7",
   "metadata": {},
   "outputs": [],
   "source": [
    "from sklearn.metrics import accuracy_score, precision_recall_fscore_support\n",
    "def compute_metrics(eval_pred):\n",
    "    logits, labels = eval_pred\n",
    "    predictions = logits.argmax(axis=1)\n",
    "    \n",
    "    precision, recall, f1, _ = precision_recall_fscore_support(labels, predictions, average='macro')\n",
    "    acc = accuracy_score(labels, predictions)\n",
    "    \n",
    "    return {\n",
    "        'accuracy': acc,\n",
    "        'f1': f1,\n",
    "        'precision': precision,\n",
    "        'recall': recall\n",
    "    }\n",
    "from transformers import Trainer\n",
    "\n",
    "evaluationTrainer = Trainer(\n",
    "    model = model,\n",
    "    args = training_args,\n",
    "    train_dataset=train_dataset,\n",
    "    eval_dataset=test_dataset,\n",
    "    compute_metrics=compute_metrics\n",
    ")\n",
    "metrics = evaluationTrainer.evaluate()\n",
    "print(metrics)"
   ]
  },
  {
   "cell_type": "code",
   "execution_count": null,
   "id": "92ab5ba5",
   "metadata": {},
   "outputs": [],
   "source": [
    "trainer.save_model(\"models/ruu-tni-relevancy-classification-p1\")\n",
    "tokenizer.save_pretrained(\"tokenizers/ruu-tni-relevancy-classification-p1\")"
   ]
  },
  {
   "cell_type": "code",
   "execution_count": 1,
   "id": "968c0a95",
   "metadata": {},
   "outputs": [
    {
     "name": "stderr",
     "output_type": "stream",
     "text": [
      "/opt/anaconda3/envs/sentiment/lib/python3.9/site-packages/tqdm/auto.py:21: TqdmWarning: IProgress not found. Please update jupyter and ipywidgets. See https://ipywidgets.readthedocs.io/en/stable/user_install.html\n",
      "  from .autonotebook import tqdm as notebook_tqdm\n",
      "model.safetensors: 100%|██████████| 498M/498M [28:00<00:00, 296kB/s]    \n",
      "No files have been modified since last commit. Skipping to prevent empty commit.\n"
     ]
    },
    {
     "data": {
      "text/plain": [
       "CommitInfo(commit_url='https://huggingface.co/tianharjuno/ruu-tni-relevancy-classification-p1/commit/60b2239a510c9193c4e9a918769b50015195efac', commit_message='Upload tokenizer', commit_description='', oid='60b2239a510c9193c4e9a918769b50015195efac', pr_url=None, repo_url=RepoUrl('https://huggingface.co/tianharjuno/ruu-tni-relevancy-classification-p1', endpoint='https://huggingface.co', repo_type='model', repo_id='tianharjuno/ruu-tni-relevancy-classification-p1'), pr_revision=None, pr_num=None)"
      ]
     },
     "execution_count": 1,
     "metadata": {},
     "output_type": "execute_result"
    }
   ],
   "source": [
    "from transformers import AutoModelForSequenceClassification, AutoTokenizer\n",
    "model = AutoModelForSequenceClassification.from_pretrained(\"models/ruu-tni-relevancy-classification-p1\")\n",
    "tokenizers = AutoTokenizer.from_pretrained(\"tokenizers/ruu-tni-relevancy-classification-p1\")\n",
    "model.push_to_hub(\"tianharjuno/ruu-tni-relevancy-classification-p1\")\n",
    "tokenizers.push_to_hub(\"tianharjuno/ruu-tni-relevancy-classification-p1\")"
   ]
  },
  {
   "cell_type": "code",
   "execution_count": 2,
   "id": "d50678d2",
   "metadata": {},
   "outputs": [],
   "source": [
    "import torch\n",
    "from transformers import AutoModelForSequenceClassification, AutoTokenizer\n",
    "model = AutoModelForSequenceClassification.from_pretrained(\"models/ruu-tni-relevancy-classification-p1\", cache_dir=\"cache/\")\n",
    "tokenizers = AutoTokenizer.from_pretrained(\"tokenizers/ruu-tni-relevancy-classification-p1\", cache_dir=\"cache/\")\n",
    "model.eval()\n",
    "\n",
    "def predict(text):\n",
    "  inputs = tokenizers(text, return_tensors=\"pt\", truncation=True, padding=True)\n",
    "  with torch.no_grad():\n",
    "    outputs = model(**inputs)\n",
    "  logits = outputs.logits\n",
    "  \n",
    "  probabilities = torch.softmax(logits, dim=1)\n",
    "  predicted_class_idx = torch.argmax(probabilities, dim=1).item()\n",
    "  \n",
    "  label_mappings = {\n",
    "    1: \"relevant\",\n",
    "    0: \"irrelevant\"\n",
    "  }\n",
    "  \n",
    "  print(f\"Predicted class index: {label_mappings[predicted_class_idx]}\")\n",
    "  print(f\"Probabilities: {probabilities.squeeze().tolist()}\")\n"
   ]
  },
  {
   "cell_type": "code",
   "execution_count": 4,
   "id": "80123862",
   "metadata": {},
   "outputs": [
    {
     "name": "stdout",
     "output_type": "stream",
     "text": [
      "Predicted class index: relevant\n",
      "Probabilities: [0.09890047460794449, 0.9010995626449585]\n"
     ]
    }
   ],
   "source": [
    "predict(\"Kehidupan WNI semakin terancam dengan ruu tni #cabutruutni\")"
   ]
  },
  {
   "cell_type": "markdown",
   "id": "8f50cf27",
   "metadata": {},
   "source": [
    "## Pre-annotation on new sampled data using relevancy stage 1 model."
   ]
  },
  {
   "cell_type": "code",
   "execution_count": null,
   "id": "736c54d2",
   "metadata": {},
   "outputs": [
    {
     "name": "stderr",
     "output_type": "stream",
     "text": [
      "Batch predicting: 100%|██████████| 511/511 [02:44<00:00,  3.11it/s]\n"
     ]
    }
   ],
   "source": [
    "import json\n",
    "import torch\n",
    "from transformers import AutoModelForSequenceClassification, AutoTokenizer\n",
    "from tqdm import tqdm\n",
    "import numpy as np\n",
    "\n",
    "# Load input JSON\n",
    "with open(\"out/indobertweet/indobertweet-kmeans-embed.json\", \"r\", encoding=\"utf-8\") as file:\n",
    "    documents = json.load(file)\n",
    "\n",
    "# Load model and tokenizer\n",
    "model = AutoModelForSequenceClassification.from_pretrained(\n",
    "    \"tianharjuno/ruu-tni-relevancy-classification-p1\", cache_dir=\"cache/\", device_map=None\n",
    ")\n",
    "tokenizer = AutoTokenizer.from_pretrained(\n",
    "    \"tianharjuno/ruu-tni-relevancy-classification-p1\", cache_dir=\"cache/\"\n",
    ")\n",
    "model.eval()\n",
    "device = torch.device(\"mps\" if torch.backends.mps.is_available() and torch.backends.mps.is_built() else \"cpu\")\n",
    "model.to(device)\n",
    "\n",
    "# Prediction function with batching\n",
    "def predict_in_batches(texts, batch_size=32):\n",
    "    results = []\n",
    "    for i in tqdm(range(0, len(texts), batch_size), desc=\"Batch predicting\"):\n",
    "        batch = texts[i:i + batch_size]\n",
    "        inputs = tokenizer(\n",
    "            batch,\n",
    "            return_tensors=\"pt\",\n",
    "            truncation=True,\n",
    "            padding=True,\n",
    "            max_length=256\n",
    "        )\n",
    "        inputs = {k: v.to(device) for k, v in inputs.items()}\n",
    "        with torch.no_grad():\n",
    "            outputs = model(**inputs)\n",
    "        logits = outputs.logits\n",
    "        probs = torch.softmax(logits, dim=1)\n",
    "        indices = torch.argmax(probs, dim=1)\n",
    "        label_map = [\"irrelevant\", \"relevant\"]\n",
    "        batch_results = [\n",
    "            {\"label\": label_map[i.item()], \"score\": probs[j][i].item()}\n",
    "            for j, i in enumerate(indices)\n",
    "        ]\n",
    "        results.extend(batch_results)\n",
    "    return results\n",
    "\n",
    "# Run prediction\n",
    "texts = [doc[\"content\"] for doc in documents]\n",
    "results = predict_in_batches(texts, batch_size=32)\n",
    "\n",
    "#calculate entropy\n",
    "def binary_entropy(p):\n",
    "    p = np.clip(p, 1e-12, 1 - 1e-12)  # Avoid log(0)\n",
    "    return -p * np.log2(p) - (1 - p) * np.log2(1 - p)\n",
    "    \n",
    "parsed_result = []\n",
    "for doc, result in zip(documents, results):\n",
    "    doc[\"prediction_result\"] = result[\"label\"]\n",
    "    doc[\"prediction_score\"] = result[\"score\"]\n",
    "    doc[\"entropy_score\"] = binary_entropy(result[\"score\"])\n",
    "    parsed_result.append(doc)\n",
    "\n",
    "# Save output\n",
    "with open(\"out/labelstudio/p2/p2_training_preannotated.json\", \"w\", encoding=\"utf-8\") as file:\n",
    "    json.dump(parsed_result, file, ensure_ascii=False, indent=2)"
   ]
  },
  {
   "cell_type": "code",
   "execution_count": null,
   "id": "160ce98b",
   "metadata": {},
   "outputs": [],
   "source": [
    "import json\n",
    "import numpy as np\n",
    "\n",
    "def binary_entropy(p):\n",
    "  # Clip p to avoid log(0) issues\n",
    "  p = np.clip(p, 1e-12, 1 - 1e-12)\n",
    "  return -p * np.log2(p) - (1 - p) * np.log2(1 - p)\n",
    "\n",
    "with open(\"out/labelstudio/p2-training/all-tweets-annotated.json\", \"r\", encoding=\"utf-8\") as file:\n",
    "  documents = json.load(file)\n",
    "  \n",
    "for doc in documents:\n",
    "  doc[\"entropy_score\"] = binary_entropy(doc[\"prediction_score\"])\n",
    "    \n",
    "with open(\"out/labelstudio/p2-training/all-tweets-annotated.json\", \"w\", encoding=\"utf-8\") as file:\n",
    "  json.dump(documents, file, ensure_ascii=False, indent=2)"
   ]
  },
  {
   "cell_type": "code",
   "execution_count": 3,
   "id": "a5c3a077",
   "metadata": {},
   "outputs": [
    {
     "name": "stdout",
     "output_type": "stream",
     "text": [
      "16324 1000 15324\n",
      "144 41 20\n",
      "50 15 6\n",
      "224 64 31\n",
      "70 20 10\n",
      "157 45 22\n",
      "119 34 16\n",
      "200 57 28\n",
      "64 19 8\n",
      "111 32 15\n",
      "269 77 37\n"
     ]
    }
   ],
   "source": [
    "\n",
    "import json\n",
    "from collections import defaultdict\n",
    "import math\n",
    "import pandas as pd\n",
    "import random\n",
    "with open(\"out/labelstudio/p2/p2_training_preannotated.json\", \"r\", encoding=\"utf-8\") as file:\n",
    "  documents = json.load(file)\n",
    "with open(\"out/labelstudio/p1/p1_training_cleaned.json\", \"r\", encoding=\"utf-8\") as file:\n",
    "  p1documents = json.load(file)\n",
    "  \n",
    "p1documents_ids = [doc[\"tweet_id\"] for doc in p1documents]\n",
    "\n",
    "purified = []\n",
    "\n",
    "for doc in documents:\n",
    "  found = 0\n",
    "  for ids in p1documents_ids:\n",
    "    if(doc[\"tweet_id\"] == ids):\n",
    "      found = 1\n",
    "  if found == 0:\n",
    "    purified.append(doc)\n",
    "\n",
    "print(len(documents), len(p1documents), len(purified))\n",
    "documents = purified\n",
    "SAMPLE_COUNT = 2000\n",
    "\n",
    "buckets = defaultdict(list)\n",
    "buckets_sampled = defaultdict(list)\n",
    "bucket_content_count = defaultdict(int)\n",
    "bucket_ratio_count = defaultdict(float)\n",
    "data_count = 0\n",
    "\n",
    "for doc in documents:\n",
    "  label = doc[\"bucket_label\"]\n",
    "  buckets[label].append(doc)\n",
    "  bucket_content_count[label] += 1\n",
    "  data_count += 1\n",
    "  \n",
    "for bucket_name, count in bucket_content_count.items():\n",
    "  bucket_ratio_count[bucket_name] = count / data_count\n",
    "  \n",
    "for bucket_name, data in buckets.items():\n",
    "  data.sort(key=lambda x: x[\"entropy_score\"], reverse=True)\n",
    "\n",
    "for bucket_name, data in buckets.items():\n",
    "  bucket_sample_total = math.ceil(bucket_ratio_count[bucket_name] * SAMPLE_COUNT)\n",
    "  data_df = pd.DataFrame(data)\n",
    "  \n",
    "  high_entropy_threshold = data_df[\"entropy_score\"].quantile(0.30)   # 30th percentile (start of high entropy)\n",
    "  medium_entropy_lower = data_df[\"entropy_score\"].quantile(0.50)     # 50th percentile\n",
    "  medium_entropy_upper = data_df[\"entropy_score\"].quantile(0.80)     # 80th percentile\n",
    "  low_entropy_lower = data_df[\"entropy_score\"].quantile(0.10)        # 10th percentile\n",
    "  low_entropy_upper = data_df[\"entropy_score\"].quantile(0.20)        # 20th percentile\n",
    "  \n",
    "  \n",
    "  # High entropy: top 70% entropy, i.e. > 30th percentile\n",
    "  # Print thresholds firs\n",
    "\n",
    "  low_entropy_tweets = data_df[\n",
    "    (data_df[\"entropy_score\"] >= low_entropy_lower) & \n",
    "    (data_df[\"entropy_score\"] <= low_entropy_upper)\n",
    "  ]\n",
    "\n",
    "  medium_entropy_tweets = data_df[\n",
    "    (data_df[\"entropy_score\"] >= medium_entropy_lower) & \n",
    "    (data_df[\"entropy_score\"] <= medium_entropy_upper)\n",
    "  ]\n",
    "\n",
    "  high_entropy_tweets = data_df[\n",
    "    data_df[\"entropy_score\"] > high_entropy_threshold\n",
    "  ]\n",
    "\n",
    "  high_entropy_count = math.ceil(bucket_sample_total * 0.7)\n",
    "  medium_entropy_count = math.ceil(bucket_sample_total * 0.2)\n",
    "  low_entropy_count = bucket_sample_total - high_entropy_count - medium_entropy_count\n",
    "\n",
    "  high_entropy_tweets_adjusted = high_entropy_tweets[:high_entropy_count]\n",
    "  medium_entropy_tweets_adjusted = medium_entropy_tweets.sample(n=medium_entropy_count, random_state=42)\n",
    "  low_entropy_tweets_adjusted = low_entropy_tweets.sample(n = low_entropy_count, random_state=42)\n",
    "  \n",
    "  print(high_entropy_count, medium_entropy_count, low_entropy_count)\n",
    "  \n",
    "  concat = pd.concat([high_entropy_tweets_adjusted, medium_entropy_tweets_adjusted, low_entropy_tweets_adjusted], ignore_index=True)\n",
    "  buckets_sampled[bucket_name] = concat.to_dict(orient=\"records\")\n",
    "  \n",
    "merged = []\n",
    "for dd in buckets_sampled.values():\n",
    "  merged.extend(dd)\n",
    "  \n",
    "formatted = []\n",
    "for doc in merged:\n",
    "  formatted.append({\n",
    "    \"data\": {\n",
    "      \"text\": doc[\"content\"],\n",
    "      \"bucket_label\": doc[\"bucket_label\"],\n",
    "      \"prediction_score\": doc[\"prediction_score\"],\n",
    "      \"prediction_result\": doc[\"prediction_result\"],\n",
    "      \"entropy_score\": doc[\"entropy_score\"]\n",
    "      },\n",
    "    \"meta\": {\n",
    "      \"tweet_id\": doc[\"tweet_id\"],\n",
    "      \"time\": doc[\"time\"],\n",
    "      \"author\": doc[\"author\"],\n",
    "      \"comment_count\": doc[\"comment_count\"],\n",
    "      \"repost_count\": doc[\"repost_count\"],\n",
    "      \"like_count\": doc[\"like_count\"],\n",
    "      \"view_count\": doc[\"view_count\"],\n",
    "      \"created_at\": doc[\"created_at\"],\n",
    "    },\n",
    "    \"predictions\": [{\n",
    "      \"model_version\": \"1.0.0\",\n",
    "      \"score\": doc[\"prediction_score\"],\n",
    "      \"result\": [{\n",
    "        \"from_name\": \"sentiment\",\n",
    "        \"to_name\": \"text\",\n",
    "        \"type\": \"choices\",\n",
    "        \"value\": {\"choices\": [doc[\"prediction_result\"]]},\n",
    "      }]\n",
    "    }]\n",
    "  })  \n",
    "\n",
    "with open(\"out/labelstudio/p2/p2_training_prepped.json\", \"w\", encoding=\"utf-8\") as file:\n",
    "  json.dump(formatted, file, ensure_ascii=False, indent=2)\n"
   ]
  },
  {
   "cell_type": "code",
   "execution_count": null,
   "id": "d3bb89a6",
   "metadata": {},
   "outputs": [],
   "source": [
    "import json\n",
    "with open(\"out/labelstudio/p2-training/all-tweets-annotated-sampled.json\", \"r\", encoding=\"utf-8\") as file:\n",
    "  documents = json.load(file)\n",
    "print(len(documents))"
   ]
  }
 ],
 "metadata": {
  "kernelspec": {
   "display_name": "sentiment",
   "language": "python",
   "name": "python3"
  },
  "language_info": {
   "codemirror_mode": {
    "name": "ipython",
    "version": 3
   },
   "file_extension": ".py",
   "mimetype": "text/x-python",
   "name": "python",
   "nbconvert_exporter": "python",
   "pygments_lexer": "ipython3",
   "version": "3.9.21"
  }
 },
 "nbformat": 4,
 "nbformat_minor": 5
}
