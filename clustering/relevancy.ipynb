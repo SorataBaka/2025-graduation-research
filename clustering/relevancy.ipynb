{
 "cells": [
  {
   "cell_type": "markdown",
   "id": "f757abc7",
   "metadata": {},
   "source": [
    "# Start parsing label studio"
   ]
  },
  {
   "cell_type": "code",
   "execution_count": 105,
   "id": "947e0554",
   "metadata": {},
   "outputs": [],
   "source": [
    "LABEL_STUDIO_DUMP=\"out/labelstudio/p1/p1_training_labeled.json\"\n",
    "LABELED_CLEANED=\"out/labelstudio/p1/p1_training_cleaned.json\""
   ]
  },
  {
   "cell_type": "code",
   "execution_count": 106,
   "id": "fe6f2f62",
   "metadata": {},
   "outputs": [
    {
     "name": "stdout",
     "output_type": "stream",
     "text": [
      "Relevant count: 422 Irrelevant Count: 678\n"
     ]
    }
   ],
   "source": [
    "import json\n",
    "with open(LABEL_STUDIO_DUMP, \"r\", encoding=\"utf-8\") as file:\n",
    "  documents = json.load(file)\n",
    "\n",
    "rawdata = [doc[\"data\"] for doc in documents]\n",
    "metadata = [doc[\"meta\"] for doc in documents]\n",
    "annotations = [doc[\"annotations\"][0] for doc in documents]\n",
    "\n",
    "relevant_count = 0;\n",
    "irrelevant_count = 0;\n",
    "\n",
    "relevancy_label_mapping = {\n",
    "  \"relevant\": 1,\n",
    "  \"irrelevant\": 0\n",
    "}\n",
    "\n",
    "for data, annotation, meta in zip(rawdata, annotations, metadata):\n",
    "  label = annotation[\"result\"][0][\"value\"][\"choices\"][0]\n",
    "  if label == \"relevant\":\n",
    "    relevant_count += 1\n",
    "  if label == \"irrelevant\":\n",
    "    irrelevant_count += 1\n",
    "  data[\"relevancy_label\"] = relevancy_label_mapping[label]\n",
    "  data.update(meta)\n",
    "  \n",
    "print(f\"Relevant count: {relevant_count} Irrelevant Count: {irrelevant_count}\")\n",
    "\n",
    "with open(LABELED_CLEANED, \"w\", encoding=\"utf-8\") as file:\n",
    "  json.dump(rawdata, file, ensure_ascii=False, indent=2)\n"
   ]
  },
  {
   "cell_type": "markdown",
   "id": "5bac17c0",
   "metadata": {},
   "source": [
    "## Train initial model for pre-annotation on 700 manually labeled data"
   ]
  },
  {
   "cell_type": "code",
   "execution_count": 107,
   "id": "3953ee73",
   "metadata": {},
   "outputs": [
    {
     "name": "stderr",
     "output_type": "stream",
     "text": [
      "Generating train split: 1100 examples [00:00, 18264.55 examples/s]\n",
      "Casting the dataset: 100%|██████████| 1100/1100 [00:00<00:00, 428188.81 examples/s]\n",
      "Casting the dataset: 100%|██████████| 1100/1100 [00:00<00:00, 471077.64 examples/s]"
     ]
    },
    {
     "name": "stdout",
     "output_type": "stream",
     "text": [
      "Train: 990 samples\n",
      "Validation: 110 samples\n"
     ]
    },
    {
     "name": "stderr",
     "output_type": "stream",
     "text": [
      "\n"
     ]
    }
   ],
   "source": [
    "from datasets import load_dataset, ClassLabel, concatenate_datasets\n",
    "\n",
    "# Load the full dataset\n",
    "ds = load_dataset(\"json\", data_files=LABELED_CLEANED)[\"train\"]\n",
    "\n",
    "from datasets import ClassLabel\n",
    "\n",
    "# Define number of classes\n",
    "num_classes = len(set(ds[\"bucket_label\"]))\n",
    "\n",
    "# Replace column with ClassLabel version\n",
    "class_label = ClassLabel(num_classes=num_classes, names=[str(i) for i in range(num_classes)])\n",
    "ds = ds.cast_column(\"bucket_label\", class_label)\n",
    "\n",
    "unique_labels = ds.unique(\"relevancy_label\")\n",
    "class_label = ClassLabel(names=[str(label) for label in unique_labels])\n",
    "ds = ds.cast_column(\"relevancy_label\", class_label)\n",
    "\n",
    "# First split: 80% train, 20% temp (val + test)\n",
    "split_ds = ds.train_test_split(test_size=0.1, seed=42, stratify_by_column=\"relevancy_label\")\n",
    "\n",
    "train_dataset = split_ds[\"train\"]\n",
    "val_dataset = split_ds[\"test\"]\n",
    "\n",
    "print(f\"Train: {len(train_dataset)} samples\")\n",
    "print(f\"Validation: {len(val_dataset)} samples\")"
   ]
  },
  {
   "cell_type": "code",
   "execution_count": 108,
   "id": "9a42b255",
   "metadata": {},
   "outputs": [],
   "source": [
    "import re\n",
    "\n",
    "def remove_urls(example):\n",
    "    # Remove http, https, and www URLs\n",
    "    example[\"text\"] = re.sub(r'<url>', '', example[\"text\"])\n",
    "    return example\n"
   ]
  },
  {
   "cell_type": "code",
   "execution_count": 109,
   "id": "87588a39",
   "metadata": {},
   "outputs": [
    {
     "name": "stderr",
     "output_type": "stream",
     "text": [
      "Some weights of CustomModel were not initialized from the model checkpoint at indolem/indobertweet-base-uncased and are newly initialized: ['classifier.bias', 'classifier.weight', 'loss_fct.weight']\n",
      "You should probably TRAIN this model on a down-stream task to be able to use it for predictions and inference.\n",
      "The new embeddings will be initialized from a multivariate normal distribution that has old embeddings' mean and covariance. As described in this article: https://nlp.stanford.edu/~johnhew/vocab-expansion.html. To disable this, use `mean_resizing=False`\n"
     ]
    },
    {
     "data": {
      "text/plain": [
       "Embedding(32010, 768, padding_idx=0)"
      ]
     },
     "execution_count": 109,
     "metadata": {},
     "output_type": "execute_result"
    }
   ],
   "source": [
    "from transformers import AutoTokenizer, BertForSequenceClassification\n",
    "import torch\n",
    "import torch.nn as nn\n",
    "import json\n",
    "from sklearn.utils import class_weight\n",
    "import numpy as np\n",
    "device = torch.device(\"mps\" if torch.backends.mps.is_available() else \"cpu\")\n",
    "class CustomModel(BertForSequenceClassification):\n",
    "  def __init__(self, config, class_weights=None):\n",
    "    super().__init__(config)\n",
    "    labels = np.array(train_dataset[\"relevancy_label\"])\n",
    "    weights = class_weight.compute_class_weight(\n",
    "      class_weight=\"balanced\",\n",
    "      classes = np.array([0, 1]),\n",
    "      y = labels\n",
    "    )\n",
    "    device = torch.device(\"mps\" if torch.backends.mps.is_available() else \"cpu\")\n",
    "\n",
    "    self.class_weights = torch.tensor(weights, dtype=torch.float).to(device)\n",
    "    weight = torch.tensor([1.0, 1.0], dtype=torch.float).to(device)\n",
    "    self.loss_fct = nn.CrossEntropyLoss(weight=class_weights) if class_weights is not None else nn.CrossEntropyLoss(weight=weight)\n",
    "\n",
    "  def forward(self, input_ids=None, attention_mask=None, labels=None):\n",
    "    outputs = super().forward(input_ids, attention_mask=attention_mask)\n",
    "    logits = outputs.logits\n",
    "\n",
    "    loss = None\n",
    "    if labels is not None:\n",
    "        loss = self.loss_fct(logits, labels)\n",
    "\n",
    "    return (loss, logits) if loss is not None else logits\n",
    "\n",
    "with open(\"out/hashtag_list.json\", \"r\") as file:\n",
    "  hashtags = json.load(file)\n",
    "\n",
    "tokenizer = AutoTokenizer.from_pretrained(\"indolem/indobertweet-base-uncased\", cache_dir=\"cache/\")\n",
    "model = CustomModel.from_pretrained(\"indolem/indobertweet-base-uncased\", cache_dir=\"cache/\", num_labels=2)\n",
    "model.to(device)\n",
    "tokenizer.add_tokens(hashtags)\n",
    "model.resize_token_embeddings(len(tokenizer))"
   ]
  },
  {
   "cell_type": "code",
   "execution_count": 110,
   "id": "21cb569c",
   "metadata": {},
   "outputs": [],
   "source": [
    "def tokenizer_function(examples):\n",
    "  return tokenizer(\n",
    "    examples[\"text\"],\n",
    "    padding=\"max_length\",\n",
    "    truncation=True,\n",
    "    max_length=256,\n",
    "    return_tensors=\"pt\" \n",
    "  )"
   ]
  },
  {
   "cell_type": "code",
   "execution_count": 111,
   "id": "44ad8082",
   "metadata": {},
   "outputs": [
    {
     "name": "stderr",
     "output_type": "stream",
     "text": [
      "Map: 100%|██████████| 990/990 [00:00<00:00, 15859.30 examples/s]\n",
      "Map: 100%|██████████| 110/110 [00:00<00:00, 16311.59 examples/s]\n",
      "Map: 100%|██████████| 990/990 [00:00<00:00, 9346.42 examples/s]\n",
      "Map: 100%|██████████| 110/110 [00:00<00:00, 9636.44 examples/s]\n"
     ]
    }
   ],
   "source": [
    "train_dataset = train_dataset.map(remove_urls)\n",
    "test_dataset = val_dataset.map(remove_urls)\n",
    "train_dataset = train_dataset.map(tokenizer_function, batched=True)\n",
    "test_dataset = val_dataset.map(tokenizer_function, batched=True)"
   ]
  },
  {
   "cell_type": "code",
   "execution_count": 112,
   "id": "ffc79277",
   "metadata": {},
   "outputs": [],
   "source": [
    "train_dataset = train_dataset.rename_column(\"relevancy_label\", \"labels\")\n",
    "test_dataset = test_dataset.rename_column(\"relevancy_label\", \"labels\")\n",
    "\n",
    "train_dataset.set_format(\"torch\", columns=[\"input_ids\", \"attention_mask\", \"token_type_ids\", \"labels\"])\n",
    "test_dataset.set_format(\"torch\", columns=[\"input_ids\", \"attention_mask\", \"token_type_ids\", \"labels\"])"
   ]
  },
  {
   "cell_type": "code",
   "execution_count": 113,
   "id": "8d34feb3",
   "metadata": {},
   "outputs": [
    {
     "name": "stdout",
     "output_type": "stream",
     "text": [
      "{'labels': tensor(0), 'input_ids': tensor([    3,  6008,  2472,  9969, 20362,  1501, 16463,  4052,  1519,    16,\n",
      "         9929,  1529,  1585,  2046,   945,    16, 22578,  8478,    35, 31937,\n",
      "        31923,  1540,  1580,  5406,    18,     4,     0,     0,     0,     0,\n",
      "            0,     0,     0,     0,     0,     0,     0,     0,     0,     0,\n",
      "            0,     0,     0,     0,     0,     0,     0,     0,     0,     0,\n",
      "            0,     0,     0,     0,     0,     0,     0,     0,     0,     0,\n",
      "            0,     0,     0,     0,     0,     0,     0,     0,     0,     0,\n",
      "            0,     0,     0,     0,     0,     0,     0,     0,     0,     0,\n",
      "            0,     0,     0,     0,     0,     0,     0,     0,     0,     0,\n",
      "            0,     0,     0,     0,     0,     0,     0,     0,     0,     0,\n",
      "            0,     0,     0,     0,     0,     0,     0,     0,     0,     0,\n",
      "            0,     0,     0,     0,     0,     0,     0,     0,     0,     0,\n",
      "            0,     0,     0,     0,     0,     0,     0,     0,     0,     0,\n",
      "            0,     0,     0,     0,     0,     0,     0,     0,     0,     0,\n",
      "            0,     0,     0,     0,     0,     0,     0,     0,     0,     0,\n",
      "            0,     0,     0,     0,     0,     0,     0,     0,     0,     0,\n",
      "            0,     0,     0,     0,     0,     0,     0,     0,     0,     0,\n",
      "            0,     0,     0,     0,     0,     0,     0,     0,     0,     0,\n",
      "            0,     0,     0,     0,     0,     0,     0,     0,     0,     0,\n",
      "            0,     0,     0,     0,     0,     0,     0,     0,     0,     0,\n",
      "            0,     0,     0,     0,     0,     0,     0,     0,     0,     0,\n",
      "            0,     0,     0,     0,     0,     0,     0,     0,     0,     0,\n",
      "            0,     0,     0,     0,     0,     0,     0,     0,     0,     0,\n",
      "            0,     0,     0,     0,     0,     0,     0,     0,     0,     0,\n",
      "            0,     0,     0,     0,     0,     0,     0,     0,     0,     0,\n",
      "            0,     0,     0,     0,     0,     0]), 'token_type_ids': tensor([0, 0, 0, 0, 0, 0, 0, 0, 0, 0, 0, 0, 0, 0, 0, 0, 0, 0, 0, 0, 0, 0, 0, 0,\n",
      "        0, 0, 0, 0, 0, 0, 0, 0, 0, 0, 0, 0, 0, 0, 0, 0, 0, 0, 0, 0, 0, 0, 0, 0,\n",
      "        0, 0, 0, 0, 0, 0, 0, 0, 0, 0, 0, 0, 0, 0, 0, 0, 0, 0, 0, 0, 0, 0, 0, 0,\n",
      "        0, 0, 0, 0, 0, 0, 0, 0, 0, 0, 0, 0, 0, 0, 0, 0, 0, 0, 0, 0, 0, 0, 0, 0,\n",
      "        0, 0, 0, 0, 0, 0, 0, 0, 0, 0, 0, 0, 0, 0, 0, 0, 0, 0, 0, 0, 0, 0, 0, 0,\n",
      "        0, 0, 0, 0, 0, 0, 0, 0, 0, 0, 0, 0, 0, 0, 0, 0, 0, 0, 0, 0, 0, 0, 0, 0,\n",
      "        0, 0, 0, 0, 0, 0, 0, 0, 0, 0, 0, 0, 0, 0, 0, 0, 0, 0, 0, 0, 0, 0, 0, 0,\n",
      "        0, 0, 0, 0, 0, 0, 0, 0, 0, 0, 0, 0, 0, 0, 0, 0, 0, 0, 0, 0, 0, 0, 0, 0,\n",
      "        0, 0, 0, 0, 0, 0, 0, 0, 0, 0, 0, 0, 0, 0, 0, 0, 0, 0, 0, 0, 0, 0, 0, 0,\n",
      "        0, 0, 0, 0, 0, 0, 0, 0, 0, 0, 0, 0, 0, 0, 0, 0, 0, 0, 0, 0, 0, 0, 0, 0,\n",
      "        0, 0, 0, 0, 0, 0, 0, 0, 0, 0, 0, 0, 0, 0, 0, 0]), 'attention_mask': tensor([1, 1, 1, 1, 1, 1, 1, 1, 1, 1, 1, 1, 1, 1, 1, 1, 1, 1, 1, 1, 1, 1, 1, 1,\n",
      "        1, 1, 0, 0, 0, 0, 0, 0, 0, 0, 0, 0, 0, 0, 0, 0, 0, 0, 0, 0, 0, 0, 0, 0,\n",
      "        0, 0, 0, 0, 0, 0, 0, 0, 0, 0, 0, 0, 0, 0, 0, 0, 0, 0, 0, 0, 0, 0, 0, 0,\n",
      "        0, 0, 0, 0, 0, 0, 0, 0, 0, 0, 0, 0, 0, 0, 0, 0, 0, 0, 0, 0, 0, 0, 0, 0,\n",
      "        0, 0, 0, 0, 0, 0, 0, 0, 0, 0, 0, 0, 0, 0, 0, 0, 0, 0, 0, 0, 0, 0, 0, 0,\n",
      "        0, 0, 0, 0, 0, 0, 0, 0, 0, 0, 0, 0, 0, 0, 0, 0, 0, 0, 0, 0, 0, 0, 0, 0,\n",
      "        0, 0, 0, 0, 0, 0, 0, 0, 0, 0, 0, 0, 0, 0, 0, 0, 0, 0, 0, 0, 0, 0, 0, 0,\n",
      "        0, 0, 0, 0, 0, 0, 0, 0, 0, 0, 0, 0, 0, 0, 0, 0, 0, 0, 0, 0, 0, 0, 0, 0,\n",
      "        0, 0, 0, 0, 0, 0, 0, 0, 0, 0, 0, 0, 0, 0, 0, 0, 0, 0, 0, 0, 0, 0, 0, 0,\n",
      "        0, 0, 0, 0, 0, 0, 0, 0, 0, 0, 0, 0, 0, 0, 0, 0, 0, 0, 0, 0, 0, 0, 0, 0,\n",
      "        0, 0, 0, 0, 0, 0, 0, 0, 0, 0, 0, 0, 0, 0, 0, 0])}\n"
     ]
    }
   ],
   "source": [
    "print(train_dataset[0])"
   ]
  },
  {
   "cell_type": "code",
   "execution_count": 114,
   "id": "ef995197",
   "metadata": {},
   "outputs": [],
   "source": [
    "from transformers import TrainingArguments\n",
    "\n",
    "training_args = TrainingArguments(\n",
    "  output_dir=\"./results\",\n",
    "  num_train_epochs=5,\n",
    "  per_device_train_batch_size=16,\n",
    "  save_strategy=\"epoch\",\n",
    "  logging_strategy=\"steps\",\n",
    "  logging_steps=50,\n",
    "  load_best_model_at_end=True,\n",
    "  metric_for_best_model=\"eval_precision\",\n",
    "  greater_is_better=True,\n",
    "  eval_strategy=\"epoch\",\n",
    "  warmup_ratio=0.1,\n",
    "  weight_decay=0.05,\n",
    "  learning_rate=3e-5,\n",
    "  lr_scheduler_type=\"linear\"\n",
    ")"
   ]
  },
  {
   "cell_type": "code",
   "execution_count": 115,
   "id": "13350e25",
   "metadata": {},
   "outputs": [],
   "source": [
    "from transformers import Trainer, default_data_collator\n",
    "from torch.optim import AdamW\n",
    "import evaluate\n",
    "import numpy as np\n",
    "accuracy_metric = evaluate.load(\"accuracy\")\n",
    "from sklearn.metrics import (\n",
    "    accuracy_score,\n",
    "    precision_recall_fscore_support,\n",
    ")\n",
    "\n",
    "\n",
    "def compute_metrics(eval_pred):\n",
    "    \"\"\"\n",
    "    eval_pred is a transformers EvalPrediction: (logits, labels)\n",
    "    Returns a dict whose keys become 'eval_<key>' in Trainer logs.\n",
    "    \"\"\"\n",
    "    logits, labels = eval_pred\n",
    "    # Convert to numpy, take argmax for predicted class (0/1).\n",
    "    preds = np.argmax(logits, axis=-1)\n",
    "\n",
    "    # F1, precision, recall for the positive class (1 = relevant)\n",
    "    precision, recall, f1, _ = precision_recall_fscore_support(\n",
    "        labels, preds, average=\"binary\", pos_label=1, zero_division=0\n",
    "    )\n",
    "\n",
    "    acc = accuracy_score(labels, preds)\n",
    "\n",
    "    return {\n",
    "        \"eval_accuracy\": acc,\n",
    "        \"eval_precision\": precision,\n",
    "        \"eval_recall\": recall,\n",
    "        \"eval_f1\": f1,\n",
    "    }\n",
    "  \n",
    "trainer = Trainer(\n",
    "  model=model,\n",
    "  args = training_args,\n",
    "  train_dataset=train_dataset,\n",
    "  eval_dataset=test_dataset,\n",
    "  compute_metrics=compute_metrics,\n",
    "  data_collator=default_data_collator,\n",
    "  optimizers=(AdamW(model.parameters(), lr=5e-5), None)\n",
    ")"
   ]
  },
  {
   "cell_type": "code",
   "execution_count": 116,
   "id": "c36159c9",
   "metadata": {},
   "outputs": [],
   "source": [
    "from transformers import Trainer, default_data_collator\n",
    "import evaluate\n",
    "\n",
    "accuracy_metric = evaluate.load(\"accuracy\")\n",
    "trainer = Trainer(\n",
    "  model=model,\n",
    "  args = training_args,\n",
    "  train_dataset=train_dataset,\n",
    "  eval_dataset=test_dataset,\n",
    "  compute_metrics=compute_metrics,\n",
    "  data_collator=default_data_collator,\n",
    ")"
   ]
  },
  {
   "cell_type": "code",
   "execution_count": 117,
   "id": "d64e286e",
   "metadata": {},
   "outputs": [
    {
     "name": "stdout",
     "output_type": "stream",
     "text": [
      "dict_keys(['labels', 'input_ids', 'attention_mask'])\n"
     ]
    },
    {
     "name": "stderr",
     "output_type": "stream",
     "text": [
      "/Users/christianharjuno/anaconda3/envs/sentiment/lib/python3.9/site-packages/torch/utils/data/dataloader.py:683: UserWarning: 'pin_memory' argument is set as true but not supported on MPS now, then device pinned memory won't be used.\n",
      "  warnings.warn(warn_msg)\n"
     ]
    }
   ],
   "source": [
    "train_dataloader = trainer.get_train_dataloader()\n",
    "batch = next(iter(train_dataloader))\n",
    "print(batch.keys())"
   ]
  },
  {
   "cell_type": "code",
   "execution_count": 118,
   "id": "ad8bbcfc",
   "metadata": {},
   "outputs": [
    {
     "data": {
      "text/html": [
       "\n",
       "    <div>\n",
       "      \n",
       "      <progress value='310' max='310' style='width:300px; height:20px; vertical-align: middle;'></progress>\n",
       "      [310/310 06:48, Epoch 5/5]\n",
       "    </div>\n",
       "    <table border=\"1\" class=\"dataframe\">\n",
       "  <thead>\n",
       " <tr style=\"text-align: left;\">\n",
       "      <th>Epoch</th>\n",
       "      <th>Training Loss</th>\n",
       "      <th>Validation Loss</th>\n",
       "      <th>Accuracy</th>\n",
       "      <th>Precision</th>\n",
       "      <th>Recall</th>\n",
       "      <th>F1</th>\n",
       "    </tr>\n",
       "  </thead>\n",
       "  <tbody>\n",
       "    <tr>\n",
       "      <td>1</td>\n",
       "      <td>0.525900</td>\n",
       "      <td>0.239508</td>\n",
       "      <td>0.918182</td>\n",
       "      <td>0.866667</td>\n",
       "      <td>0.928571</td>\n",
       "      <td>0.896552</td>\n",
       "    </tr>\n",
       "    <tr>\n",
       "      <td>2</td>\n",
       "      <td>0.256600</td>\n",
       "      <td>0.209786</td>\n",
       "      <td>0.936364</td>\n",
       "      <td>0.888889</td>\n",
       "      <td>0.952381</td>\n",
       "      <td>0.919540</td>\n",
       "    </tr>\n",
       "    <tr>\n",
       "      <td>3</td>\n",
       "      <td>0.185900</td>\n",
       "      <td>0.245267</td>\n",
       "      <td>0.927273</td>\n",
       "      <td>0.869565</td>\n",
       "      <td>0.952381</td>\n",
       "      <td>0.909091</td>\n",
       "    </tr>\n",
       "    <tr>\n",
       "      <td>4</td>\n",
       "      <td>0.120900</td>\n",
       "      <td>0.283119</td>\n",
       "      <td>0.909091</td>\n",
       "      <td>0.880952</td>\n",
       "      <td>0.880952</td>\n",
       "      <td>0.880952</td>\n",
       "    </tr>\n",
       "    <tr>\n",
       "      <td>5</td>\n",
       "      <td>0.051100</td>\n",
       "      <td>0.313073</td>\n",
       "      <td>0.927273</td>\n",
       "      <td>0.869565</td>\n",
       "      <td>0.952381</td>\n",
       "      <td>0.909091</td>\n",
       "    </tr>\n",
       "  </tbody>\n",
       "</table><p>"
      ],
      "text/plain": [
       "<IPython.core.display.HTML object>"
      ]
     },
     "metadata": {},
     "output_type": "display_data"
    },
    {
     "name": "stderr",
     "output_type": "stream",
     "text": [
      "/Users/christianharjuno/anaconda3/envs/sentiment/lib/python3.9/site-packages/torch/utils/data/dataloader.py:683: UserWarning: 'pin_memory' argument is set as true but not supported on MPS now, then device pinned memory won't be used.\n",
      "  warnings.warn(warn_msg)\n",
      "/Users/christianharjuno/anaconda3/envs/sentiment/lib/python3.9/site-packages/torch/utils/data/dataloader.py:683: UserWarning: 'pin_memory' argument is set as true but not supported on MPS now, then device pinned memory won't be used.\n",
      "  warnings.warn(warn_msg)\n",
      "/Users/christianharjuno/anaconda3/envs/sentiment/lib/python3.9/site-packages/torch/utils/data/dataloader.py:683: UserWarning: 'pin_memory' argument is set as true but not supported on MPS now, then device pinned memory won't be used.\n",
      "  warnings.warn(warn_msg)\n",
      "/Users/christianharjuno/anaconda3/envs/sentiment/lib/python3.9/site-packages/torch/utils/data/dataloader.py:683: UserWarning: 'pin_memory' argument is set as true but not supported on MPS now, then device pinned memory won't be used.\n",
      "  warnings.warn(warn_msg)\n"
     ]
    },
    {
     "data": {
      "text/plain": [
       "TrainOutput(global_step=310, training_loss=0.2021661719968242, metrics={'train_runtime': 410.6521, 'train_samples_per_second': 12.054, 'train_steps_per_second': 0.755, 'total_flos': 651199862016000.0, 'train_loss': 0.2021661719968242, 'epoch': 5.0})"
      ]
     },
     "execution_count": 118,
     "metadata": {},
     "output_type": "execute_result"
    }
   ],
   "source": [
    "trainer.train()"
   ]
  },
  {
   "cell_type": "code",
   "execution_count": 119,
   "id": "c9c172e7",
   "metadata": {},
   "outputs": [
    {
     "name": "stderr",
     "output_type": "stream",
     "text": [
      "/Users/christianharjuno/anaconda3/envs/sentiment/lib/python3.9/site-packages/torch/utils/data/dataloader.py:683: UserWarning: 'pin_memory' argument is set as true but not supported on MPS now, then device pinned memory won't be used.\n",
      "  warnings.warn(warn_msg)\n"
     ]
    },
    {
     "data": {
      "text/html": [],
      "text/plain": [
       "<IPython.core.display.HTML object>"
      ]
     },
     "metadata": {},
     "output_type": "display_data"
    },
    {
     "name": "stderr",
     "output_type": "stream",
     "text": [
      "/Users/christianharjuno/anaconda3/envs/sentiment/lib/python3.9/site-packages/torch/utils/data/dataloader.py:683: UserWarning: 'pin_memory' argument is set as true but not supported on MPS now, then device pinned memory won't be used.\n",
      "  warnings.warn(warn_msg)\n"
     ]
    },
    {
     "name": "stdout",
     "output_type": "stream",
     "text": [
      "\n",
      "=== Confusion Matrix ===\n",
      "[[63  5]\n",
      " [ 2 40]]\n",
      "\n",
      "=== Classification Report ===\n",
      "              precision    recall  f1-score   support\n",
      "\n",
      "  irrelevant     0.9692    0.9265    0.9474        68\n",
      "    relevant     0.8889    0.9524    0.9195        42\n",
      "\n",
      "    accuracy                         0.9364       110\n",
      "   macro avg     0.9291    0.9394    0.9335       110\n",
      "weighted avg     0.9386    0.9364    0.9367       110\n",
      "\n",
      "=== Scalar metrics returned by Trainer ===\n",
      "eval_loss           : 0.2098\n",
      "eval_model_preparation_time: 0.0010\n",
      "eval_accuracy       : 0.9364\n",
      "eval_macro_f1       : 0.9335\n",
      "eval_macro_precision: 0.9291\n",
      "eval_macro_recall   : 0.9394\n",
      "eval_irrelevant_precision: 0.9692\n",
      "eval_irrelevant_recall: 0.9265\n",
      "eval_irrelevant_f1  : 0.9474\n",
      "eval_irrelevant_support: 68.0000\n",
      "eval_relevant_precision: 0.8889\n",
      "eval_relevant_recall: 0.9524\n",
      "eval_relevant_f1    : 0.9195\n",
      "eval_relevant_support: 42.0000\n",
      "eval_runtime        : 2.9233\n",
      "eval_samples_per_second: 37.6290\n",
      "eval_steps_per_second: 4.7890\n"
     ]
    }
   ],
   "source": [
    "from sklearn.metrics import (\n",
    "    accuracy_score,\n",
    "    precision_recall_fscore_support,\n",
    "    confusion_matrix,\n",
    "    classification_report,\n",
    ")\n",
    "\n",
    "CLASS_NAMES = [\"irrelevant\", \"relevant\"]  # adjust if you have more\n",
    "\n",
    "def compute_metrics(eval_pred):\n",
    "    logits, labels = eval_pred\n",
    "    preds = logits.argmax(axis=1)\n",
    "\n",
    "    # overall (macro) metrics\n",
    "    macro_p, macro_r, macro_f1, _ = precision_recall_fscore_support(\n",
    "        labels, preds, average=\"macro\", zero_division=0\n",
    "    )\n",
    "    acc = accuracy_score(labels, preds)\n",
    "\n",
    "    # per-class metrics\n",
    "    per_class = precision_recall_fscore_support(labels, preds, average=None, zero_division=0)\n",
    "    p_cls, r_cls, f1_cls, support_cls = per_class\n",
    "\n",
    "    # Flatten per-class metrics into scalars in the returned dict\n",
    "    metrics = {\n",
    "        \"accuracy\": acc,\n",
    "        \"macro_f1\": macro_f1,\n",
    "        \"macro_precision\": macro_p,\n",
    "        \"macro_recall\": macro_r,\n",
    "    }\n",
    "    for idx, name in enumerate(CLASS_NAMES):\n",
    "        metrics[f\"{name}_precision\"] = p_cls[idx]\n",
    "        metrics[f\"{name}_recall\"]    = r_cls[idx]\n",
    "        metrics[f\"{name}_f1\"]        = f1_cls[idx]\n",
    "        metrics[f\"{name}_support\"]   = support_cls[idx]\n",
    "\n",
    "    return metrics\n",
    "\n",
    "from transformers import Trainer\n",
    "\n",
    "evaluation_trainer = Trainer(\n",
    "    model=model,\n",
    "    args=training_args,\n",
    "    train_dataset=train_dataset,\n",
    "    eval_dataset=test_dataset,\n",
    "    compute_metrics=compute_metrics,\n",
    ")\n",
    "metrics = evaluation_trainer.evaluate()\n",
    "pred_out = evaluation_trainer.predict(test_dataset)\n",
    "preds  = pred_out.predictions.argmax(axis=1)\n",
    "labels = pred_out.label_ids\n",
    "\n",
    "print(\"\\n=== Confusion Matrix ===\")\n",
    "print(confusion_matrix(labels, preds))\n",
    "\n",
    "print(\"\\n=== Classification Report ===\")\n",
    "print(classification_report(labels, preds, target_names=CLASS_NAMES, digits=4))\n",
    "\n",
    "print(\"=== Scalar metrics returned by Trainer ===\")\n",
    "for k, v in metrics.items():\n",
    "    print(f\"{k:20s}: {v:.4f}\")"
   ]
  },
  {
   "cell_type": "code",
   "execution_count": 120,
   "id": "92ab5ba5",
   "metadata": {},
   "outputs": [
    {
     "data": {
      "text/plain": [
       "('tokenizers/ruu-tni-relevancy-classification-p1/tokenizer_config.json',\n",
       " 'tokenizers/ruu-tni-relevancy-classification-p1/special_tokens_map.json',\n",
       " 'tokenizers/ruu-tni-relevancy-classification-p1/vocab.txt',\n",
       " 'tokenizers/ruu-tni-relevancy-classification-p1/added_tokens.json',\n",
       " 'tokenizers/ruu-tni-relevancy-classification-p1/tokenizer.json')"
      ]
     },
     "execution_count": 120,
     "metadata": {},
     "output_type": "execute_result"
    }
   ],
   "source": [
    "trainer.save_model(\"models/ruu-tni-relevancy-classification-p1\")\n",
    "tokenizer.save_pretrained(\"tokenizers/ruu-tni-relevancy-classification-p1\")"
   ]
  },
  {
   "cell_type": "code",
   "execution_count": 133,
   "id": "968c0a95",
   "metadata": {},
   "outputs": [
    {
     "name": "stderr",
     "output_type": "stream",
     "text": [
      "model.safetensors: 100%|██████████| 443M/443M [00:40<00:00, 11.0MB/s] \n"
     ]
    },
    {
     "data": {
      "text/plain": [
       "CommitInfo(commit_url='https://huggingface.co/tianharjuno/ruu-tni-relevancy-classification-p1/commit/550cab64017eae38ffe2e1ed5d65f53b85bc2c3a', commit_message='Upload tokenizer', commit_description='', oid='550cab64017eae38ffe2e1ed5d65f53b85bc2c3a', pr_url=None, repo_url=RepoUrl('https://huggingface.co/tianharjuno/ruu-tni-relevancy-classification-p1', endpoint='https://huggingface.co', repo_type='model', repo_id='tianharjuno/ruu-tni-relevancy-classification-p1'), pr_revision=None, pr_num=None)"
      ]
     },
     "execution_count": 133,
     "metadata": {},
     "output_type": "execute_result"
    }
   ],
   "source": [
    "from transformers import AutoModelForSequenceClassification, AutoTokenizer\n",
    "model = AutoModelForSequenceClassification.from_pretrained(\"models/ruu-tni-relevancy-classification-p1\")\n",
    "tokenizers = AutoTokenizer.from_pretrained(\"tokenizers/ruu-tni-relevancy-classification-p1\")\n",
    "\n",
    "model.push_to_hub(\"tianharjuno/ruu-tni-relevancy-classification-p1\")\n",
    "tokenizers.push_to_hub(\"tianharjuno/ruu-tni-relevancy-classification-p1\")"
   ]
  },
  {
   "cell_type": "code",
   "execution_count": 122,
   "id": "d50678d2",
   "metadata": {},
   "outputs": [],
   "source": [
    "import torch\n",
    "from transformers import AutoModelForSequenceClassification, AutoTokenizer\n",
    "model = AutoModelForSequenceClassification.from_pretrained(\"models/ruu-tni-relevancy-classification-p1\", cache_dir=\"cache/\")\n",
    "tokenizers = AutoTokenizer.from_pretrained(\"tokenizers/ruu-tni-relevancy-classification-p1\", cache_dir=\"cache/\")\n",
    "model.eval()\n",
    "\n",
    "def predict(text):\n",
    "  inputs = tokenizers(text, return_tensors=\"pt\", truncation=True, padding=True)\n",
    "  with torch.no_grad():\n",
    "    outputs = model(**inputs)\n",
    "  logits = outputs.logits\n",
    "  \n",
    "  probabilities = torch.softmax(logits, dim=1)\n",
    "  predicted_class_idx = torch.argmax(probabilities, dim=1).item()\n",
    "  \n",
    "  label_mappings = {\n",
    "    1: \"relevant\",\n",
    "    0: \"irrelevant\"\n",
    "  }\n",
    "  \n",
    "  print(f\"Predicted class index: {label_mappings[predicted_class_idx]}\")\n",
    "  print(f\"Probabilities: {probabilities.squeeze().tolist()}\")\n"
   ]
  },
  {
   "cell_type": "code",
   "execution_count": 129,
   "id": "80123862",
   "metadata": {},
   "outputs": [
    {
     "name": "stdout",
     "output_type": "stream",
     "text": [
      "Predicted class index: relevant\n",
      "Probabilities: [0.0047574350610375404, 0.9952425956726074]\n"
     ]
    }
   ],
   "source": [
    "predict(\"ruu tni kontol #cabutruutni\")"
   ]
  },
  {
   "cell_type": "markdown",
   "id": "8f50cf27",
   "metadata": {},
   "source": [
    "## Pre-annotation on new sampled data using relevancy stage 1 model."
   ]
  },
  {
   "cell_type": "code",
   "execution_count": 130,
   "id": "736c54d2",
   "metadata": {},
   "outputs": [
    {
     "name": "stderr",
     "output_type": "stream",
     "text": [
      "Batch predicting: 100%|██████████| 506/506 [02:13<00:00,  3.79it/s]\n"
     ]
    }
   ],
   "source": [
    "import json\n",
    "import torch\n",
    "from transformers import AutoModelForSequenceClassification, AutoTokenizer\n",
    "from tqdm import tqdm\n",
    "import numpy as np\n",
    "\n",
    "# Load input JSON\n",
    "with open(\"out/indobertweet/indobertweet-kmeans-embed.json\", \"r\", encoding=\"utf-8\") as file:\n",
    "    documents = json.load(file)\n",
    "\n",
    "# Load model and tokenizer\n",
    "model = AutoModelForSequenceClassification.from_pretrained(\n",
    "    \"tianharjuno/ruu-tni-relevancy-classification-p1\", device_map=None\n",
    ")\n",
    "tokenizer = AutoTokenizer.from_pretrained(\n",
    "    \"tianharjuno/ruu-tni-relevancy-classification-p1\"\n",
    ")\n",
    "model.eval()\n",
    "device = torch.device(\"mps\" if torch.backends.mps.is_available() and torch.backends.mps.is_built() else \"cpu\")\n",
    "model.to(device)\n",
    "\n",
    "# Prediction function with batching\n",
    "def predict_in_batches(texts, batch_size=32):\n",
    "    results = []\n",
    "    for i in tqdm(range(0, len(texts), batch_size), desc=\"Batch predicting\"):\n",
    "        batch = texts[i:i + batch_size]\n",
    "        inputs = tokenizer(\n",
    "            batch,\n",
    "            return_tensors=\"pt\",\n",
    "            truncation=True,\n",
    "            padding=True,\n",
    "            max_length=256\n",
    "        )\n",
    "        inputs = {k: v.to(device) for k, v in inputs.items()}\n",
    "        with torch.no_grad():\n",
    "            outputs = model(**inputs)\n",
    "        logits = outputs.logits\n",
    "        probs = torch.softmax(logits, dim=1)\n",
    "        indices = torch.argmax(probs, dim=1)\n",
    "        label_map = [\"irrelevant\", \"relevant\"]\n",
    "        batch_results = [\n",
    "            {\"label\": label_map[i.item()], \"score\": probs[j][i].item()}\n",
    "            for j, i in enumerate(indices)\n",
    "        ]\n",
    "        results.extend(batch_results)\n",
    "    return results\n",
    "\n",
    "# Run prediction\n",
    "texts = [doc[\"content\"] for doc in documents]\n",
    "results = predict_in_batches(texts, batch_size=32)\n",
    "\n",
    "#calculate entropy\n",
    "def binary_entropy(p):\n",
    "    p = np.clip(p, 1e-12, 1 - 1e-12)  # Avoid log(0)\n",
    "    return -p * np.log2(p) - (1 - p) * np.log2(1 - p)\n",
    "    \n",
    "parsed_result = []\n",
    "for doc, result in zip(documents, results):\n",
    "    doc[\"prediction_result\"] = result[\"label\"]\n",
    "    doc[\"prediction_score\"] = result[\"score\"]\n",
    "    doc[\"entropy_score\"] = binary_entropy(result[\"score\"])\n",
    "    parsed_result.append(doc)\n",
    "\n",
    "# Save output\n",
    "with open(\"out/labelstudio/p2/p2_training_preannotated.json\", \"w\", encoding=\"utf-8\") as file:\n",
    "    json.dump(parsed_result, file, ensure_ascii=False, indent=2)"
   ]
  },
  {
   "cell_type": "code",
   "execution_count": 135,
   "id": "a5c3a077",
   "metadata": {},
   "outputs": [
    {
     "name": "stdout",
     "output_type": "stream",
     "text": [
      "16188 1100 16004\n",
      "219 63 30\n",
      "190 55 26\n",
      "28 8 3\n",
      "205 59 28\n",
      "248 71 35\n",
      "3 1 0\n",
      "5 2 0\n",
      "171 49 24\n",
      "124 36 17\n",
      "215 62 30\n"
     ]
    }
   ],
   "source": [
    "\n",
    "import json\n",
    "from collections import defaultdict\n",
    "import math\n",
    "import pandas as pd\n",
    "with open(\"out/labelstudio/p2/p2_training_preannotated.json\", \"r\", encoding=\"utf-8\") as file:\n",
    "  documents = json.load(file)\n",
    "with open(\"out/labelstudio/p1/p1_training_cleaned.json\", \"r\", encoding=\"utf-8\") as file:\n",
    "  p1documents = json.load(file)\n",
    "  \n",
    "p1documents_ids = [doc[\"tweet_id\"] for doc in p1documents]\n",
    "\n",
    "purified = []\n",
    "\n",
    "for doc in documents:\n",
    "  found = 0\n",
    "  for ids in p1documents_ids:\n",
    "    if(doc[\"tweet_id\"] == ids):\n",
    "      found = 1\n",
    "  if found == 0:\n",
    "    purified.append(doc)\n",
    "\n",
    "print(len(documents), len(p1documents), len(purified))\n",
    "documents = purified\n",
    "SAMPLE_COUNT = 2000\n",
    "\n",
    "buckets = defaultdict(list)\n",
    "buckets_sampled = defaultdict(list)\n",
    "bucket_content_count = defaultdict(int)\n",
    "bucket_ratio_count = defaultdict(float)\n",
    "data_count = 0\n",
    "\n",
    "for doc in documents:\n",
    "  label = doc[\"bucket_label\"]\n",
    "  buckets[label].append(doc)\n",
    "  bucket_content_count[label] += 1\n",
    "  data_count += 1\n",
    "  \n",
    "for bucket_name, count in bucket_content_count.items():\n",
    "  bucket_ratio_count[bucket_name] = count / data_count\n",
    "  \n",
    "for bucket_name, data in buckets.items():\n",
    "  data.sort(key=lambda x: x[\"entropy_score\"], reverse=True)\n",
    "\n",
    "for bucket_name, data in buckets.items():\n",
    "  bucket_sample_total = math.ceil(bucket_ratio_count[bucket_name] * SAMPLE_COUNT)\n",
    "  data_df = pd.DataFrame(data)\n",
    "  \n",
    "  high_entropy_threshold = data_df[\"entropy_score\"].quantile(0.30)   # 30th percentile (start of high entropy)\n",
    "  medium_entropy_lower = data_df[\"entropy_score\"].quantile(0.50)     # 50th percentile\n",
    "  medium_entropy_upper = data_df[\"entropy_score\"].quantile(0.80)     # 80th percentile\n",
    "  low_entropy_lower = data_df[\"entropy_score\"].quantile(0.10)        # 10th percentile\n",
    "  low_entropy_upper = data_df[\"entropy_score\"].quantile(0.20)        # 20th percentile\n",
    "  \n",
    "  \n",
    "  # High entropy: top 70% entropy, i.e. > 30th percentile\n",
    "  # Print thresholds firs\n",
    "\n",
    "  low_entropy_tweets = data_df[\n",
    "    (data_df[\"entropy_score\"] >= low_entropy_lower) & \n",
    "    (data_df[\"entropy_score\"] <= low_entropy_upper)\n",
    "  ]\n",
    "\n",
    "  medium_entropy_tweets = data_df[\n",
    "    (data_df[\"entropy_score\"] >= medium_entropy_lower) & \n",
    "    (data_df[\"entropy_score\"] <= medium_entropy_upper)\n",
    "  ]\n",
    "\n",
    "  high_entropy_tweets = data_df[\n",
    "    data_df[\"entropy_score\"] > high_entropy_threshold\n",
    "  ]\n",
    "\n",
    "  high_entropy_count = math.ceil(bucket_sample_total * 0.7)\n",
    "  medium_entropy_count = math.ceil(bucket_sample_total * 0.2)\n",
    "  low_entropy_count = bucket_sample_total - high_entropy_count - medium_entropy_count\n",
    "  low_entropy_count = max(0, low_entropy_count)\n",
    "\n",
    "  high_entropy_tweets_adjusted = high_entropy_tweets[:high_entropy_count]\n",
    "  medium_entropy_tweets_adjusted = medium_entropy_tweets.sample(n=medium_entropy_count, random_state=42)\n",
    "  \n",
    "  low_entropy_tweets_adjusted = low_entropy_tweets.sample(n = low_entropy_count, random_state=42)\n",
    "  \n",
    "  print(high_entropy_count, medium_entropy_count, low_entropy_count)\n",
    "  \n",
    "  concat = pd.concat([high_entropy_tweets_adjusted, medium_entropy_tweets_adjusted, low_entropy_tweets_adjusted], ignore_index=True)\n",
    "  buckets_sampled[bucket_name] = concat.to_dict(orient=\"records\")\n",
    "  \n",
    "merged = []\n",
    "for dd in buckets_sampled.values():\n",
    "  merged.extend(dd)\n",
    "  \n",
    "formatted = []\n",
    "for doc in merged:\n",
    "  formatted.append({\n",
    "    \"data\": {\n",
    "      \"text\": doc[\"content\"],\n",
    "      \"bucket_label\": doc[\"bucket_label\"],\n",
    "      \"prediction_score\": doc[\"prediction_score\"],\n",
    "      \"prediction_result\": doc[\"prediction_result\"],\n",
    "      \"entropy_score\": doc[\"entropy_score\"]\n",
    "      },\n",
    "    \"meta\": {\n",
    "      \"tweet_id\": doc[\"tweet_id\"],\n",
    "      \"time\": doc[\"time\"],\n",
    "      \"author\": doc[\"author\"],\n",
    "      \"comment_count\": doc[\"comment_count\"],\n",
    "      \"repost_count\": doc[\"repost_count\"],\n",
    "      \"like_count\": doc[\"like_count\"],\n",
    "      \"view_count\": doc[\"view_count\"],\n",
    "      \"created_at\": doc[\"created_at\"],\n",
    "    },\n",
    "    \"predictions\": [{\n",
    "      \"model_version\": \"1.0.0\",\n",
    "      \"score\": doc[\"prediction_score\"],\n",
    "      \"result\": [{\n",
    "        \"from_name\": \"sentiment\",\n",
    "        \"to_name\": \"text\",\n",
    "        \"type\": \"choices\",\n",
    "        \"value\": {\"choices\": [doc[\"prediction_result\"]]},\n",
    "      }]\n",
    "    }]\n",
    "  })  \n",
    "\n",
    "with open(\"out/labelstudio/p2/p2_training_prepped.json\", \"w\", encoding=\"utf-8\") as file:\n",
    "  json.dump(formatted, file, ensure_ascii=False, indent=2)\n"
   ]
  }
 ],
 "metadata": {
  "kernelspec": {
   "display_name": "sentiment",
   "language": "python",
   "name": "python3"
  },
  "language_info": {
   "codemirror_mode": {
    "name": "ipython",
    "version": 3
   },
   "file_extension": ".py",
   "mimetype": "text/x-python",
   "name": "python",
   "nbconvert_exporter": "python",
   "pygments_lexer": "ipython3",
   "version": "3.9.21"
  }
 },
 "nbformat": 4,
 "nbformat_minor": 5
}
