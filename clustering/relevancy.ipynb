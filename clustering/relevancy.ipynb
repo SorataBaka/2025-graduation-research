{
 "cells": [
  {
   "cell_type": "code",
   "execution_count": null,
   "id": "711c22ff",
   "metadata": {},
   "outputs": [],
   "source": [
    "labels = [\n",
    "  \"probable_spam\",\n",
    "  \"medium_no_hashtags\",\n",
    "  \"long_with_hashtags\",\n",
    "  \"medium_with_hashtags\",\n",
    "  \"short_no_hashtag\",\n",
    "  \"short_with_hashtag\",\n",
    "  \"shotgun\"\n",
    "]"
   ]
  },
  {
   "cell_type": "markdown",
   "id": "f757abc7",
   "metadata": {},
   "source": [
    "# Start parsing label studio"
   ]
  },
  {
   "cell_type": "code",
   "execution_count": null,
   "id": "fe6f2f62",
   "metadata": {},
   "outputs": [],
   "source": [
    "import json\n",
    "with open(\"out/labelstudio/labelstudio/initial-training/labelstudio-dump.json\", \"r\", encoding=\"utf-8\") as file:\n",
    "  documents = json.load(file)\n",
    "\n",
    "rawdata = [doc[\"data\"] for doc in documents]\n",
    "annotations = [doc[\"annotations\"][0] for doc in documents]\n",
    "\n",
    "relevant_count = 0;\n",
    "irrelevant_count = 0;\n",
    "\n",
    "relevancy_label_mapping = {\n",
    "  \"relevant\": 1,\n",
    "  \"irrelevant\": 0\n",
    "}\n",
    "\n",
    "for data, annotation in zip(rawdata, annotations):\n",
    "  label = annotation[\"result\"][0][\"value\"][\"choices\"][0]\n",
    "  if label == \"relevant\":\n",
    "    relevant_count += 1\n",
    "  if label == \"irrelevant\":\n",
    "    irrelevant_count += 1\n",
    "  data[\"relevancy_label\"] = relevancy_label_mapping[label]\n",
    "print(f\"Relevant count: {relevant_count} Irrelevant Count: {irrelevant_count}\")\n",
    "\n",
    "with open(\"out/labelstudio/labelstudio-dump-cleaned.json\", \"w\", encoding=\"utf-8\") as file:\n",
    "  json.dump(rawdata, file, ensure_ascii=False, indent=2)\n"
   ]
  },
  {
   "cell_type": "code",
   "execution_count": 2,
   "id": "3953ee73",
   "metadata": {},
   "outputs": [
    {
     "name": "stdout",
     "output_type": "stream",
     "text": [
      "Train: 560 samples\n",
      "Validation: 98 samples\n",
      "Test: 42 samples\n"
     ]
    }
   ],
   "source": [
    "from datasets import load_dataset\n",
    "import pandas as pd\n",
    "\n",
    "# Load the full dataset\n",
    "ds = load_dataset(\"json\", data_files=\"out/labelstudio/initial-training/labelstudio-dump-cleaned.json\")[\"train\"]\n",
    "\n",
    "# First split: 80% train, 20% temp (val + test)\n",
    "split_ds = ds.train_test_split(test_size=0.2, seed=42)\n",
    "\n",
    "# Second split: split the 20% into 10% val, 10% test\n",
    "temp_split = split_ds[\"test\"].train_test_split(test_size=0.3, seed=42)\n",
    "\n",
    "train_dataset = split_ds[\"train\"]\n",
    "val_dataset = temp_split[\"train\"]\n",
    "test_dataset = temp_split[\"test\"]\n",
    "\n",
    "print(f\"Train: {len(train_dataset)} samples\")\n",
    "print(f\"Validation: {len(val_dataset)} samples\")\n",
    "print(f\"Test: {len(test_dataset)} samples\")"
   ]
  },
  {
   "cell_type": "code",
   "execution_count": 3,
   "id": "87588a39",
   "metadata": {},
   "outputs": [],
   "source": [
    "from transformers import AutoModelForSequenceClassification, AutoTokenizer\n",
    "\n",
    "tokenizer = AutoTokenizer.from_pretrained(\"tianharjuno/ruu-tni-relevancy-classification\", cache_dir=\"cache/\")\n",
    "model = AutoModelForSequenceClassification.from_pretrained(\"tianharjuno/ruu-tni-relevancy-classification\", cache_dir=\"cache/\", num_labels=2)"
   ]
  },
  {
   "cell_type": "code",
   "execution_count": 5,
   "id": "21cb569c",
   "metadata": {},
   "outputs": [],
   "source": [
    "def tokenizer_function(examples):\n",
    "  return tokenizer(\n",
    "    examples[\"content\"],\n",
    "    padding=\"max_length\",\n",
    "    truncation=True,\n",
    "    max_length=256,\n",
    "  )"
   ]
  },
  {
   "cell_type": "code",
   "execution_count": 6,
   "id": "44ad8082",
   "metadata": {},
   "outputs": [
    {
     "name": "stderr",
     "output_type": "stream",
     "text": [
      "Map: 100%|██████████| 560/560 [00:00<00:00, 9468.07 examples/s]\n",
      "Map: 100%|██████████| 42/42 [00:00<00:00, 6501.84 examples/s]\n"
     ]
    }
   ],
   "source": [
    "train_dataset = train_dataset.map(tokenizer_function, batched=True)\n",
    "test_dataset = test_dataset.map(tokenizer_function, batched=True)"
   ]
  },
  {
   "cell_type": "code",
   "execution_count": 7,
   "id": "ffc79277",
   "metadata": {},
   "outputs": [],
   "source": [
    "train_dataset = train_dataset.rename_column(\"relevancy_label\", \"labels\")\n",
    "test_dataset = test_dataset.rename_column(\"relevancy_label\", \"labels\")\n",
    "\n",
    "\n",
    "train_dataset = train_dataset.rename_column(\"content\", \"text\")\n",
    "test_dataset = test_dataset.rename_column(\"content\", \"text\")\n",
    "\n",
    "train_dataset.set_format(\"torch\", columns=[\"input_ids\", \"attention_mask\", \"token_type_ids\", \"labels\"])\n",
    "test_dataset.set_format(\"torch\", columns=[\"input_ids\", \"attention_mask\", \"token_type_ids\", \"labels\"])"
   ]
  },
  {
   "cell_type": "code",
   "execution_count": null,
   "id": "8d34feb3",
   "metadata": {},
   "outputs": [],
   "source": [
    "print(train_dataset[0])"
   ]
  },
  {
   "cell_type": "code",
   "execution_count": 1,
   "id": "ef995197",
   "metadata": {},
   "outputs": [
    {
     "name": "stderr",
     "output_type": "stream",
     "text": [
      "/opt/anaconda3/envs/sentiment/lib/python3.9/site-packages/tqdm/auto.py:21: TqdmWarning: IProgress not found. Please update jupyter and ipywidgets. See https://ipywidgets.readthedocs.io/en/stable/user_install.html\n",
      "  from .autonotebook import tqdm as notebook_tqdm\n"
     ]
    }
   ],
   "source": [
    "from transformers import TrainingArguments\n",
    "\n",
    "training_args = TrainingArguments(\n",
    "  output_dir=\"./results\",\n",
    "  num_train_epochs=4,\n",
    "  per_device_train_batch_size=16,\n",
    "  save_strategy=\"epoch\",\n",
    "  logging_strategy=\"steps\",\n",
    "  logging_steps=10,\n",
    "  load_best_model_at_end=True,\n",
    "  metric_for_best_model=\"accuracy\",\n",
    "  eval_strategy=\"epoch\"\n",
    ")"
   ]
  },
  {
   "cell_type": "code",
   "execution_count": null,
   "id": "13350e25",
   "metadata": {},
   "outputs": [],
   "source": [
    "from transformers import Trainer, default_data_collator\n",
    "import evaluate\n",
    "accuracy_metric = evaluate.load(\"accuracy\")\n",
    "\n",
    "def compute_metrics(eval_pred):\n",
    "    logits, labels = eval_pred\n",
    "    predictions = logits.argmax(axis=-1)\n",
    "    return accuracy_metric.compute(predictions=predictions, references=labels)\n",
    "  \n",
    "trainer = Trainer(\n",
    "  model=model,\n",
    "  args = training_args,\n",
    "  train_dataset=train_dataset,\n",
    "  eval_dataset=test_dataset,\n",
    "  compute_metrics=compute_metrics,\n",
    "  data_collator=default_data_collator\n",
    ")"
   ]
  },
  {
   "cell_type": "code",
   "execution_count": 11,
   "id": "c36159c9",
   "metadata": {},
   "outputs": [
    {
     "name": "stderr",
     "output_type": "stream",
     "text": [
      "Downloading builder script: 100%|██████████| 4.20k/4.20k [00:00<00:00, 2.16MB/s]\n"
     ]
    }
   ],
   "source": [
    "from transformers import Trainer, default_data_collator\n",
    "import evaluate\n",
    "\n",
    "accuracy_metric = evaluate.load(\"accuracy\")\n",
    "trainer = Trainer(\n",
    "  model=model,\n",
    "  args = training_args,\n",
    "  train_dataset=train_dataset,\n",
    "  eval_dataset=test_dataset,\n",
    "  compute_metrics=compute_metrics,\n",
    "  data_collator=default_data_collator\n",
    ")"
   ]
  },
  {
   "cell_type": "code",
   "execution_count": null,
   "id": "d64e286e",
   "metadata": {},
   "outputs": [],
   "source": [
    "train_dataloader = trainer.get_train_dataloader()\n",
    "batch = next(iter(train_dataloader))\n",
    "print(batch.keys())"
   ]
  },
  {
   "cell_type": "code",
   "execution_count": null,
   "id": "ad8bbcfc",
   "metadata": {},
   "outputs": [],
   "source": [
    "trainer.train()"
   ]
  },
  {
   "cell_type": "code",
   "execution_count": 8,
   "id": "c9c172e7",
   "metadata": {},
   "outputs": [
    {
     "name": "stderr",
     "output_type": "stream",
     "text": [
      "/opt/anaconda3/envs/sentiment/lib/python3.9/site-packages/torch/utils/data/dataloader.py:683: UserWarning: 'pin_memory' argument is set as true but not supported on MPS now, then device pinned memory won't be used.\n",
      "  warnings.warn(warn_msg)\n"
     ]
    },
    {
     "data": {
      "text/html": [
       "\n",
       "    <div>\n",
       "      \n",
       "      <progress value='6' max='6' style='width:300px; height:20px; vertical-align: middle;'></progress>\n",
       "      [6/6 00:01]\n",
       "    </div>\n",
       "    "
      ],
      "text/plain": [
       "<IPython.core.display.HTML object>"
      ]
     },
     "metadata": {},
     "output_type": "display_data"
    },
    {
     "name": "stdout",
     "output_type": "stream",
     "text": [
      "{'eval_loss': 0.1307397484779358, 'eval_model_preparation_time': 0.0026, 'eval_accuracy': 0.9761904761904762, 'eval_f1': 0.9761769710720363, 'eval_precision': 0.9772727272727273, 'eval_recall': 0.9761904761904762, 'eval_runtime': 3.2512, 'eval_samples_per_second': 12.918, 'eval_steps_per_second': 1.845}\n"
     ]
    }
   ],
   "source": [
    "from sklearn.metrics import accuracy_score, precision_recall_fscore_support\n",
    "def compute_metrics(eval_pred):\n",
    "    logits, labels = eval_pred\n",
    "    predictions = logits.argmax(axis=1)\n",
    "    \n",
    "    precision, recall, f1, _ = precision_recall_fscore_support(labels, predictions, average='macro')\n",
    "    acc = accuracy_score(labels, predictions)\n",
    "    \n",
    "    return {\n",
    "        'accuracy': acc,\n",
    "        'f1': f1,\n",
    "        'precision': precision,\n",
    "        'recall': recall\n",
    "    }\n",
    "from transformers import Trainer\n",
    "\n",
    "evaluationTrainer = Trainer(\n",
    "    model = model,\n",
    "    args = training_args,\n",
    "    train_dataset=train_dataset,\n",
    "    eval_dataset=test_dataset,\n",
    "    compute_metrics=compute_metrics\n",
    ")\n",
    "metrics = evaluationTrainer.evaluate()\n",
    "print(metrics)"
   ]
  },
  {
   "cell_type": "code",
   "execution_count": 12,
   "id": "92ab5ba5",
   "metadata": {},
   "outputs": [
    {
     "data": {
      "text/plain": [
       "('tokenizers/ruu-tni-relevancy-classification/tokenizer_config.json',\n",
       " 'tokenizers/ruu-tni-relevancy-classification/special_tokens_map.json',\n",
       " 'tokenizers/ruu-tni-relevancy-classification/vocab.txt',\n",
       " 'tokenizers/ruu-tni-relevancy-classification/added_tokens.json',\n",
       " 'tokenizers/ruu-tni-relevancy-classification/tokenizer.json')"
      ]
     },
     "execution_count": 12,
     "metadata": {},
     "output_type": "execute_result"
    }
   ],
   "source": [
    "trainer.save_model(\"models/ruu-tni-relevancy-classification\")\n",
    "tokenizer.save_pretrained(\"tokenizers/ruu-tni-relevancy-classification\")"
   ]
  },
  {
   "cell_type": "code",
   "execution_count": null,
   "id": "968c0a95",
   "metadata": {},
   "outputs": [],
   "source": [
    "from transformers import AutoModelForSequenceClassification, AutoTokenizer\n",
    "model = AutoModelForSequenceClassification.from_pretrained(\"models/ruu-tni-relevancy-classification\")\n",
    "tokenizers = AutoTokenizer.from_pretrained(\"tokenizers/ruu-tni-relevancy-classification\")\n",
    "model.push_to_hub(\"tianharjuno/ruu-tni-relevancy-classification\")\n",
    "tokenizers.push_to_hub(\"tianharjuno/ruu-tni-relevancy-classification\")"
   ]
  },
  {
   "cell_type": "code",
   "execution_count": null,
   "id": "afffc182",
   "metadata": {},
   "outputs": [],
   "source": [
    "from transformers import AutoModelForSequenceClassification, AutoTokenizer\n",
    "model = AutoModelForSequenceClassification.from_pretrained(\"models/ruu-tni-relevancy-classification\")\n",
    "tokenizers = AutoTokenizer.from_pretrained(\"tokenizers/ruu-tni-relevancy-classification\")"
   ]
  },
  {
   "cell_type": "code",
   "execution_count": 13,
   "id": "d50678d2",
   "metadata": {},
   "outputs": [],
   "source": [
    "import torch\n",
    "def predict(text):\n",
    "  inputs = tokenizers(text, return_tensors=\"pt\", truncation=True, padding=True)\n",
    "  with torch.no_grad():\n",
    "    outputs = model(**inputs)\n",
    "  logits = outputs.logits\n",
    "  \n",
    "  probabilities = torch.softmax(logits, dim=1)\n",
    "  predicted_class_idx = torch.argmax(probabilities, dim=1).item()\n",
    "  \n",
    "  label_mappings = {\n",
    "    1: \"relevant\",\n",
    "    0: \"irrelevant\"\n",
    "  }\n",
    "  \n",
    "  print(f\"Predicted class index: {label_mappings[predicted_class_idx]}\")\n",
    "  print(f\"Probabilities: {probabilities.squeeze().tolist()}\")\n"
   ]
  },
  {
   "cell_type": "code",
   "execution_count": 14,
   "id": "80123862",
   "metadata": {},
   "outputs": [
    {
     "ename": "NameError",
     "evalue": "name 'tokenizers' is not defined",
     "output_type": "error",
     "traceback": [
      "\u001b[0;31m---------------------------------------------------------------------------\u001b[0m",
      "\u001b[0;31mNameError\u001b[0m                                 Traceback (most recent call last)",
      "Cell \u001b[0;32mIn[14], line 1\u001b[0m\n\u001b[0;32m----> 1\u001b[0m \u001b[43mpredict\u001b[49m\u001b[43m(\u001b[49m\u001b[38;5;124;43m\"\u001b[39;49m\u001b[38;5;124;43mruu tni merusak masa depan bangsa!!!!! #cabutruutni\u001b[39;49m\u001b[38;5;124;43m\"\u001b[39;49m\u001b[43m)\u001b[49m\n",
      "Cell \u001b[0;32mIn[13], line 3\u001b[0m, in \u001b[0;36mpredict\u001b[0;34m(text)\u001b[0m\n\u001b[1;32m      2\u001b[0m \u001b[38;5;28;01mdef\u001b[39;00m\u001b[38;5;250m \u001b[39m\u001b[38;5;21mpredict\u001b[39m(text):\n\u001b[0;32m----> 3\u001b[0m   inputs \u001b[38;5;241m=\u001b[39m \u001b[43mtokenizers\u001b[49m(text, return_tensors\u001b[38;5;241m=\u001b[39m\u001b[38;5;124m\"\u001b[39m\u001b[38;5;124mpt\u001b[39m\u001b[38;5;124m\"\u001b[39m, truncation\u001b[38;5;241m=\u001b[39m\u001b[38;5;28;01mTrue\u001b[39;00m, padding\u001b[38;5;241m=\u001b[39m\u001b[38;5;28;01mTrue\u001b[39;00m)\n\u001b[1;32m      4\u001b[0m   \u001b[38;5;28;01mwith\u001b[39;00m torch\u001b[38;5;241m.\u001b[39mno_grad():\n\u001b[1;32m      5\u001b[0m     outputs \u001b[38;5;241m=\u001b[39m model(\u001b[38;5;241m*\u001b[39m\u001b[38;5;241m*\u001b[39minputs)\n",
      "\u001b[0;31mNameError\u001b[0m: name 'tokenizers' is not defined"
     ]
    }
   ],
   "source": [
    "predict(\"ruu tni merusak masa depan bangsa!!!!! #cabutruutni\")"
   ]
  },
  {
   "cell_type": "markdown",
   "id": "8f50cf27",
   "metadata": {},
   "source": [
    "## Pre annotate the entire training dataset before feeding into label-studio"
   ]
  },
  {
   "cell_type": "code",
   "execution_count": null,
   "id": "736c54d2",
   "metadata": {},
   "outputs": [],
   "source": [
    "import json\n",
    "import torch\n",
    "from transformers import AutoModelForSequenceClassification, AutoTokenizer\n",
    "from tqdm import tqdm\n",
    "\n",
    "# Load input JSON\n",
    "with open(\"out/labelstudio/labelstudio-sampled.json\", \"r\", encoding=\"utf-8\") as file:\n",
    "    documents = json.load(file)\n",
    "\n",
    "# Load model and tokenizer\n",
    "model = AutoModelForSequenceClassification.from_pretrained(\n",
    "    \"tianharjuno/ruu-tni-relevancy-classification\", cache_dir=\"cache/\", device_map=None\n",
    ")\n",
    "tokenizer = AutoTokenizer.from_pretrained(\n",
    "    \"tianharjuno/ruu-tni-relevancy-classification\", cache_dir=\"cache/\"\n",
    ")\n",
    "model.eval()\n",
    "device = torch.device(\"cuda\" if torch.cuda.is_available() else \"cpu\")\n",
    "model.to(device)\n",
    "\n",
    "# Prediction function with batching\n",
    "def predict_in_batches(texts, batch_size=64):\n",
    "    results = []\n",
    "    for i in tqdm(range(0, len(texts), batch_size), desc=\"Batch predicting\"):\n",
    "        batch = texts[i:i + batch_size]\n",
    "        inputs = tokenizer(\n",
    "            batch,\n",
    "            return_tensors=\"pt\",\n",
    "            truncation=True,\n",
    "            padding=True,\n",
    "            max_length=256\n",
    "        )\n",
    "        inputs = {k: v.to(device) for k, v in inputs.items()}\n",
    "        with torch.no_grad():\n",
    "            outputs = model(**inputs)\n",
    "        logits = outputs.logits\n",
    "        probs = torch.softmax(logits, dim=1)\n",
    "        indices = torch.argmax(probs, dim=1)\n",
    "        label_map = [\"irrelevant\", \"relevant\"]\n",
    "        batch_results = [\n",
    "            {\"label\": label_map[i.item()], \"score\": probs[j][i].item()}\n",
    "            for j, i in enumerate(indices)\n",
    "        ]\n",
    "        results.extend(batch_results)\n",
    "    return results\n",
    "\n",
    "# Run prediction\n",
    "texts = [doc[\"content\"] for doc in documents]\n",
    "results = predict_in_batches(texts, batch_size=64)\n",
    "\n",
    "# Convert to Label Studio pre-annotated format\n",
    "parsed_result = []\n",
    "for result, doc in zip(results, documents):\n",
    "    newdoc = {\n",
    "        \"data\": doc,\n",
    "        \"predictions\": [{\n",
    "            \"model_version\": \"0.0.1\",\n",
    "            \"result\": [{\n",
    "                \"from_name\": \"sentiment\",\n",
    "                \"to_name\": \"text\",\n",
    "                \"type\": \"choices\",\n",
    "                \"value\": {\"choices\": [result[\"label\"]]},\n",
    "                \"score\": result[\"score\"]\n",
    "            }]\n",
    "        }]\n",
    "    }\n",
    "    parsed_result.append(newdoc)\n",
    "\n",
    "# Save output\n",
    "with open(\"out/labelstudio/labelstudio-sampled-preannotated.json\", \"w\", encoding=\"utf-8\") as file:\n",
    "    json.dump(parsed_result, file, ensure_ascii=False, indent=2)\n"
   ]
  },
  {
   "cell_type": "code",
   "execution_count": null,
   "id": "da08e7fd",
   "metadata": {},
   "outputs": [
    {
     "name": "stderr",
     "output_type": "stream",
     "text": [
      "/opt/anaconda3/envs/sentiment/lib/python3.9/site-packages/tqdm/auto.py:21: TqdmWarning: IProgress not found. Please update jupyter and ipywidgets. See https://ipywidgets.readthedocs.io/en/stable/user_install.html\n",
      "  from .autonotebook import tqdm as notebook_tqdm\n"
     ]
    }
   ],
   "source": [
    "from transformers import AutoModelForSequenceClassification, AutoTokenizer, pipeline\n",
    "import torch\n",
    "\n",
    "model = AutoModelForSequenceClassification.from_pretrained(\"models/ruu-tni-relevancy-classification\", local_files_only=True, device_map=\"cpu\")\n",
    "tokenizer = AutoTokenizer.from_pretrained(\"tokenizers/ruu-tni-relevancy-classification\", local_files_only=True)\n",
    "model.eval()\n",
    "\n",
    "inputs = tokenizer(\"ruu tni kayak anjing\", return_tensors='pt')\n",
    "\n",
    "with torch.no_grad():\n",
    "  torch.onnx.export(\n",
    "    model,\n",
    "    (inputs[\"input_ids\"], inputs[\"attention_mask\"]),\n",
    "    \"output.onnx\",\n",
    "    input_names=[\"input_ids\", \"attention_mask\"],\n",
    "    output_names=[\"output\"],\n",
    "    dynamic_axes={\"input_ids\": {0: \"batch_size\"}, \"attention_mask\": {0: \"batch_size\"}},\n",
    "    opset_version=13,\n",
    "    do_constant_folding=True,\n",
    "    verbose=True,\n",
    "  )"
   ]
  },
  {
   "cell_type": "code",
   "execution_count": 8,
   "id": "156acc54",
   "metadata": {},
   "outputs": [],
   "source": [
    "import json\n",
    "with open(\"out/labelstudio/labelstudio-sampled-preannotated.json\", \"r\", encoding=\"utf-8\") as file:\n",
    "  documents = json.load(file)\n",
    "  \n",
    "  \n",
    "for doc in documents:\n",
    "  predictions = doc[\"predictions\"][0]\n",
    "  score = predictions[\"result\"][0][\"score\"]\n",
    "  del predictions[\"result\"][0][\"score\"]\n",
    "  predictions[\"score\"] = score\n",
    "  doc[\"predictions\"][0] = predictions\n",
    "\n",
    "\n",
    "with open(\"out/labelstudio/labelstudio-sampled-preannotated.json\", \"w\", encoding=\"utf-8\") as file:\n",
    "  json.dump(documents, file, ensure_ascii=False, indent=2)  "
   ]
  },
  {
   "cell_type": "code",
   "execution_count": null,
   "id": "7d6af9ea",
   "metadata": {},
   "outputs": [],
   "source": []
  }
 ],
 "metadata": {
  "kernelspec": {
   "display_name": "sentiment",
   "language": "python",
   "name": "python3"
  },
  "language_info": {
   "codemirror_mode": {
    "name": "ipython",
    "version": 3
   },
   "file_extension": ".py",
   "mimetype": "text/x-python",
   "name": "python",
   "nbconvert_exporter": "python",
   "pygments_lexer": "ipython3",
   "version": "3.9.22"
  }
 },
 "nbformat": 4,
 "nbformat_minor": 5
}
