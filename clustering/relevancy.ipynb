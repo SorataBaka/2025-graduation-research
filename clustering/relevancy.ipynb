{
 "cells": [
  {
   "cell_type": "code",
   "execution_count": null,
   "id": "711c22ff",
   "metadata": {},
   "outputs": [],
   "source": [
    "labels = [\n",
    "  \"long_text_more_hashtag\",\n",
    "  \"long_text_few_hashtag\",\n",
    "  \"short_text_more_hashtag\",\n",
    "  \"short_text_few_hashtag\",\n",
    "  \"general_hashtag_probable_spam\"\n",
    "]"
   ]
  }
 ],
 "metadata": {
  "kernelspec": {
   "display_name": "sentiment",
   "language": "python",
   "name": "python3"
  },
  "language_info": {
   "name": "python",
   "version": "3.9.22"
  }
 },
 "nbformat": 4,
 "nbformat_minor": 5
}
