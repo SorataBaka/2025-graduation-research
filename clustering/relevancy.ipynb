{
 "cells": [
  {
   "cell_type": "markdown",
   "id": "f757abc7",
   "metadata": {},
   "source": [
    "# Start parsing label studio"
   ]
  },
  {
   "cell_type": "code",
   "execution_count": 1,
   "id": "947e0554",
   "metadata": {},
   "outputs": [],
   "source": [
    "LABEL_STUDIO_DUMP=\"out/labelstudio/p1/p1_training_labeled.json\"\n",
    "LABELED_CLEANED=\"out/labelstudio/p1/p1_training_cleaned.json\""
   ]
  },
  {
   "cell_type": "code",
   "execution_count": 2,
   "id": "fe6f2f62",
   "metadata": {},
   "outputs": [
    {
     "name": "stdout",
     "output_type": "stream",
     "text": [
      "Relevant count: 351 Irrelevant Count: 649\n"
     ]
    }
   ],
   "source": [
    "import json\n",
    "with open(LABEL_STUDIO_DUMP, \"r\", encoding=\"utf-8\") as file:\n",
    "  documents = json.load(file)\n",
    "\n",
    "rawdata = [doc[\"data\"] for doc in documents]\n",
    "metadata = [doc[\"meta\"] for doc in documents]\n",
    "annotations = [doc[\"annotations\"][0] for doc in documents]\n",
    "\n",
    "relevant_count = 0;\n",
    "irrelevant_count = 0;\n",
    "\n",
    "relevancy_label_mapping = {\n",
    "  \"relevant\": 1,\n",
    "  \"irrelevant\": 0\n",
    "}\n",
    "\n",
    "for data, annotation, meta in zip(rawdata, annotations, metadata):\n",
    "  label = annotation[\"result\"][0][\"value\"][\"choices\"][0]\n",
    "  if label == \"relevant\":\n",
    "    relevant_count += 1\n",
    "  if label == \"irrelevant\":\n",
    "    irrelevant_count += 1\n",
    "  data[\"relevancy_label\"] = relevancy_label_mapping[label]\n",
    "  data.update(meta)\n",
    "  \n",
    "print(f\"Relevant count: {relevant_count} Irrelevant Count: {irrelevant_count}\")\n",
    "\n",
    "with open(LABELED_CLEANED, \"w\", encoding=\"utf-8\") as file:\n",
    "  json.dump(rawdata, file, ensure_ascii=False, indent=2)\n"
   ]
  },
  {
   "cell_type": "markdown",
   "id": "5bac17c0",
   "metadata": {},
   "source": [
    "## Train initial model for pre-annotation on 700 manually labeled data"
   ]
  },
  {
   "cell_type": "code",
   "execution_count": 3,
   "id": "3953ee73",
   "metadata": {},
   "outputs": [
    {
     "name": "stderr",
     "output_type": "stream",
     "text": [
      "/Users/christianharjuno/anaconda3/envs/sentiment/lib/python3.9/site-packages/tqdm/auto.py:21: TqdmWarning: IProgress not found. Please update jupyter and ipywidgets. See https://ipywidgets.readthedocs.io/en/stable/user_install.html\n",
      "  from .autonotebook import tqdm as notebook_tqdm\n",
      "Generating train split: 1000 examples [00:00, 47460.84 examples/s]\n",
      "Casting the dataset: 100%|██████████| 1000/1000 [00:00<00:00, 190105.79 examples/s]"
     ]
    },
    {
     "name": "stdout",
     "output_type": "stream",
     "text": [
      "Train: 900 samples\n",
      "Validation: 100 samples\n"
     ]
    },
    {
     "name": "stderr",
     "output_type": "stream",
     "text": [
      "\n"
     ]
    }
   ],
   "source": [
    "from datasets import load_dataset, ClassLabel, concatenate_datasets\n",
    "\n",
    "# Load the full dataset\n",
    "ds = load_dataset(\"json\", data_files=LABELED_CLEANED)[\"train\"]\n",
    "\n",
    "unique_labels = ds.unique(\"relevancy_label\")\n",
    "class_label = ClassLabel(names=[str(label) for label in unique_labels])\n",
    "ds = ds.cast_column(\"relevancy_label\", class_label)\n",
    "\n",
    "# First split: 80% train, 20% temp (val + test)\n",
    "split_ds = ds.train_test_split(test_size=0.1, seed=42, stratify_by_column=\"relevancy_label\")\n",
    "\n",
    "train_dataset = split_ds[\"train\"]\n",
    "val_dataset = split_ds[\"test\"]\n",
    "\n",
    "print(f\"Train: {len(train_dataset)} samples\")\n",
    "print(f\"Validation: {len(val_dataset)} samples\")"
   ]
  },
  {
   "cell_type": "code",
   "execution_count": 4,
   "id": "9a42b255",
   "metadata": {},
   "outputs": [],
   "source": [
    "import re\n",
    "\n",
    "def remove_urls(example):\n",
    "    # Remove http, https, and www URLs\n",
    "    example[\"text\"] = re.sub(r'https?://\\S+|www\\.\\S+', '', example[\"text\"])\n",
    "    return example\n"
   ]
  },
  {
   "cell_type": "code",
   "execution_count": 5,
   "id": "87588a39",
   "metadata": {},
   "outputs": [
    {
     "name": "stderr",
     "output_type": "stream",
     "text": [
      "Some weights of CustomModel were not initialized from the model checkpoint at indobenchmark/indobert-base-p2 and are newly initialized: ['classifier.bias', 'classifier.weight']\n",
      "You should probably TRAIN this model on a down-stream task to be able to use it for predictions and inference.\n"
     ]
    },
    {
     "data": {
      "text/plain": [
       "CustomModel(\n",
       "  (bert): BertModel(\n",
       "    (embeddings): BertEmbeddings(\n",
       "      (word_embeddings): Embedding(50000, 768, padding_idx=0)\n",
       "      (position_embeddings): Embedding(512, 768)\n",
       "      (token_type_embeddings): Embedding(2, 768)\n",
       "      (LayerNorm): LayerNorm((768,), eps=1e-12, elementwise_affine=True)\n",
       "      (dropout): Dropout(p=0.1, inplace=False)\n",
       "    )\n",
       "    (encoder): BertEncoder(\n",
       "      (layer): ModuleList(\n",
       "        (0-11): 12 x BertLayer(\n",
       "          (attention): BertAttention(\n",
       "            (self): BertSdpaSelfAttention(\n",
       "              (query): Linear(in_features=768, out_features=768, bias=True)\n",
       "              (key): Linear(in_features=768, out_features=768, bias=True)\n",
       "              (value): Linear(in_features=768, out_features=768, bias=True)\n",
       "              (dropout): Dropout(p=0.1, inplace=False)\n",
       "            )\n",
       "            (output): BertSelfOutput(\n",
       "              (dense): Linear(in_features=768, out_features=768, bias=True)\n",
       "              (LayerNorm): LayerNorm((768,), eps=1e-12, elementwise_affine=True)\n",
       "              (dropout): Dropout(p=0.1, inplace=False)\n",
       "            )\n",
       "          )\n",
       "          (intermediate): BertIntermediate(\n",
       "            (dense): Linear(in_features=768, out_features=3072, bias=True)\n",
       "            (intermediate_act_fn): GELUActivation()\n",
       "          )\n",
       "          (output): BertOutput(\n",
       "            (dense): Linear(in_features=3072, out_features=768, bias=True)\n",
       "            (LayerNorm): LayerNorm((768,), eps=1e-12, elementwise_affine=True)\n",
       "            (dropout): Dropout(p=0.1, inplace=False)\n",
       "          )\n",
       "        )\n",
       "      )\n",
       "    )\n",
       "    (pooler): BertPooler(\n",
       "      (dense): Linear(in_features=768, out_features=768, bias=True)\n",
       "      (activation): Tanh()\n",
       "    )\n",
       "  )\n",
       "  (dropout): Dropout(p=0.1, inplace=False)\n",
       "  (classifier): Linear(in_features=768, out_features=2, bias=True)\n",
       "  (loss_fct): CrossEntropyLoss()\n",
       ")"
      ]
     },
     "execution_count": 5,
     "metadata": {},
     "output_type": "execute_result"
    }
   ],
   "source": [
    "from transformers import AutoModelForSequenceClassification, AutoTokenizer, BertForSequenceClassification\n",
    "import torch\n",
    "import torch.nn as nn\n",
    "device = torch.device(\"mps\" if torch.backends.mps.is_available() else \"cpu\")\n",
    "\n",
    "class CustomModel(BertForSequenceClassification):\n",
    "  def __init__(self, config, class_weights=None):\n",
    "    super().__init__(config)\n",
    "    self.class_weights = class_weights\n",
    "    self.loss_fct = nn.CrossEntropyLoss(weight=class_weights) if class_weights is not None else nn.CrossEntropyLoss()\n",
    "\n",
    "  def forward(self, input_ids=None, attention_mask=None, labels=None):\n",
    "    outputs = super().forward(input_ids, attention_mask=attention_mask)\n",
    "    logits = outputs.logits\n",
    "\n",
    "    loss = None\n",
    "    if labels is not None:\n",
    "        loss = self.loss_fct(logits, labels)\n",
    "\n",
    "    return (loss, logits) if loss is not None else logits\n",
    "\n",
    "\n",
    "\n",
    "tokenizer = AutoTokenizer.from_pretrained(\"indobenchmark/indobert-base-p2\", cache_dir=\"cache/\")\n",
    "model = CustomModel.from_pretrained(\"indobenchmark/indobert-base-p2\", cache_dir=\"cache/\", num_labels=2)\n",
    "model.to(device)"
   ]
  },
  {
   "cell_type": "code",
   "execution_count": 6,
   "id": "21cb569c",
   "metadata": {},
   "outputs": [],
   "source": [
    "def tokenizer_function(examples):\n",
    "  return tokenizer(\n",
    "    examples[\"text\"],\n",
    "    padding=\"max_length\",\n",
    "    truncation=True,\n",
    "    max_length=256,\n",
    "    return_tensors=\"pt\" \n",
    "  )"
   ]
  },
  {
   "cell_type": "code",
   "execution_count": 7,
   "id": "793ad23d",
   "metadata": {},
   "outputs": [
    {
     "name": "stderr",
     "output_type": "stream",
     "text": [
      "Map: 100%|██████████| 900/900 [00:00<00:00, 23556.59 examples/s]\n",
      "Map: 100%|██████████| 100/100 [00:00<00:00, 16493.53 examples/s]\n"
     ]
    }
   ],
   "source": [
    "train_dataset = train_dataset.map(remove_urls)\n",
    "test_dataset = val_dataset.map(remove_urls)"
   ]
  },
  {
   "cell_type": "code",
   "execution_count": 8,
   "id": "44ad8082",
   "metadata": {},
   "outputs": [
    {
     "name": "stderr",
     "output_type": "stream",
     "text": [
      "Map: 100%|██████████| 900/900 [00:00<00:00, 12833.81 examples/s]\n",
      "Map: 100%|██████████| 100/100 [00:00<00:00, 8239.31 examples/s]\n"
     ]
    }
   ],
   "source": [
    "train_dataset = train_dataset.map(tokenizer_function, batched=True)\n",
    "test_dataset = val_dataset.map(tokenizer_function, batched=True)"
   ]
  },
  {
   "cell_type": "code",
   "execution_count": 9,
   "id": "ffc79277",
   "metadata": {},
   "outputs": [],
   "source": [
    "train_dataset = train_dataset.rename_column(\"relevancy_label\", \"labels\")\n",
    "test_dataset = test_dataset.rename_column(\"relevancy_label\", \"labels\")\n",
    "\n",
    "train_dataset.set_format(\"torch\", columns=[\"input_ids\", \"attention_mask\", \"token_type_ids\", \"labels\"])\n",
    "test_dataset.set_format(\"torch\", columns=[\"input_ids\", \"attention_mask\", \"token_type_ids\", \"labels\"])"
   ]
  },
  {
   "cell_type": "code",
   "execution_count": 10,
   "id": "8d34feb3",
   "metadata": {},
   "outputs": [
    {
     "name": "stdout",
     "output_type": "stream",
     "text": [
      "{'labels': tensor(0), 'input_ids': tensor([    2, 30459, 11283, 12508, 13133,   144, 10252,  4842, 30459,   300,\n",
      "        18881,    36, 30459,  5754,   734,  4471,  2723,  7595,   773, 30459,\n",
      "         2659,  2651, 16655, 16655,  3403,  3403, 30459,  5759, 10785, 10785,\n",
      "          457,  4565,    86, 14949,  7137,  4476, 30371,  4425,  8385,  6856,\n",
      "         2490,  7264, 30463,  3921, 30463,  1137,  5237,   259,   804,  5165,\n",
      "        30468,  2124,   368,   746, 10643, 30477,     3,     0,     0,     0,\n",
      "            0,     0,     0,     0,     0,     0,     0,     0,     0,     0,\n",
      "            0,     0,     0,     0,     0,     0,     0,     0,     0,     0,\n",
      "            0,     0,     0,     0,     0,     0,     0,     0,     0,     0,\n",
      "            0,     0,     0,     0,     0,     0,     0,     0,     0,     0,\n",
      "            0,     0,     0,     0,     0,     0,     0,     0,     0,     0,\n",
      "            0,     0,     0,     0,     0,     0,     0,     0,     0,     0,\n",
      "            0,     0,     0,     0,     0,     0,     0,     0,     0,     0,\n",
      "            0,     0,     0,     0,     0,     0,     0,     0,     0,     0,\n",
      "            0,     0,     0,     0,     0,     0,     0,     0,     0,     0,\n",
      "            0,     0,     0,     0,     0,     0,     0,     0,     0,     0,\n",
      "            0,     0,     0,     0,     0,     0,     0,     0,     0,     0,\n",
      "            0,     0,     0,     0,     0,     0,     0,     0,     0,     0,\n",
      "            0,     0,     0,     0,     0,     0,     0,     0,     0,     0,\n",
      "            0,     0,     0,     0,     0,     0,     0,     0,     0,     0,\n",
      "            0,     0,     0,     0,     0,     0,     0,     0,     0,     0,\n",
      "            0,     0,     0,     0,     0,     0,     0,     0,     0,     0,\n",
      "            0,     0,     0,     0,     0,     0,     0,     0,     0,     0,\n",
      "            0,     0,     0,     0,     0,     0,     0,     0,     0,     0,\n",
      "            0,     0,     0,     0,     0,     0,     0,     0,     0,     0,\n",
      "            0,     0,     0,     0,     0,     0]), 'token_type_ids': tensor([0, 0, 0, 0, 0, 0, 0, 0, 0, 0, 0, 0, 0, 0, 0, 0, 0, 0, 0, 0, 0, 0, 0, 0,\n",
      "        0, 0, 0, 0, 0, 0, 0, 0, 0, 0, 0, 0, 0, 0, 0, 0, 0, 0, 0, 0, 0, 0, 0, 0,\n",
      "        0, 0, 0, 0, 0, 0, 0, 0, 0, 0, 0, 0, 0, 0, 0, 0, 0, 0, 0, 0, 0, 0, 0, 0,\n",
      "        0, 0, 0, 0, 0, 0, 0, 0, 0, 0, 0, 0, 0, 0, 0, 0, 0, 0, 0, 0, 0, 0, 0, 0,\n",
      "        0, 0, 0, 0, 0, 0, 0, 0, 0, 0, 0, 0, 0, 0, 0, 0, 0, 0, 0, 0, 0, 0, 0, 0,\n",
      "        0, 0, 0, 0, 0, 0, 0, 0, 0, 0, 0, 0, 0, 0, 0, 0, 0, 0, 0, 0, 0, 0, 0, 0,\n",
      "        0, 0, 0, 0, 0, 0, 0, 0, 0, 0, 0, 0, 0, 0, 0, 0, 0, 0, 0, 0, 0, 0, 0, 0,\n",
      "        0, 0, 0, 0, 0, 0, 0, 0, 0, 0, 0, 0, 0, 0, 0, 0, 0, 0, 0, 0, 0, 0, 0, 0,\n",
      "        0, 0, 0, 0, 0, 0, 0, 0, 0, 0, 0, 0, 0, 0, 0, 0, 0, 0, 0, 0, 0, 0, 0, 0,\n",
      "        0, 0, 0, 0, 0, 0, 0, 0, 0, 0, 0, 0, 0, 0, 0, 0, 0, 0, 0, 0, 0, 0, 0, 0,\n",
      "        0, 0, 0, 0, 0, 0, 0, 0, 0, 0, 0, 0, 0, 0, 0, 0]), 'attention_mask': tensor([1, 1, 1, 1, 1, 1, 1, 1, 1, 1, 1, 1, 1, 1, 1, 1, 1, 1, 1, 1, 1, 1, 1, 1,\n",
      "        1, 1, 1, 1, 1, 1, 1, 1, 1, 1, 1, 1, 1, 1, 1, 1, 1, 1, 1, 1, 1, 1, 1, 1,\n",
      "        1, 1, 1, 1, 1, 1, 1, 1, 1, 0, 0, 0, 0, 0, 0, 0, 0, 0, 0, 0, 0, 0, 0, 0,\n",
      "        0, 0, 0, 0, 0, 0, 0, 0, 0, 0, 0, 0, 0, 0, 0, 0, 0, 0, 0, 0, 0, 0, 0, 0,\n",
      "        0, 0, 0, 0, 0, 0, 0, 0, 0, 0, 0, 0, 0, 0, 0, 0, 0, 0, 0, 0, 0, 0, 0, 0,\n",
      "        0, 0, 0, 0, 0, 0, 0, 0, 0, 0, 0, 0, 0, 0, 0, 0, 0, 0, 0, 0, 0, 0, 0, 0,\n",
      "        0, 0, 0, 0, 0, 0, 0, 0, 0, 0, 0, 0, 0, 0, 0, 0, 0, 0, 0, 0, 0, 0, 0, 0,\n",
      "        0, 0, 0, 0, 0, 0, 0, 0, 0, 0, 0, 0, 0, 0, 0, 0, 0, 0, 0, 0, 0, 0, 0, 0,\n",
      "        0, 0, 0, 0, 0, 0, 0, 0, 0, 0, 0, 0, 0, 0, 0, 0, 0, 0, 0, 0, 0, 0, 0, 0,\n",
      "        0, 0, 0, 0, 0, 0, 0, 0, 0, 0, 0, 0, 0, 0, 0, 0, 0, 0, 0, 0, 0, 0, 0, 0,\n",
      "        0, 0, 0, 0, 0, 0, 0, 0, 0, 0, 0, 0, 0, 0, 0, 0])}\n"
     ]
    }
   ],
   "source": [
    "print(train_dataset[0])"
   ]
  },
  {
   "cell_type": "code",
   "execution_count": 11,
   "id": "ef995197",
   "metadata": {},
   "outputs": [],
   "source": [
    "from transformers import TrainingArguments\n",
    "\n",
    "training_args = TrainingArguments(\n",
    "  output_dir=\"./results\",\n",
    "  num_train_epochs=7,\n",
    "  per_device_train_batch_size=16,\n",
    "  save_strategy=\"epoch\",\n",
    "  logging_strategy=\"steps\",\n",
    "  logging_steps=5,\n",
    "  load_best_model_at_end=True,\n",
    "  metric_for_best_model=\"accuracy\",\n",
    "  eval_strategy=\"epoch\",\n",
    ")"
   ]
  },
  {
   "cell_type": "code",
   "execution_count": 12,
   "id": "13350e25",
   "metadata": {},
   "outputs": [],
   "source": [
    "from transformers import Trainer, default_data_collator\n",
    "from torch.optim import AdamW\n",
    "import evaluate\n",
    "accuracy_metric = evaluate.load(\"accuracy\")\n",
    "\n",
    "def compute_metrics(eval_pred):\n",
    "    logits, labels = eval_pred\n",
    "    predictions = logits.argmax(axis=-1)\n",
    "    return accuracy_metric.compute(predictions=predictions, references=labels)\n",
    "  \n",
    "trainer = Trainer(\n",
    "  model=model,\n",
    "  args = training_args,\n",
    "  train_dataset=train_dataset,\n",
    "  eval_dataset=test_dataset,\n",
    "  compute_metrics=compute_metrics,\n",
    "  data_collator=default_data_collator,\n",
    "  optimizers=(AdamW(model.parameters(), lr=5e-5), None)\n",
    ")"
   ]
  },
  {
   "cell_type": "code",
   "execution_count": 13,
   "id": "c36159c9",
   "metadata": {},
   "outputs": [],
   "source": [
    "from transformers import Trainer, default_data_collator\n",
    "import evaluate\n",
    "\n",
    "accuracy_metric = evaluate.load(\"accuracy\")\n",
    "trainer = Trainer(\n",
    "  model=model,\n",
    "  args = training_args,\n",
    "  train_dataset=train_dataset,\n",
    "  eval_dataset=test_dataset,\n",
    "  compute_metrics=compute_metrics,\n",
    "  data_collator=default_data_collator,\n",
    ")"
   ]
  },
  {
   "cell_type": "code",
   "execution_count": 14,
   "id": "d64e286e",
   "metadata": {},
   "outputs": [
    {
     "name": "stdout",
     "output_type": "stream",
     "text": [
      "dict_keys(['labels', 'input_ids', 'attention_mask'])\n"
     ]
    },
    {
     "name": "stderr",
     "output_type": "stream",
     "text": [
      "/Users/christianharjuno/anaconda3/envs/sentiment/lib/python3.9/site-packages/torch/utils/data/dataloader.py:683: UserWarning: 'pin_memory' argument is set as true but not supported on MPS now, then device pinned memory won't be used.\n",
      "  warnings.warn(warn_msg)\n"
     ]
    }
   ],
   "source": [
    "train_dataloader = trainer.get_train_dataloader()\n",
    "batch = next(iter(train_dataloader))\n",
    "print(batch.keys())"
   ]
  },
  {
   "cell_type": "code",
   "execution_count": 15,
   "id": "ad8bbcfc",
   "metadata": {},
   "outputs": [
    {
     "data": {
      "text/html": [
       "\n",
       "    <div>\n",
       "      \n",
       "      <progress value='399' max='399' style='width:300px; height:20px; vertical-align: middle;'></progress>\n",
       "      [399/399 08:25, Epoch 7/7]\n",
       "    </div>\n",
       "    <table border=\"1\" class=\"dataframe\">\n",
       "  <thead>\n",
       " <tr style=\"text-align: left;\">\n",
       "      <th>Epoch</th>\n",
       "      <th>Training Loss</th>\n",
       "      <th>Validation Loss</th>\n",
       "      <th>Accuracy</th>\n",
       "    </tr>\n",
       "  </thead>\n",
       "  <tbody>\n",
       "    <tr>\n",
       "      <td>1</td>\n",
       "      <td>0.281900</td>\n",
       "      <td>0.129032</td>\n",
       "      <td>0.940000</td>\n",
       "    </tr>\n",
       "    <tr>\n",
       "      <td>2</td>\n",
       "      <td>0.511300</td>\n",
       "      <td>0.543101</td>\n",
       "      <td>0.790000</td>\n",
       "    </tr>\n",
       "    <tr>\n",
       "      <td>3</td>\n",
       "      <td>0.105700</td>\n",
       "      <td>0.098385</td>\n",
       "      <td>0.970000</td>\n",
       "    </tr>\n",
       "    <tr>\n",
       "      <td>4</td>\n",
       "      <td>0.072500</td>\n",
       "      <td>0.200213</td>\n",
       "      <td>0.950000</td>\n",
       "    </tr>\n",
       "    <tr>\n",
       "      <td>5</td>\n",
       "      <td>0.068100</td>\n",
       "      <td>0.324340</td>\n",
       "      <td>0.920000</td>\n",
       "    </tr>\n",
       "    <tr>\n",
       "      <td>6</td>\n",
       "      <td>0.000500</td>\n",
       "      <td>0.348205</td>\n",
       "      <td>0.930000</td>\n",
       "    </tr>\n",
       "    <tr>\n",
       "      <td>7</td>\n",
       "      <td>0.000400</td>\n",
       "      <td>0.432108</td>\n",
       "      <td>0.920000</td>\n",
       "    </tr>\n",
       "  </tbody>\n",
       "</table><p>"
      ],
      "text/plain": [
       "<IPython.core.display.HTML object>"
      ]
     },
     "metadata": {},
     "output_type": "display_data"
    },
    {
     "name": "stderr",
     "output_type": "stream",
     "text": [
      "/Users/christianharjuno/anaconda3/envs/sentiment/lib/python3.9/site-packages/torch/utils/data/dataloader.py:683: UserWarning: 'pin_memory' argument is set as true but not supported on MPS now, then device pinned memory won't be used.\n",
      "  warnings.warn(warn_msg)\n",
      "/Users/christianharjuno/anaconda3/envs/sentiment/lib/python3.9/site-packages/torch/utils/data/dataloader.py:683: UserWarning: 'pin_memory' argument is set as true but not supported on MPS now, then device pinned memory won't be used.\n",
      "  warnings.warn(warn_msg)\n",
      "/Users/christianharjuno/anaconda3/envs/sentiment/lib/python3.9/site-packages/torch/utils/data/dataloader.py:683: UserWarning: 'pin_memory' argument is set as true but not supported on MPS now, then device pinned memory won't be used.\n",
      "  warnings.warn(warn_msg)\n",
      "/Users/christianharjuno/anaconda3/envs/sentiment/lib/python3.9/site-packages/torch/utils/data/dataloader.py:683: UserWarning: 'pin_memory' argument is set as true but not supported on MPS now, then device pinned memory won't be used.\n",
      "  warnings.warn(warn_msg)\n",
      "/Users/christianharjuno/anaconda3/envs/sentiment/lib/python3.9/site-packages/torch/utils/data/dataloader.py:683: UserWarning: 'pin_memory' argument is set as true but not supported on MPS now, then device pinned memory won't be used.\n",
      "  warnings.warn(warn_msg)\n",
      "/Users/christianharjuno/anaconda3/envs/sentiment/lib/python3.9/site-packages/torch/utils/data/dataloader.py:683: UserWarning: 'pin_memory' argument is set as true but not supported on MPS now, then device pinned memory won't be used.\n",
      "  warnings.warn(warn_msg)\n"
     ]
    },
    {
     "data": {
      "text/plain": [
       "TrainOutput(global_step=399, training_loss=0.14358261361529112, metrics={'train_runtime': 511.2404, 'train_samples_per_second': 12.323, 'train_steps_per_second': 0.78, 'total_flos': 828799824384000.0, 'train_loss': 0.14358261361529112, 'epoch': 7.0})"
      ]
     },
     "execution_count": 15,
     "metadata": {},
     "output_type": "execute_result"
    }
   ],
   "source": [
    "trainer.train()"
   ]
  },
  {
   "cell_type": "code",
   "execution_count": 27,
   "id": "c9c172e7",
   "metadata": {},
   "outputs": [
    {
     "name": "stderr",
     "output_type": "stream",
     "text": [
      "/Users/christianharjuno/anaconda3/envs/sentiment/lib/python3.9/site-packages/torch/utils/data/dataloader.py:683: UserWarning: 'pin_memory' argument is set as true but not supported on MPS now, then device pinned memory won't be used.\n",
      "  warnings.warn(warn_msg)\n"
     ]
    },
    {
     "data": {
      "text/html": [],
      "text/plain": [
       "<IPython.core.display.HTML object>"
      ]
     },
     "metadata": {},
     "output_type": "display_data"
    },
    {
     "name": "stderr",
     "output_type": "stream",
     "text": [
      "/Users/christianharjuno/anaconda3/envs/sentiment/lib/python3.9/site-packages/torch/utils/data/dataloader.py:683: UserWarning: 'pin_memory' argument is set as true but not supported on MPS now, then device pinned memory won't be used.\n",
      "  warnings.warn(warn_msg)\n"
     ]
    },
    {
     "name": "stdout",
     "output_type": "stream",
     "text": [
      "\n",
      "=== Confusion Matrix ===\n",
      "[[64  1]\n",
      " [ 2 33]]\n",
      "\n",
      "=== Classification Report ===\n",
      "              precision    recall  f1-score   support\n",
      "\n",
      "  irrelevant     0.9697    0.9846    0.9771        65\n",
      "    relevant     0.9706    0.9429    0.9565        35\n",
      "\n",
      "    accuracy                         0.9700       100\n",
      "   macro avg     0.9701    0.9637    0.9668       100\n",
      "weighted avg     0.9700    0.9700    0.9699       100\n",
      "\n",
      "=== Scalar metrics returned by Trainer ===\n",
      "eval_loss           : 0.0984\n",
      "eval_model_preparation_time: 0.0015\n",
      "eval_accuracy       : 0.9700\n",
      "eval_macro_f1       : 0.9668\n",
      "eval_macro_precision: 0.9701\n",
      "eval_macro_recall   : 0.9637\n",
      "eval_irrelevant_precision: 0.9697\n",
      "eval_irrelevant_recall: 0.9846\n",
      "eval_irrelevant_f1  : 0.9771\n",
      "eval_irrelevant_support: 65.0000\n",
      "eval_relevant_precision: 0.9706\n",
      "eval_relevant_recall: 0.9429\n",
      "eval_relevant_f1    : 0.9565\n",
      "eval_relevant_support: 35.0000\n",
      "eval_runtime        : 3.1031\n",
      "eval_samples_per_second: 32.2260\n",
      "eval_steps_per_second: 4.1890\n"
     ]
    }
   ],
   "source": [
    "from sklearn.metrics import (\n",
    "    accuracy_score,\n",
    "    precision_recall_fscore_support,\n",
    "    confusion_matrix,\n",
    "    classification_report,\n",
    ")\n",
    "\n",
    "CLASS_NAMES = [\"irrelevant\", \"relevant\"]  # adjust if you have more\n",
    "\n",
    "def compute_metrics(eval_pred):\n",
    "    logits, labels = eval_pred\n",
    "    preds = logits.argmax(axis=1)\n",
    "\n",
    "    # overall (macro) metrics\n",
    "    macro_p, macro_r, macro_f1, _ = precision_recall_fscore_support(\n",
    "        labels, preds, average=\"macro\", zero_division=0\n",
    "    )\n",
    "    acc = accuracy_score(labels, preds)\n",
    "\n",
    "    # per-class metrics\n",
    "    per_class = precision_recall_fscore_support(labels, preds, average=None, zero_division=0)\n",
    "    p_cls, r_cls, f1_cls, support_cls = per_class\n",
    "\n",
    "    # Flatten per-class metrics into scalars in the returned dict\n",
    "    metrics = {\n",
    "        \"accuracy\": acc,\n",
    "        \"macro_f1\": macro_f1,\n",
    "        \"macro_precision\": macro_p,\n",
    "        \"macro_recall\": macro_r,\n",
    "    }\n",
    "    for idx, name in enumerate(CLASS_NAMES):\n",
    "        metrics[f\"{name}_precision\"] = p_cls[idx]\n",
    "        metrics[f\"{name}_recall\"]    = r_cls[idx]\n",
    "        metrics[f\"{name}_f1\"]        = f1_cls[idx]\n",
    "        metrics[f\"{name}_support\"]   = support_cls[idx]\n",
    "\n",
    "    return metrics\n",
    "\n",
    "from transformers import Trainer\n",
    "\n",
    "evaluation_trainer = Trainer(\n",
    "    model=model,\n",
    "    args=training_args,\n",
    "    train_dataset=train_dataset,\n",
    "    eval_dataset=test_dataset,\n",
    "    compute_metrics=compute_metrics,\n",
    ")\n",
    "metrics = evaluation_trainer.evaluate()\n",
    "pred_out = evaluation_trainer.predict(test_dataset)\n",
    "preds  = pred_out.predictions.argmax(axis=1)\n",
    "labels = pred_out.label_ids\n",
    "\n",
    "print(\"\\n=== Confusion Matrix ===\")\n",
    "print(confusion_matrix(labels, preds))\n",
    "\n",
    "print(\"\\n=== Classification Report ===\")\n",
    "print(classification_report(labels, preds, target_names=CLASS_NAMES, digits=4))\n",
    "\n",
    "print(\"=== Scalar metrics returned by Trainer ===\")\n",
    "for k, v in metrics.items():\n",
    "    print(f\"{k:20s}: {v:.4f}\")"
   ]
  },
  {
   "cell_type": "code",
   "execution_count": 19,
   "id": "92ab5ba5",
   "metadata": {},
   "outputs": [
    {
     "data": {
      "text/plain": [
       "('tokenizers/ruu-tni-relevancy-classification-p1/tokenizer_config.json',\n",
       " 'tokenizers/ruu-tni-relevancy-classification-p1/special_tokens_map.json',\n",
       " 'tokenizers/ruu-tni-relevancy-classification-p1/vocab.txt',\n",
       " 'tokenizers/ruu-tni-relevancy-classification-p1/added_tokens.json',\n",
       " 'tokenizers/ruu-tni-relevancy-classification-p1/tokenizer.json')"
      ]
     },
     "execution_count": 19,
     "metadata": {},
     "output_type": "execute_result"
    }
   ],
   "source": [
    "trainer.save_model(\"models/ruu-tni-relevancy-classification-p1\")\n",
    "tokenizer.save_pretrained(\"tokenizers/ruu-tni-relevancy-classification-p1\")"
   ]
  },
  {
   "cell_type": "code",
   "execution_count": 24,
   "id": "968c0a95",
   "metadata": {},
   "outputs": [
    {
     "name": "stderr",
     "output_type": "stream",
     "text": [
      "model.safetensors: 100%|██████████| 498M/498M [00:33<00:00, 15.0MB/s]   \n",
      "No files have been modified since last commit. Skipping to prevent empty commit.\n"
     ]
    },
    {
     "data": {
      "text/plain": [
       "CommitInfo(commit_url='https://huggingface.co/tianharjuno/ruu-tni-relevancy-classification-p1/commit/7d051601964831ee4d7ab5840923863ffb25e03b', commit_message='Upload tokenizer', commit_description='', oid='7d051601964831ee4d7ab5840923863ffb25e03b', pr_url=None, repo_url=RepoUrl('https://huggingface.co/tianharjuno/ruu-tni-relevancy-classification-p1', endpoint='https://huggingface.co', repo_type='model', repo_id='tianharjuno/ruu-tni-relevancy-classification-p1'), pr_revision=None, pr_num=None)"
      ]
     },
     "execution_count": 24,
     "metadata": {},
     "output_type": "execute_result"
    }
   ],
   "source": [
    "from transformers import AutoModelForSequenceClassification, AutoTokenizer\n",
    "model = AutoModelForSequenceClassification.from_pretrained(\"models/ruu-tni-relevancy-classification-p1\")\n",
    "tokenizers = AutoTokenizer.from_pretrained(\"tokenizers/ruu-tni-relevancy-classification-p1\")\n",
    "model.push_to_hub(\"tianharjuno/ruu-tni-relevancy-classification-p1\")\n",
    "tokenizers.push_to_hub(\"tianharjuno/ruu-tni-relevancy-classification-p1\")"
   ]
  },
  {
   "cell_type": "code",
   "execution_count": 22,
   "id": "d50678d2",
   "metadata": {},
   "outputs": [],
   "source": [
    "import torch\n",
    "from transformers import AutoModelForSequenceClassification, AutoTokenizer\n",
    "model = AutoModelForSequenceClassification.from_pretrained(\"models/ruu-tni-relevancy-classification-p1\", cache_dir=\"cache/\")\n",
    "tokenizers = AutoTokenizer.from_pretrained(\"tokenizers/ruu-tni-relevancy-classification-p1\", cache_dir=\"cache/\")\n",
    "model.eval()\n",
    "\n",
    "def predict(text):\n",
    "  inputs = tokenizers(text, return_tensors=\"pt\", truncation=True, padding=True)\n",
    "  with torch.no_grad():\n",
    "    outputs = model(**inputs)\n",
    "  logits = outputs.logits\n",
    "  \n",
    "  probabilities = torch.softmax(logits, dim=1)\n",
    "  predicted_class_idx = torch.argmax(probabilities, dim=1).item()\n",
    "  \n",
    "  label_mappings = {\n",
    "    1: \"relevant\",\n",
    "    0: \"irrelevant\"\n",
    "  }\n",
    "  \n",
    "  print(f\"Predicted class index: {label_mappings[predicted_class_idx]}\")\n",
    "  print(f\"Probabilities: {probabilities.squeeze().tolist()}\")\n"
   ]
  },
  {
   "cell_type": "code",
   "execution_count": 23,
   "id": "80123862",
   "metadata": {},
   "outputs": [
    {
     "name": "stderr",
     "output_type": "stream",
     "text": [
      "Asking to truncate to max_length but no maximum length is provided and the model has no predefined maximum length. Default to no truncation.\n"
     ]
    },
    {
     "name": "stdout",
     "output_type": "stream",
     "text": [
      "Predicted class index: relevant\n",
      "Probabilities: [0.015615860000252724, 0.9843841791152954]\n"
     ]
    }
   ],
   "source": [
    "predict(\"Kehidupan WNI semakin terancam dengan ruu tni #cabutruutni\")"
   ]
  },
  {
   "cell_type": "markdown",
   "id": "8f50cf27",
   "metadata": {},
   "source": [
    "## Pre-annotation on new sampled data using relevancy stage 1 model."
   ]
  },
  {
   "cell_type": "code",
   "execution_count": 30,
   "id": "736c54d2",
   "metadata": {},
   "outputs": [
    {
     "name": "stderr",
     "output_type": "stream",
     "text": [
      "Batch predicting: 100%|██████████| 511/511 [02:30<00:00,  3.40it/s]\n"
     ]
    }
   ],
   "source": [
    "import json\n",
    "import torch\n",
    "from transformers import AutoModelForSequenceClassification, AutoTokenizer\n",
    "from tqdm import tqdm\n",
    "import numpy as np\n",
    "\n",
    "# Load input JSON\n",
    "with open(\"out/indobertweet/indobertweet-kmeans-embed.json\", \"r\", encoding=\"utf-8\") as file:\n",
    "    documents = json.load(file)\n",
    "\n",
    "# Load model and tokenizer\n",
    "model = AutoModelForSequenceClassification.from_pretrained(\n",
    "    \"tianharjuno/ruu-tni-relevancy-classification-p1\", device_map=None\n",
    ")\n",
    "tokenizer = AutoTokenizer.from_pretrained(\n",
    "    \"tianharjuno/ruu-tni-relevancy-classification-p1\"\n",
    ")\n",
    "model.eval()\n",
    "device = torch.device(\"mps\" if torch.backends.mps.is_available() and torch.backends.mps.is_built() else \"cpu\")\n",
    "model.to(device)\n",
    "\n",
    "# Prediction function with batching\n",
    "def predict_in_batches(texts, batch_size=32):\n",
    "    results = []\n",
    "    for i in tqdm(range(0, len(texts), batch_size), desc=\"Batch predicting\"):\n",
    "        batch = texts[i:i + batch_size]\n",
    "        inputs = tokenizer(\n",
    "            batch,\n",
    "            return_tensors=\"pt\",\n",
    "            truncation=True,\n",
    "            padding=True,\n",
    "            max_length=256\n",
    "        )\n",
    "        inputs = {k: v.to(device) for k, v in inputs.items()}\n",
    "        with torch.no_grad():\n",
    "            outputs = model(**inputs)\n",
    "        logits = outputs.logits\n",
    "        probs = torch.softmax(logits, dim=1)\n",
    "        indices = torch.argmax(probs, dim=1)\n",
    "        label_map = [\"irrelevant\", \"relevant\"]\n",
    "        batch_results = [\n",
    "            {\"label\": label_map[i.item()], \"score\": probs[j][i].item()}\n",
    "            for j, i in enumerate(indices)\n",
    "        ]\n",
    "        results.extend(batch_results)\n",
    "    return results\n",
    "\n",
    "# Run prediction\n",
    "texts = [doc[\"content\"] for doc in documents]\n",
    "results = predict_in_batches(texts, batch_size=32)\n",
    "\n",
    "#calculate entropy\n",
    "def binary_entropy(p):\n",
    "    p = np.clip(p, 1e-12, 1 - 1e-12)  # Avoid log(0)\n",
    "    return -p * np.log2(p) - (1 - p) * np.log2(1 - p)\n",
    "    \n",
    "parsed_result = []\n",
    "for doc, result in zip(documents, results):\n",
    "    doc[\"prediction_result\"] = result[\"label\"]\n",
    "    doc[\"prediction_score\"] = result[\"score\"]\n",
    "    doc[\"entropy_score\"] = binary_entropy(result[\"score\"])\n",
    "    parsed_result.append(doc)\n",
    "\n",
    "# Save output\n",
    "with open(\"out/labelstudio/p2/p2_training_preannotated.json\", \"w\", encoding=\"utf-8\") as file:\n",
    "    json.dump(parsed_result, file, ensure_ascii=False, indent=2)"
   ]
  },
  {
   "cell_type": "code",
   "execution_count": 31,
   "id": "a5c3a077",
   "metadata": {},
   "outputs": [
    {
     "name": "stdout",
     "output_type": "stream",
     "text": [
      "16324 1000 15324\n",
      "144 41 20\n",
      "50 15 6\n",
      "224 64 31\n",
      "70 20 10\n",
      "157 45 22\n",
      "119 34 16\n",
      "200 57 28\n",
      "64 19 8\n",
      "111 32 15\n",
      "269 77 37\n"
     ]
    }
   ],
   "source": [
    "\n",
    "import json\n",
    "from collections import defaultdict\n",
    "import math\n",
    "import pandas as pd\n",
    "import random\n",
    "with open(\"out/labelstudio/p2/p2_training_preannotated.json\", \"r\", encoding=\"utf-8\") as file:\n",
    "  documents = json.load(file)\n",
    "with open(\"out/labelstudio/p1/p1_training_cleaned.json\", \"r\", encoding=\"utf-8\") as file:\n",
    "  p1documents = json.load(file)\n",
    "  \n",
    "p1documents_ids = [doc[\"tweet_id\"] for doc in p1documents]\n",
    "\n",
    "purified = []\n",
    "\n",
    "for doc in documents:\n",
    "  found = 0\n",
    "  for ids in p1documents_ids:\n",
    "    if(doc[\"tweet_id\"] == ids):\n",
    "      found = 1\n",
    "  if found == 0:\n",
    "    purified.append(doc)\n",
    "\n",
    "print(len(documents), len(p1documents), len(purified))\n",
    "documents = purified\n",
    "SAMPLE_COUNT = 2000\n",
    "\n",
    "buckets = defaultdict(list)\n",
    "buckets_sampled = defaultdict(list)\n",
    "bucket_content_count = defaultdict(int)\n",
    "bucket_ratio_count = defaultdict(float)\n",
    "data_count = 0\n",
    "\n",
    "for doc in documents:\n",
    "  label = doc[\"bucket_label\"]\n",
    "  buckets[label].append(doc)\n",
    "  bucket_content_count[label] += 1\n",
    "  data_count += 1\n",
    "  \n",
    "for bucket_name, count in bucket_content_count.items():\n",
    "  bucket_ratio_count[bucket_name] = count / data_count\n",
    "  \n",
    "for bucket_name, data in buckets.items():\n",
    "  data.sort(key=lambda x: x[\"entropy_score\"], reverse=True)\n",
    "\n",
    "for bucket_name, data in buckets.items():\n",
    "  bucket_sample_total = math.ceil(bucket_ratio_count[bucket_name] * SAMPLE_COUNT)\n",
    "  data_df = pd.DataFrame(data)\n",
    "  \n",
    "  high_entropy_threshold = data_df[\"entropy_score\"].quantile(0.30)   # 30th percentile (start of high entropy)\n",
    "  medium_entropy_lower = data_df[\"entropy_score\"].quantile(0.50)     # 50th percentile\n",
    "  medium_entropy_upper = data_df[\"entropy_score\"].quantile(0.80)     # 80th percentile\n",
    "  low_entropy_lower = data_df[\"entropy_score\"].quantile(0.10)        # 10th percentile\n",
    "  low_entropy_upper = data_df[\"entropy_score\"].quantile(0.20)        # 20th percentile\n",
    "  \n",
    "  \n",
    "  # High entropy: top 70% entropy, i.e. > 30th percentile\n",
    "  # Print thresholds firs\n",
    "\n",
    "  low_entropy_tweets = data_df[\n",
    "    (data_df[\"entropy_score\"] >= low_entropy_lower) & \n",
    "    (data_df[\"entropy_score\"] <= low_entropy_upper)\n",
    "  ]\n",
    "\n",
    "  medium_entropy_tweets = data_df[\n",
    "    (data_df[\"entropy_score\"] >= medium_entropy_lower) & \n",
    "    (data_df[\"entropy_score\"] <= medium_entropy_upper)\n",
    "  ]\n",
    "\n",
    "  high_entropy_tweets = data_df[\n",
    "    data_df[\"entropy_score\"] > high_entropy_threshold\n",
    "  ]\n",
    "\n",
    "  high_entropy_count = math.ceil(bucket_sample_total * 0.7)\n",
    "  medium_entropy_count = math.ceil(bucket_sample_total * 0.2)\n",
    "  low_entropy_count = bucket_sample_total - high_entropy_count - medium_entropy_count\n",
    "\n",
    "  high_entropy_tweets_adjusted = high_entropy_tweets[:high_entropy_count]\n",
    "  medium_entropy_tweets_adjusted = medium_entropy_tweets.sample(n=medium_entropy_count, random_state=42)\n",
    "  low_entropy_tweets_adjusted = low_entropy_tweets.sample(n = low_entropy_count, random_state=42)\n",
    "  \n",
    "  print(high_entropy_count, medium_entropy_count, low_entropy_count)\n",
    "  \n",
    "  concat = pd.concat([high_entropy_tweets_adjusted, medium_entropy_tweets_adjusted, low_entropy_tweets_adjusted], ignore_index=True)\n",
    "  buckets_sampled[bucket_name] = concat.to_dict(orient=\"records\")\n",
    "  \n",
    "merged = []\n",
    "for dd in buckets_sampled.values():\n",
    "  merged.extend(dd)\n",
    "  \n",
    "formatted = []\n",
    "for doc in merged:\n",
    "  formatted.append({\n",
    "    \"data\": {\n",
    "      \"text\": doc[\"content\"],\n",
    "      \"bucket_label\": doc[\"bucket_label\"],\n",
    "      \"prediction_score\": doc[\"prediction_score\"],\n",
    "      \"prediction_result\": doc[\"prediction_result\"],\n",
    "      \"entropy_score\": doc[\"entropy_score\"]\n",
    "      },\n",
    "    \"meta\": {\n",
    "      \"tweet_id\": doc[\"tweet_id\"],\n",
    "      \"time\": doc[\"time\"],\n",
    "      \"author\": doc[\"author\"],\n",
    "      \"comment_count\": doc[\"comment_count\"],\n",
    "      \"repost_count\": doc[\"repost_count\"],\n",
    "      \"like_count\": doc[\"like_count\"],\n",
    "      \"view_count\": doc[\"view_count\"],\n",
    "      \"created_at\": doc[\"created_at\"],\n",
    "    },\n",
    "    \"predictions\": [{\n",
    "      \"model_version\": \"1.0.0\",\n",
    "      \"score\": doc[\"prediction_score\"],\n",
    "      \"result\": [{\n",
    "        \"from_name\": \"sentiment\",\n",
    "        \"to_name\": \"text\",\n",
    "        \"type\": \"choices\",\n",
    "        \"value\": {\"choices\": [doc[\"prediction_result\"]]},\n",
    "      }]\n",
    "    }]\n",
    "  })  \n",
    "\n",
    "with open(\"out/labelstudio/p2/p2_training_prepped.json\", \"w\", encoding=\"utf-8\") as file:\n",
    "  json.dump(formatted, file, ensure_ascii=False, indent=2)\n"
   ]
  }
 ],
 "metadata": {
  "kernelspec": {
   "display_name": "sentiment",
   "language": "python",
   "name": "python3"
  },
  "language_info": {
   "codemirror_mode": {
    "name": "ipython",
    "version": 3
   },
   "file_extension": ".py",
   "mimetype": "text/x-python",
   "name": "python",
   "nbconvert_exporter": "python",
   "pygments_lexer": "ipython3",
   "version": "3.9.21"
  }
 },
 "nbformat": 4,
 "nbformat_minor": 5
}
