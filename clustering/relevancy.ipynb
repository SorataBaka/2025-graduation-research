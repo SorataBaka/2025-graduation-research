{
 "cells": [
  {
   "cell_type": "code",
   "execution_count": 11,
   "id": "711c22ff",
   "metadata": {},
   "outputs": [],
   "source": [
    "labels = [\n",
    "  \"generic\",\n",
    "  \"probable_spam\",\n",
    "  \"long_tweets_with_hashtag\",\n",
    "  \"short_tweets_with_hashtag\",\n",
    "]"
   ]
  },
  {
   "cell_type": "code",
   "execution_count": 12,
   "id": "853d7e3d",
   "metadata": {},
   "outputs": [
    {
     "name": "stdout",
     "output_type": "stream",
     "text": [
      "Sampled tweets saved to out/labelstudio-prepped.json\n"
     ]
    }
   ],
   "source": [
    "import json\n",
    "import random\n",
    "from collections import defaultdict\n",
    "\n",
    "# Parameters\n",
    "INPUT_FILE = 'out/cleaned-with-labels.json'\n",
    "OUTPUT_FILE = 'out/labelstudio-prepped.json'\n",
    "SAMPLES_PER_BUCKET = 3000  # Change this as needed\n",
    "\n",
    "# Load data\n",
    "with open(INPUT_FILE, 'r', encoding='utf-8') as f:\n",
    "    tweets = json.load(f)\n",
    "\n",
    "# Group tweets by bucket\n",
    "buckets = defaultdict(list)\n",
    "for tweet in tweets:\n",
    "  bucket_label = labels[tweet[\"metadata\"][\"bucket_label\"]]\n",
    "  tweet[\"bucket_label\"] = bucket_label\n",
    "  buckets[bucket_label].append(tweet)\n",
    "\n",
    "# Sample tweets\n",
    "sampled_tweets = []\n",
    "for bucket_label, tweets_in_bucket in buckets.items():\n",
    "  if len(tweets_in_bucket) < SAMPLES_PER_BUCKET:\n",
    "    print(f\"Warning: Bucket '{bucket_label}' has only {len(tweets_in_bucket)} tweets. Sampling all.\")\n",
    "    sampled = tweets_in_bucket\n",
    "  else:\n",
    "    sampled = random.sample(tweets_in_bucket, SAMPLES_PER_BUCKET)\n",
    "  sampled_tweets.extend(sampled)\n",
    "\n",
    "# Save to output JSON\n",
    "with open(OUTPUT_FILE, 'w', encoding='utf-8') as f:\n",
    "  json.dump(sampled_tweets, f, ensure_ascii=False, indent=2)\n",
    "\n",
    "print(f\"Sampled tweets saved to {OUTPUT_FILE}\")\n"
   ]
  },
  {
   "cell_type": "code",
   "execution_count": null,
   "id": "fe6f2f62",
   "metadata": {},
   "outputs": [],
   "source": []
  }
 ],
 "metadata": {
  "kernelspec": {
   "display_name": "sentiment",
   "language": "python",
   "name": "python3"
  },
  "language_info": {
   "codemirror_mode": {
    "name": "ipython",
    "version": 3
   },
   "file_extension": ".py",
   "mimetype": "text/x-python",
   "name": "python",
   "nbconvert_exporter": "python",
   "pygments_lexer": "ipython3",
   "version": "3.9.22"
  }
 },
 "nbformat": 4,
 "nbformat_minor": 5
}
