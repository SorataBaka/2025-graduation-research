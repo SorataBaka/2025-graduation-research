{
 "cells": [
  {
   "cell_type": "code",
   "execution_count": 1,
   "id": "d580f7b2",
   "metadata": {},
   "outputs": [
    {
     "name": "stderr",
     "output_type": "stream",
     "text": [
      "/opt/anaconda3/envs/sentiment/lib/python3.9/site-packages/tqdm/auto.py:21: TqdmWarning: IProgress not found. Please update jupyter and ipywidgets. See https://ipywidgets.readthedocs.io/en/stable/user_install.html\n",
      "  from .autonotebook import tqdm as notebook_tqdm\n"
     ]
    }
   ],
   "source": [
    "from datasets import load_dataset\n",
    "\n",
    "dataset = load_dataset(\"json\", data_files=\"out/cleaned-formatted.jsonl\", split=\"train\", streaming=True)\n"
   ]
  },
  {
   "cell_type": "code",
   "execution_count": 2,
   "id": "761bdd10",
   "metadata": {},
   "outputs": [
    {
     "data": {
      "text/plain": [
       "BertModel(\n",
       "  (embeddings): BertEmbeddings(\n",
       "    (word_embeddings): Embedding(50000, 768, padding_idx=0)\n",
       "    (position_embeddings): Embedding(512, 768)\n",
       "    (token_type_embeddings): Embedding(2, 768)\n",
       "    (LayerNorm): LayerNorm((768,), eps=1e-12, elementwise_affine=True)\n",
       "    (dropout): Dropout(p=0.1, inplace=False)\n",
       "  )\n",
       "  (encoder): BertEncoder(\n",
       "    (layer): ModuleList(\n",
       "      (0-11): 12 x BertLayer(\n",
       "        (attention): BertAttention(\n",
       "          (self): BertSdpaSelfAttention(\n",
       "            (query): Linear(in_features=768, out_features=768, bias=True)\n",
       "            (key): Linear(in_features=768, out_features=768, bias=True)\n",
       "            (value): Linear(in_features=768, out_features=768, bias=True)\n",
       "            (dropout): Dropout(p=0.1, inplace=False)\n",
       "          )\n",
       "          (output): BertSelfOutput(\n",
       "            (dense): Linear(in_features=768, out_features=768, bias=True)\n",
       "            (LayerNorm): LayerNorm((768,), eps=1e-12, elementwise_affine=True)\n",
       "            (dropout): Dropout(p=0.1, inplace=False)\n",
       "          )\n",
       "        )\n",
       "        (intermediate): BertIntermediate(\n",
       "          (dense): Linear(in_features=768, out_features=3072, bias=True)\n",
       "          (intermediate_act_fn): GELUActivation()\n",
       "        )\n",
       "        (output): BertOutput(\n",
       "          (dense): Linear(in_features=3072, out_features=768, bias=True)\n",
       "          (LayerNorm): LayerNorm((768,), eps=1e-12, elementwise_affine=True)\n",
       "          (dropout): Dropout(p=0.1, inplace=False)\n",
       "        )\n",
       "      )\n",
       "    )\n",
       "  )\n",
       "  (pooler): BertPooler(\n",
       "    (dense): Linear(in_features=768, out_features=768, bias=True)\n",
       "    (activation): Tanh()\n",
       "  )\n",
       ")"
      ]
     },
     "execution_count": 2,
     "metadata": {},
     "output_type": "execute_result"
    }
   ],
   "source": [
    "from transformers import AutoModel, AutoTokenizer\n",
    "\n",
    "tokenizer = AutoTokenizer.from_pretrained(\"indobenchmark/indobert-base-p2\", cache_dir=\"cache/\")\n",
    "model = AutoModel.from_pretrained(\"indobenchmark/indobert-base-p2\", cache_dir=\"cache/\")\n",
    "model.eval()"
   ]
  },
  {
   "cell_type": "code",
   "execution_count": 3,
   "id": "6ed3573c",
   "metadata": {},
   "outputs": [],
   "source": [
    "import torch\n",
    "def getEncodings(textArray):\n",
    "  inputs = tokenizer(\n",
    "    textArray,\n",
    "    padding=True,\n",
    "    truncation=True,\n",
    "    max_length=128,\n",
    "    return_tensors=\"pt\"\n",
    "  )\n",
    "  with torch.no_grad():\n",
    "    outputs = model(**inputs)\n",
    "  cls_embeddings = outputs.last_hidden_state[:,0,:]\n",
    "  return cls_embeddings.cpu().numpy()"
   ]
  },
  {
   "cell_type": "code",
   "execution_count": 4,
   "id": "27778b96",
   "metadata": {},
   "outputs": [],
   "source": [
    "def count_existing_lines(file_path):\n",
    "    try:\n",
    "        with open(file_path, \"r\") as f:\n",
    "            return sum(1 for _ in f)\n",
    "    except FileNotFoundError:\n",
    "        return 0"
   ]
  },
  {
   "cell_type": "code",
   "execution_count": 11,
   "id": "866cf59d",
   "metadata": {},
   "outputs": [
    {
     "name": "stdout",
     "output_type": "stream",
     "text": [
      "Getting embeds\n",
      "Resuming from index 0\n"
     ]
    },
    {
     "name": "stderr",
     "output_type": "stream",
     "text": [
      "Resuming embedding: 201583it [1:07:00, 50.14it/s]\n"
     ]
    }
   ],
   "source": [
    "from tqdm import tqdm\n",
    "import json\n",
    "embedings = []\n",
    "batch_documents = []\n",
    "batch = []\n",
    "print(\"Getting embeds\")\n",
    "processed_count = count_existing_lines(\"out/cleaned-with-embed.jsonl\")\n",
    "print(f\"Resuming from index {processed_count}\")\n",
    "\n",
    "for idx, example in enumerate(tqdm(dataset, desc=\"Resuming embedding\")):\n",
    "  if idx < processed_count:\n",
    "    continue  # Already processed\n",
    "  batch.append(example)\n",
    "  if len(batch) == 16:\n",
    "    texts = [doc[\"content\"] for doc in batch]\n",
    "    embeded_docs = getEncodings(texts)\n",
    "    with open(\"out/cleaned-with-embed.jsonl\", \"a\") as f:\n",
    "      for doc, emb in zip(batch, embeded_docs):\n",
    "        doc[\"embeds\"] = emb.tolist()\n",
    "        f.write(json.dumps(doc) + \"\\n\")\n",
    "    batch = []\n",
    "    \n",
    "if batch:\n",
    "  texts = [doc[\"content\"] for doc in batch]\n",
    "  embeded_docs = getEncodings(texts)\n",
    "  for doc, emb in zip(batch, embeded_docs):\n",
    "    doc[\"embeds\"] = emb\n",
    "    with open(\"out/cleaned-with-embed.jsonl\", \"a\") as f:\n",
    "      for doc, emb in zip(batch, embeded_docs):\n",
    "        doc[\"embeds\"] = emb.tolist()\n",
    "        f.write(json.dumps(doc) + \"\\n\")"
   ]
  },
  {
   "cell_type": "code",
   "execution_count": 15,
   "id": "860ea175",
   "metadata": {},
   "outputs": [],
   "source": [
    "from sklearn.decomposition import PCA\n",
    "import json\n",
    "\n",
    "data = []\n",
    "with open(\"out/cleaned-with-embed.jsonl\", \"r\", encoding=\"utf-8\") as f:\n",
    "  for line in f:\n",
    "    doc = json.loads(line)\n",
    "    data.append(doc)\n",
    "embeds = [doc[\"embeds\"] for doc in data]\n",
    "\n",
    "pca = PCA(n_components=50)\n",
    "reduced_embeddings = pca.fit_transform(embeds)\n",
    "\n",
    "with open(\"out/cleaned-formatted.json\", \"r\", encoding=\"utf-8\") as f:\n",
    "  rawjson = json.load(f)\n",
    "  \n",
    "with open(\"out/cleaned-with-reduced-embed.jsonl\", \"a\", encoding=\"utf-8\") as fl:\n",
    "  for obj, embeds in zip(rawjson, reduced_embeddings):\n",
    "    obj[\"embeds\"] = embeds.tolist()\n",
    "    fl.write(json.dumps(obj) + \"\\n\")\n",
    "      "
   ]
  },
  {
   "cell_type": "code",
   "execution_count": 1,
   "id": "b503e342",
   "metadata": {},
   "outputs": [],
   "source": [
    "from sre_parse import Verbose\n",
    "from sklearn.cluster import DBSCAN\n",
    "import json\n",
    "from sklearn.manifold import TSNE\n",
    "import matplotlib.pyplot as plt\n",
    "import numpy as np\n",
    "\n",
    "\n",
    "dbscan = DBSCAN(eps=10.0, min_samples=4)\n",
    "\n",
    "reduced_embed_documents = []\n",
    "with open(\"out/cleaned-with-reduced-embed.jsonl\", \"r\", encoding=\"utf-8\") as filewithreducedembed:\n",
    "  for line in filewithreducedembed:\n",
    "    reduced_embed_documents.append(json.loads(line))\n",
    "    \n",
    "reduced_embeds = [doc[\"embeds\"] for doc in reduced_embed_documents]\n",
    "\n",
    "cluster_labels = dbscan.fit_predict(reduced_embeds)\n",
    "\n",
    "\n",
    "with open(\"out/cleaned-formatted.json\", \"r\", encoding=\"utf-8\") as basejson:\n",
    "  base_document = json.load(basejson)\n",
    "  \n",
    "for doc, label in zip(base_document, cluster_labels):\n",
    "  doc[\"metadata\"][\"bucket_label\"] = int(label)\n",
    "\n",
    "base_document = sorted(base_document, key=lambda x: x[\"metadata\"][\"bucket_label\"])\n",
    "\n",
    "with open(\"out/cleaned-with-labels.json\", \"w\", encoding=\"utf-8\") as labeljson:\n",
    "  json.dump(base_document, labeljson, indent=2, ensure_ascii=False)\n"
   ]
  },
  {
   "cell_type": "code",
   "execution_count": 4,
   "id": "9ca523e6",
   "metadata": {},
   "outputs": [],
   "source": [
    "from sre_parse import Verbose\n",
    "from sklearn.cluster import KMeans\n",
    "import json\n",
    "import matplotlib.pyplot as plt\n",
    "import numpy as np\n",
    "\n",
    "\n",
    "kmeans = KMeans(n_clusters=5, random_state=42)\n",
    "\n",
    "reduced_embed_documents = []\n",
    "\n",
    "with open(\"out/cleaned-with-reduced-embed.jsonl\", \"r\", encoding=\"utf-8\") as filewithreducedembed:\n",
    "  for line in filewithreducedembed:\n",
    "    reduced_embed_documents.append(json.loads(line))\n",
    "    \n",
    "reduced_embeds = [doc[\"embeds\"] for doc in reduced_embed_documents]\n",
    "cluster_labels = kmeans.fit_predict(reduced_embeds)\n",
    "\n",
    "\n",
    "with open(\"out/cleaned-formatted.json\", \"r\", encoding=\"utf-8\") as basejson:\n",
    "  base_document = json.load(basejson)\n",
    "  \n",
    "for doc, label in zip(base_document, cluster_labels):\n",
    "  doc[\"metadata\"][\"bucket_label\"] = int(label)\n",
    "\n",
    "base_document = sorted(base_document, key=lambda x: x[\"metadata\"][\"bucket_label\"])\n",
    "\n",
    "with open(\"out/cleaned-with-labels.json\", \"w\", encoding=\"utf-8\") as labeljson:\n",
    "  json.dump(base_document, labeljson, indent=2, ensure_ascii=False)\n"
   ]
  },
  {
   "cell_type": "code",
   "execution_count": null,
   "id": "fb276ab7",
   "metadata": {},
   "outputs": [],
   "source": [
    "import json\n",
    "with open(\"out/embeded-data.json\", \"w\") as f_out:\n",
    "    json.dump(batch_documents, f_out, ensure_ascii=False, indent=2)"
   ]
  }
 ],
 "metadata": {
  "kernelspec": {
   "display_name": "sentiment",
   "language": "python",
   "name": "python3"
  },
  "language_info": {
   "codemirror_mode": {
    "name": "ipython",
    "version": 3
   },
   "file_extension": ".py",
   "mimetype": "text/x-python",
   "name": "python",
   "nbconvert_exporter": "python",
   "pygments_lexer": "ipython3",
   "version": "3.9.22"
  }
 },
 "nbformat": 4,
 "nbformat_minor": 5
}
