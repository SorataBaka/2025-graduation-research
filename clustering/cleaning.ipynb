{
 "cells": [
  {
   "cell_type": "markdown",
   "id": "90034db8",
   "metadata": {},
   "source": [
    "#### The cell below converts the raw bson type file straight from mongodump into a readable json. This json file is still in the default mongodb document format with types such as datetime and ObjectId"
   ]
  },
  {
   "cell_type": "code",
   "execution_count": 2,
   "id": "95eb7707",
   "metadata": {},
   "outputs": [],
   "source": [
    "from bson.json_util import dumps\n",
    "from bson import decode_file_iter\n",
    "with open(\"out/posts-main.bson\", \"rb\") as f:\n",
    "  documents = list(decode_file_iter(f))\n",
    "with open(\"./out/dump-raw.json\", \"w\", encoding=\"utf-8\") as f:\n",
    "  f.write(dumps(documents, indent=2))"
   ]
  },
  {
   "cell_type": "markdown",
   "id": "776b9ae4",
   "metadata": {},
   "source": [
    "#### The cell below creates a function that convert each entry in the json data into raw json with primitive types"
   ]
  },
  {
   "cell_type": "code",
   "execution_count": 3,
   "id": "35c410cb",
   "metadata": {},
   "outputs": [],
   "source": [
    "from bson import ObjectId\n",
    "from datetime import datetime\n",
    "def simplify(doc):\n",
    "    clean = {}\n",
    "    for k, v in doc.items():\n",
    "        if isinstance(v, ObjectId):\n",
    "            clean[k] = str(v)\n",
    "        elif isinstance(v, datetime):\n",
    "            clean[k] = v.isoformat()\n",
    "        else:\n",
    "            clean[k] = v\n",
    "    return clean"
   ]
  },
  {
   "cell_type": "markdown",
   "id": "2a6fab7d",
   "metadata": {},
   "source": [
    "#### The cell below iterates through each entry in the previous json data with mongodb specific data type into plain primitive json and writes it"
   ]
  },
  {
   "cell_type": "code",
   "execution_count": 4,
   "id": "9578ca21",
   "metadata": {},
   "outputs": [],
   "source": [
    "from bson.json_util import loads\n",
    "import json\n",
    "with open(\"./out/dump-raw.json\", \"r\", encoding=\"utf-8\") as rawjson:\n",
    "  rawjson = loads(rawjson.read())\n",
    "  \n",
    "rawjson = [simplify(data) for data in rawjson]\n",
    "  \n",
    "with open(\"./out/dump-formatted.json\", \"w\", encoding=\"utf-8\") as writejson:\n",
    "  json.dump(rawjson, writejson, indent=2, ensure_ascii=False)\n",
    "  "
   ]
  },
  {
   "cell_type": "code",
   "execution_count": 6,
   "id": "ce8c76da",
   "metadata": {},
   "outputs": [],
   "source": [
    "import re\n",
    "import jaconv\n",
    "from datetime import datetime\n",
    "def cleantext(document):\n",
    "  text = document[\"content\"]\n",
    "  text = jaconv.z2h(text, kana=False, digit=True, ascii=True)\n",
    "  \n",
    "  text = re.sub(r\"http\\S+|www\\S+\", '', text)  # remove URLs\n",
    "  # Replace all newline characters with space\n",
    "  text = text.replace('\\\\n', ' ').replace('\\\\r', ' ')\n",
    "\n",
    "  # After replacement, collapse multiple spaces again just in case\n",
    "  text = re.sub(r'\\s+', ' ', text).strip()\n",
    "\n",
    "  text = text.strip()\n",
    "  text = text.lower()\n",
    "  document[\"content\"] = text\n",
    "  return document\n",
    "\n",
    "\n",
    "def cleanStructure(document):\n",
    "  newDocument = {\n",
    "    \"tweet_id\": document[\"tweet_id\"],\n",
    "    \"time\": int(datetime.fromisoformat(document[\"time\"]).timestamp()) ,\n",
    "    \"author\": re.sub(\"@\", \"\", document[\"author\"]),\n",
    "    \"content\": document[\"content\"],\n",
    "    \"metadata\": {\n",
    "      \"comment\": document[\"comment_count\"],\n",
    "      \"repost\": document[\"repost_count\"],\n",
    "      \"like\": document[\"like_count\"],\n",
    "      \"view\": document[\"view_count\"]\n",
    "    }\n",
    "  }\n",
    "  return newDocument"
   ]
  },
  {
   "cell_type": "code",
   "execution_count": 7,
   "id": "1b1efdcd",
   "metadata": {},
   "outputs": [],
   "source": [
    "import json\n",
    "with open(\"./out/dump-formatted.json\", \"r\", encoding=\"utf=8\") as formattedjson:\n",
    "  documentArray = json.load(formattedjson)\n",
    "  \n",
    "documentArray = [cleantext(doc) for doc in documentArray]\n",
    "documentArray = [cleanStructure(doc) for doc in documentArray]\n",
    "\n",
    "with open(\"./out/cleaned-formatted.json\", \"w\", encoding=\"utf-8\") as writejson:\n",
    "  json.dump(documentArray, writejson, indent=2, ensure_ascii=False)"
   ]
  },
  {
   "cell_type": "code",
   "execution_count": 8,
   "id": "01d906c9",
   "metadata": {},
   "outputs": [],
   "source": [
    "import json\n",
    "with open(\"out/cleaned-formatted.json\", \"r\", encoding=\"utf-8\") as f:\n",
    "  document = json.load(f)\n",
    "  \n",
    "  \n",
    "with open(\"out/cleaned-formatted.jsonl\", \"a\", encoding=\"utf-8\") as f:\n",
    "  for doc in document:\n",
    "    f.write(json.dumps(doc) + \"\\n\")"
   ]
  }
 ],
 "metadata": {
  "kernelspec": {
   "display_name": "sentiment",
   "language": "python",
   "name": "python3"
  },
  "language_info": {
   "codemirror_mode": {
    "name": "ipython",
    "version": 3
   },
   "file_extension": ".py",
   "mimetype": "text/x-python",
   "name": "python",
   "nbconvert_exporter": "python",
   "pygments_lexer": "ipython3",
   "version": "3.9.22"
  }
 },
 "nbformat": 4,
 "nbformat_minor": 5
}
