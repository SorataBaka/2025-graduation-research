{
 "cells": [
  {
   "cell_type": "markdown",
   "id": "90034db8",
   "metadata": {},
   "source": [
    "#### The cell below converts the raw bson type file straight from mongodump into a readable json. This json file is still in the default mongodb document format with types such as datetime and ObjectId"
   ]
  },
  {
   "cell_type": "code",
   "execution_count": 1,
   "id": "95eb7707",
   "metadata": {},
   "outputs": [
    {
     "ename": "FileNotFoundError",
     "evalue": "[Errno 2] No such file or directory: './dump/prod/posts-main.bson'",
     "output_type": "error",
     "traceback": [
      "\u001b[0;31m---------------------------------------------------------------------------\u001b[0m",
      "\u001b[0;31mFileNotFoundError\u001b[0m                         Traceback (most recent call last)",
      "Cell \u001b[0;32mIn[1], line 3\u001b[0m\n\u001b[1;32m      1\u001b[0m \u001b[38;5;28;01mfrom\u001b[39;00m\u001b[38;5;250m \u001b[39m\u001b[38;5;21;01mbson\u001b[39;00m\u001b[38;5;21;01m.\u001b[39;00m\u001b[38;5;21;01mjson_util\u001b[39;00m\u001b[38;5;250m \u001b[39m\u001b[38;5;28;01mimport\u001b[39;00m dumps\n\u001b[1;32m      2\u001b[0m \u001b[38;5;28;01mfrom\u001b[39;00m\u001b[38;5;250m \u001b[39m\u001b[38;5;21;01mbson\u001b[39;00m\u001b[38;5;250m \u001b[39m\u001b[38;5;28;01mimport\u001b[39;00m decode_file_iter\n\u001b[0;32m----> 3\u001b[0m \u001b[38;5;28;01mwith\u001b[39;00m \u001b[38;5;28;43mopen\u001b[39;49m\u001b[43m(\u001b[49m\u001b[38;5;124;43m\"\u001b[39;49m\u001b[38;5;124;43m./dump/prod/posts-main.bson\u001b[39;49m\u001b[38;5;124;43m\"\u001b[39;49m\u001b[43m,\u001b[49m\u001b[43m \u001b[49m\u001b[38;5;124;43m\"\u001b[39;49m\u001b[38;5;124;43mrb\u001b[39;49m\u001b[38;5;124;43m\"\u001b[39;49m\u001b[43m)\u001b[49m \u001b[38;5;28;01mas\u001b[39;00m f:\n\u001b[1;32m      4\u001b[0m   documents \u001b[38;5;241m=\u001b[39m \u001b[38;5;28mlist\u001b[39m(decode_file_iter(f))\n\u001b[1;32m      5\u001b[0m \u001b[38;5;28;01mwith\u001b[39;00m \u001b[38;5;28mopen\u001b[39m(\u001b[38;5;124m\"\u001b[39m\u001b[38;5;124m./out/dump-raw.json\u001b[39m\u001b[38;5;124m\"\u001b[39m, \u001b[38;5;124m\"\u001b[39m\u001b[38;5;124mw\u001b[39m\u001b[38;5;124m\"\u001b[39m, encoding\u001b[38;5;241m=\u001b[39m\u001b[38;5;124m\"\u001b[39m\u001b[38;5;124mutf-8\u001b[39m\u001b[38;5;124m\"\u001b[39m) \u001b[38;5;28;01mas\u001b[39;00m f:\n",
      "File \u001b[0;32m/opt/anaconda3/envs/sentiment/lib/python3.9/site-packages/IPython/core/interactiveshell.py:310\u001b[0m, in \u001b[0;36m_modified_open\u001b[0;34m(file, *args, **kwargs)\u001b[0m\n\u001b[1;32m    303\u001b[0m \u001b[38;5;28;01mif\u001b[39;00m file \u001b[38;5;129;01min\u001b[39;00m {\u001b[38;5;241m0\u001b[39m, \u001b[38;5;241m1\u001b[39m, \u001b[38;5;241m2\u001b[39m}:\n\u001b[1;32m    304\u001b[0m     \u001b[38;5;28;01mraise\u001b[39;00m \u001b[38;5;167;01mValueError\u001b[39;00m(\n\u001b[1;32m    305\u001b[0m         \u001b[38;5;124mf\u001b[39m\u001b[38;5;124m\"\u001b[39m\u001b[38;5;124mIPython won\u001b[39m\u001b[38;5;124m'\u001b[39m\u001b[38;5;124mt let you open fd=\u001b[39m\u001b[38;5;132;01m{\u001b[39;00mfile\u001b[38;5;132;01m}\u001b[39;00m\u001b[38;5;124m by default \u001b[39m\u001b[38;5;124m\"\u001b[39m\n\u001b[1;32m    306\u001b[0m         \u001b[38;5;124m\"\u001b[39m\u001b[38;5;124mas it is likely to crash IPython. If you know what you are doing, \u001b[39m\u001b[38;5;124m\"\u001b[39m\n\u001b[1;32m    307\u001b[0m         \u001b[38;5;124m\"\u001b[39m\u001b[38;5;124myou can use builtins\u001b[39m\u001b[38;5;124m'\u001b[39m\u001b[38;5;124m open.\u001b[39m\u001b[38;5;124m\"\u001b[39m\n\u001b[1;32m    308\u001b[0m     )\n\u001b[0;32m--> 310\u001b[0m \u001b[38;5;28;01mreturn\u001b[39;00m \u001b[43mio_open\u001b[49m\u001b[43m(\u001b[49m\u001b[43mfile\u001b[49m\u001b[43m,\u001b[49m\u001b[43m \u001b[49m\u001b[38;5;241;43m*\u001b[39;49m\u001b[43margs\u001b[49m\u001b[43m,\u001b[49m\u001b[43m \u001b[49m\u001b[38;5;241;43m*\u001b[39;49m\u001b[38;5;241;43m*\u001b[39;49m\u001b[43mkwargs\u001b[49m\u001b[43m)\u001b[49m\n",
      "\u001b[0;31mFileNotFoundError\u001b[0m: [Errno 2] No such file or directory: './dump/prod/posts-main.bson'"
     ]
    }
   ],
   "source": [
    "from bson.json_util import dumps\n",
    "from bson import decode_file_iter\n",
    "with open(\"./dump/prod/posts-main.bson\", \"rb\") as f:\n",
    "  documents = list(decode_file_iter(f))\n",
    "with open(\"./out/dump-raw.json\", \"w\", encoding=\"utf-8\") as f:\n",
    "  f.write(dumps(documents, indent=2))"
   ]
  },
  {
   "cell_type": "markdown",
   "id": "776b9ae4",
   "metadata": {},
   "source": [
    "#### The cell below creates a function that convert each entry in the json data into raw json with primitive types"
   ]
  },
  {
   "cell_type": "code",
   "execution_count": 8,
   "id": "35c410cb",
   "metadata": {},
   "outputs": [],
   "source": [
    "from bson import ObjectId\n",
    "from datetime import datetime\n",
    "def simplify(doc):\n",
    "    clean = {}\n",
    "    for k, v in doc.items():\n",
    "        if isinstance(v, ObjectId):\n",
    "            clean[k] = str(v)\n",
    "        elif isinstance(v, datetime):\n",
    "            clean[k] = v.isoformat()\n",
    "        else:\n",
    "            clean[k] = v\n",
    "    return clean"
   ]
  },
  {
   "cell_type": "markdown",
   "id": "2a6fab7d",
   "metadata": {},
   "source": [
    "#### The cell below iterates through each entry in the previous json data with mongodb specific data type into plain primitive json and writes it"
   ]
  },
  {
   "cell_type": "code",
   "execution_count": 82,
   "id": "9578ca21",
   "metadata": {},
   "outputs": [],
   "source": [
    "from bson.json_util import loads\n",
    "import json\n",
    "with open(\"./out/dump-raw.json\", \"r\", encoding=\"utf-8\") as rawjson:\n",
    "  rawjson = loads(rawjson.read())\n",
    "  \n",
    "rawjson = [simplify(data) for data in rawjson]\n",
    "  \n",
    "with open(\"./out/dump-formatted.json\", \"w\", encoding=\"utf-8\") as writejson:\n",
    "  json.dump(rawjson, writejson, indent=2, ensure_ascii=False)\n",
    "  "
   ]
  },
  {
   "cell_type": "code",
   "execution_count": 85,
   "id": "ce8c76da",
   "metadata": {},
   "outputs": [],
   "source": [
    "import re\n",
    "import jaconv\n",
    "from datetime import datetime\n",
    "def cleantext(document):\n",
    "  text = document[\"content\"]\n",
    "  text = jaconv.z2h(text, kana=False, digit=True, ascii=True)\n",
    "\n",
    "  text = re.sub(r\"http\\S+|www\\S+\", '', text)  # remove URLs\n",
    "  text = re.sub(r\"@\\w+\", '', text)            # remove mentions\n",
    "  text = re.sub(r'([.!?])\\1{2,}', r'\\1\\1\\1', text)\n",
    "  text = re.sub(r'\\s+', ' ', text).strip()    # collapse multiple whitespace including \\n, tabs\n",
    "  text = re.sub(r\"-\\d+fess\", \"\", text)\n",
    "  text = re.sub(r'<+.*?>+', '', text)\n",
    "  # Replace all newline characters with space\n",
    "  text = text.replace('\\\\n', ' ').replace('\\\\r', ' ')\n",
    "\n",
    "  # After replacement, collapse multiple spaces again just in case\n",
    "  text = re.sub(r'\\s+', ' ', text).strip()\n",
    "\n",
    "  text = text.strip()\n",
    "  text = text.lower()\n",
    "  document[\"content\"] = text\n",
    "  return document\n",
    "\n",
    "\n",
    "def cleanStructure(document):\n",
    "  newDocument = {\n",
    "    \"tweet_id\": document[\"tweet_id\"],\n",
    "    \"time\": int(datetime.fromisoformat(document[\"time\"]).timestamp()) ,\n",
    "    \"author\": re.sub(\"@\", \"\", document[\"author\"]),\n",
    "    \"content\": document[\"content\"],\n",
    "    \"metadata\": {\n",
    "      \"comment\": document[\"comment_count\"],\n",
    "      \"repost\": document[\"repost_count\"],\n",
    "      \"like\": document[\"like_count\"],\n",
    "      \"view\": document[\"view_count\"]\n",
    "    }\n",
    "  }\n",
    "  return newDocument"
   ]
  },
  {
   "cell_type": "code",
   "execution_count": 2,
   "id": "1b1efdcd",
   "metadata": {},
   "outputs": [
    {
     "ename": "FileNotFoundError",
     "evalue": "[Errno 2] No such file or directory: './out/dump-formatted.json'",
     "output_type": "error",
     "traceback": [
      "\u001b[0;31m---------------------------------------------------------------------------\u001b[0m",
      "\u001b[0;31mFileNotFoundError\u001b[0m                         Traceback (most recent call last)",
      "Cell \u001b[0;32mIn[2], line 2\u001b[0m\n\u001b[1;32m      1\u001b[0m \u001b[38;5;28;01mimport\u001b[39;00m\u001b[38;5;250m \u001b[39m\u001b[38;5;21;01mjson\u001b[39;00m\n\u001b[0;32m----> 2\u001b[0m \u001b[38;5;28;01mwith\u001b[39;00m \u001b[38;5;28;43mopen\u001b[39;49m\u001b[43m(\u001b[49m\u001b[38;5;124;43m\"\u001b[39;49m\u001b[38;5;124;43m./out/dump-formatted.json\u001b[39;49m\u001b[38;5;124;43m\"\u001b[39;49m\u001b[43m,\u001b[49m\u001b[43m \u001b[49m\u001b[38;5;124;43m\"\u001b[39;49m\u001b[38;5;124;43mr\u001b[39;49m\u001b[38;5;124;43m\"\u001b[39;49m\u001b[43m,\u001b[49m\u001b[43m \u001b[49m\u001b[43mencoding\u001b[49m\u001b[38;5;241;43m=\u001b[39;49m\u001b[38;5;124;43m\"\u001b[39;49m\u001b[38;5;124;43mutf=8\u001b[39;49m\u001b[38;5;124;43m\"\u001b[39;49m\u001b[43m)\u001b[49m \u001b[38;5;28;01mas\u001b[39;00m formattedjson:\n\u001b[1;32m      3\u001b[0m   documentArray \u001b[38;5;241m=\u001b[39m json\u001b[38;5;241m.\u001b[39mload(formattedjson)\n\u001b[1;32m      5\u001b[0m documentArray \u001b[38;5;241m=\u001b[39m [cleantext(doc) \u001b[38;5;28;01mfor\u001b[39;00m doc \u001b[38;5;129;01min\u001b[39;00m documentArray]\n",
      "File \u001b[0;32m/opt/anaconda3/envs/sentiment/lib/python3.9/site-packages/IPython/core/interactiveshell.py:310\u001b[0m, in \u001b[0;36m_modified_open\u001b[0;34m(file, *args, **kwargs)\u001b[0m\n\u001b[1;32m    303\u001b[0m \u001b[38;5;28;01mif\u001b[39;00m file \u001b[38;5;129;01min\u001b[39;00m {\u001b[38;5;241m0\u001b[39m, \u001b[38;5;241m1\u001b[39m, \u001b[38;5;241m2\u001b[39m}:\n\u001b[1;32m    304\u001b[0m     \u001b[38;5;28;01mraise\u001b[39;00m \u001b[38;5;167;01mValueError\u001b[39;00m(\n\u001b[1;32m    305\u001b[0m         \u001b[38;5;124mf\u001b[39m\u001b[38;5;124m\"\u001b[39m\u001b[38;5;124mIPython won\u001b[39m\u001b[38;5;124m'\u001b[39m\u001b[38;5;124mt let you open fd=\u001b[39m\u001b[38;5;132;01m{\u001b[39;00mfile\u001b[38;5;132;01m}\u001b[39;00m\u001b[38;5;124m by default \u001b[39m\u001b[38;5;124m\"\u001b[39m\n\u001b[1;32m    306\u001b[0m         \u001b[38;5;124m\"\u001b[39m\u001b[38;5;124mas it is likely to crash IPython. If you know what you are doing, \u001b[39m\u001b[38;5;124m\"\u001b[39m\n\u001b[1;32m    307\u001b[0m         \u001b[38;5;124m\"\u001b[39m\u001b[38;5;124myou can use builtins\u001b[39m\u001b[38;5;124m'\u001b[39m\u001b[38;5;124m open.\u001b[39m\u001b[38;5;124m\"\u001b[39m\n\u001b[1;32m    308\u001b[0m     )\n\u001b[0;32m--> 310\u001b[0m \u001b[38;5;28;01mreturn\u001b[39;00m \u001b[43mio_open\u001b[49m\u001b[43m(\u001b[49m\u001b[43mfile\u001b[49m\u001b[43m,\u001b[49m\u001b[43m \u001b[49m\u001b[38;5;241;43m*\u001b[39;49m\u001b[43margs\u001b[49m\u001b[43m,\u001b[49m\u001b[43m \u001b[49m\u001b[38;5;241;43m*\u001b[39;49m\u001b[38;5;241;43m*\u001b[39;49m\u001b[43mkwargs\u001b[49m\u001b[43m)\u001b[49m\n",
      "\u001b[0;31mFileNotFoundError\u001b[0m: [Errno 2] No such file or directory: './out/dump-formatted.json'"
     ]
    }
   ],
   "source": [
    "import json\n",
    "with open(\"./out/dump-formatted.json\", \"r\", encoding=\"utf=8\") as formattedjson:\n",
    "  documentArray = json.load(formattedjson)\n",
    "  \n",
    "documentArray = [cleantext(doc) for doc in documentArray]\n",
    "documentArray = [cleanStructure(doc) for doc in documentArray]\n",
    "\n",
    "with open(\"./out/cleaned-formatted.json\", \"w\", encoding=\"utf-8\") as writejson:\n",
    "  json.dump(documentArray, writejson, indent=2, ensure_ascii=False)"
   ]
  }
 ],
 "metadata": {
  "kernelspec": {
   "display_name": "sentiment",
   "language": "python",
   "name": "python3"
  },
  "language_info": {
   "codemirror_mode": {
    "name": "ipython",
    "version": 3
   },
   "file_extension": ".py",
   "mimetype": "text/x-python",
   "name": "python",
   "nbconvert_exporter": "python",
   "pygments_lexer": "ipython3",
   "version": "3.9.22"
  }
 },
 "nbformat": 4,
 "nbformat_minor": 5
}
