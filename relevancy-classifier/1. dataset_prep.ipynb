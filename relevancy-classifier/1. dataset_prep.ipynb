{
 "cells": [
  {
   "cell_type": "markdown",
   "id": "f445e61b",
   "metadata": {},
   "source": [
    "## Upload all of the initially parsed data to huggingface"
   ]
  },
  {
   "cell_type": "code",
   "execution_count": null,
   "id": "810b200c",
   "metadata": {},
   "outputs": [],
   "source": []
  },
  {
   "cell_type": "code",
   "execution_count": null,
   "id": "229bdd1f",
   "metadata": {},
   "outputs": [],
   "source": [
    "import json\n",
    "from datasets import Dataset\n",
    "import pandas as pd\n",
    "\n",
    "OUT_DIR =\"OUT/\"\n",
    "ASSET_DIR=\"assets/\"\n",
    "with open(ASSET_DIR + \"dump-formatted.json\", \"r\", encoding=\"utf-8\") as file:\n",
    "  RAW_DOCUMENTS = json.load(file)\n",
    "dataframe = pd.DataFrame(RAW_DOCUMENTS)\n",
    "dataframe = dataframe.drop(columns=[\"_id\", \"__v\", \"created_at\"])\n",
    "dataset = Dataset.from_pandas(dataframe)\n",
    "dataset.push_to_hub(\"tianharjuno/twitter-parse\", commit_description=\"Initial commit. not cleaned yet\")\n"
   ]
  },
  {
   "cell_type": "code",
   "execution_count": 2,
   "id": "129ee3ba",
   "metadata": {},
   "outputs": [],
   "source": [
    "from datasets import load_dataset\n",
    "ds = load_dataset(\"tianharjuno/twitter-parse\", cache_dir=\"cache/\")\n",
    "raw_ds = ds[\"train\"]"
   ]
  },
  {
   "cell_type": "code",
   "execution_count": 4,
   "id": "159d3daf",
   "metadata": {},
   "outputs": [],
   "source": [
    "import re, unicodedata, jaconv, emoji\n",
    "\n",
    "# ─── pre-compiled patterns ────────────────────────────────────────────────\n",
    "_URL      = re.compile(r'https?://\\S+')\n",
    "_MENTION  = re.compile(r'@\\w+')\n",
    "_REPEAT   = re.compile(r'(.)\\1{2,}')       # ≥3 of same char\n",
    "_WS       = re.compile(r'\\s+')\n",
    "\n",
    "# remove from the first token that *begins* with “kutipan” (any case) to the string-end\n",
    "_KUTI_CUT = re.compile(r'(?i)kutipan.*$', re.DOTALL)\n",
    "\n",
    "def cleantext(row: str):\n",
    "    text = row[\"content\"] #type: ignore\n",
    "    text = unicodedata.normalize('NFKC', text)\n",
    "    text = jaconv.z2h(text, kana=False, digit=True, ascii=True)\n",
    "\n",
    "    text = text.replace('\\\\n', ' ').replace('\\\\r', ' ')\n",
    "    text = _URL.sub(' <url> ', text)\n",
    "    text = _MENTION.sub(' ', text)\n",
    "    text = re.sub(r'^rt\\s+', '', text, flags=re.I)\n",
    "    text = re.sub(r'(\\b\\d{4})(?=[a-zA-Z])', r'\\1 ', text)\n",
    "\n",
    "    # ⇣ one liner does all the “kutipan” work; the old _KUTI_BEF/_KUTI_AFT are no longer needed\n",
    "    text = _KUTI_CUT.sub('', text)\n",
    "\n",
    "    text = emoji.demojize(text, delimiters=(' ', ' '))\n",
    "    text = _REPEAT.sub(r'\\1\\1', text)\n",
    "    text = _WS.sub(' ', text).strip().lower()\n",
    "    row[\"content\"] = text #type: ignore\n",
    "    return row"
   ]
  },
  {
   "cell_type": "code",
   "execution_count": 5,
   "id": "c4bb8cda",
   "metadata": {},
   "outputs": [],
   "source": [
    "raw_ds = raw_ds.map(cleantext)"
   ]
  },
  {
   "cell_type": "code",
   "execution_count": 7,
   "id": "fbef54c7",
   "metadata": {},
   "outputs": [
    {
     "name": "stderr",
     "output_type": "stream",
     "text": [
      "Map: 100%|██████████| 201583/201583 [00:07<00:00, 27251.98 examples/s]\n"
     ]
    }
   ],
   "source": [
    "import pandas as pd\n",
    "\n",
    "kamus_alay_read = pd.read_csv(\"kamus-alay/colloquial-indonesian-lexicon.csv\")\n",
    "kamus_alay_read = kamus_alay_read.drop(columns=[\"In-dictionary\", \"context\", \"category1\", \"category2\", \"category3\"], errors=\"ignore\")\n",
    "alay_dict = dict(zip(kamus_alay_read[\"slang\"], kamus_alay_read[\"formal\"]))\n",
    "\n",
    "def formalize(example):\n",
    "    text = example[\"content\"]\n",
    "    words = text.split()\n",
    "    normalized = []\n",
    "    for w in words:\n",
    "        normalized.append(alay_dict.get(w.lower(), w))\n",
    "    example[\"content\"] = \" \".join(normalized)\n",
    "    return example\n",
    "raw_ds = raw_ds.map(formalize)"
   ]
  },
  {
   "cell_type": "code",
   "execution_count": 8,
   "id": "62e0bce6",
   "metadata": {},
   "outputs": [],
   "source": [
    "ds[\"cleaned\"] = raw_ds"
   ]
  },
  {
   "cell_type": "code",
   "execution_count": 10,
   "id": "71ce7874",
   "metadata": {},
   "outputs": [
    {
     "name": "stderr",
     "output_type": "stream",
     "text": [
      "Creating parquet from Arrow format: 100%|██████████| 202/202 [00:00<00:00, 1284.26ba/s]\n",
      "Uploading files as bytes or binary IO objects is not supported by Xet Storage. Falling back to HTTP upload.\n",
      "Uploading the dataset shards: 100%|██████████| 1/1 [00:00<00:00,  1.06it/s]\n",
      "Creating parquet from Arrow format: 100%|██████████| 202/202 [00:00<00:00, 1447.31ba/s]\n",
      "Uploading files as bytes or binary IO objects is not supported by Xet Storage. Falling back to HTTP upload.\n",
      "Uploading the dataset shards: 100%|██████████| 1/1 [00:29<00:00, 29.65s/it]\n"
     ]
    },
    {
     "data": {
      "text/plain": [
       "CommitInfo(commit_url='https://huggingface.co/datasets/tianharjuno/twitter-parse/commit/d82e9073cf51fde0abf36badbba88e79d15989a6', commit_message='Upload dataset', commit_description='cleaned up text', oid='d82e9073cf51fde0abf36badbba88e79d15989a6', pr_url=None, repo_url=RepoUrl('https://huggingface.co/datasets/tianharjuno/twitter-parse', endpoint='https://huggingface.co', repo_type='dataset', repo_id='tianharjuno/twitter-parse'), pr_revision=None, pr_num=None)"
      ]
     },
     "execution_count": 10,
     "metadata": {},
     "output_type": "execute_result"
    }
   ],
   "source": [
    "ds.push_to_hub(\"tianharjuno/twitter-parse\", commit_description=\"cleaned up text\")"
   ]
  }
 ],
 "metadata": {
  "kernelspec": {
   "display_name": "sentiment",
   "language": "python",
   "name": "python3"
  },
  "language_info": {
   "codemirror_mode": {
    "name": "ipython",
    "version": 3
   },
   "file_extension": ".py",
   "mimetype": "text/x-python",
   "name": "python",
   "nbconvert_exporter": "python",
   "pygments_lexer": "ipython3",
   "version": "3.9.22"
  }
 },
 "nbformat": 4,
 "nbformat_minor": 5
}
