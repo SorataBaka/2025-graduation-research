{
 "cells": [
  {
   "cell_type": "code",
   "execution_count": 1,
   "id": "2d01a598",
   "metadata": {},
   "outputs": [],
   "source": [
    "from datasets import load_dataset\n",
    "dataset = load_dataset(\"tianharjuno/twitter-parse\", cache_dir=\"cache/\")"
   ]
  },
  {
   "cell_type": "code",
   "execution_count": 12,
   "id": "c8ef0296",
   "metadata": {},
   "outputs": [
    {
     "data": {
      "application/vnd.jupyter.widget-view+json": {
       "model_id": "a1c6039be5f7457785a8ffff624bc977",
       "version_major": 2,
       "version_minor": 0
      },
      "text/plain": [
       "Filter:   0%|          | 0/201583 [00:00<?, ? examples/s]"
      ]
     },
     "metadata": {},
     "output_type": "display_data"
    }
   ],
   "source": [
    "cleaned_dataset = dataset[\"cleaned\"]\n",
    "relevant_dataset = cleaned_dataset.filter(lambda row: row[\"related\"] == True)\n",
    "irrelevant_dataset = cleaned_dataset.filter(lambda row: row[\"related\"] == False)"
   ]
  },
  {
   "cell_type": "code",
   "execution_count": 14,
   "id": "dd1e992e",
   "metadata": {},
   "outputs": [],
   "source": [
    "relevant_text = relevant_dataset[\"content\"]"
   ]
  },
  {
   "cell_type": "code",
   "execution_count": null,
   "id": "9ef23b87",
   "metadata": {},
   "outputs": [
    {
     "name": "stderr",
     "output_type": "stream",
     "text": [
      "[nltk_data] Downloading package stopwords to /root/nltk_data...\n",
      "[nltk_data]   Unzipping corpora/stopwords.zip.\n"
     ]
    },
    {
     "name": "stdout",
     "output_type": "stream",
     "text": [
      "372 total stopwords\n"
     ]
    }
   ],
   "source": [
    "from Sastrawi.StopWordRemover.StopWordRemoverFactory import StopWordRemoverFactory\n",
    "import nltk\n",
    "nltk.download(\"stopwords\")\n",
    "import requests\n",
    "\n",
    "# Sastrawi\n",
    "factory = StopWordRemoverFactory()\n",
    "stopwords_id = set(factory.get_stop_words())\n",
    "\n",
    "# English\n",
    "stopwords_en = set(stopwords.words('english'))\n",
    "\n",
    "# IndoNLU\n",
    "indonlu_url = \"https://raw.githubusercontent.com/indobenchmark/indonlu/master/utils/stopwordbahasa.txt\"\n",
    "stopwords_indonlu = set(requests.get(indonlu_url).text.split())\n",
    "\n",
    "# IDN stopwords\n",
    "idn_url = \"https://raw.githubusercontent.com/aliakbar09/IDN-stopwords/master/idn_stopwords.txt\"\n",
    "stopwords_idn = set(requests.get(idn_url).text.split())\n",
    "\n",
    "# Colloquial extensions (dialect + slang)\n",
    "extra_slang = {\n",
    "    \"ga\",\"gak\",\"nggak\",\"ngga\",\"aja\",\"nih\",\"dong\",\"deh\",\"lah\",\"loh\",\"kok\",\n",
    "    \"kan\",\"nya\",\"ya\",\"emang\",\"tau\",\"yg\",\"pd\",\"trs\",\"pls\",\"plis\",\"thx\",\"makasih\",\n",
    "    \"makasi\",\"terimakasih\",\"bgt\",\"bngt\",\"bener\",\"btw\",\"rt\",\"dm\",\"gw\",\"gue\",\"lu\",\n",
    "    \"loe\",\"lo\",\"gua\",\"ny\",\"nya\",\"jd\",\"jadi\",\"trs\",\"sih\",\"kayak\",\"kek\",\"oke\",\n",
    "    \"ok\",\"bro\",\"sis\",\"min\",\"kalo\",\"kalau\",\"dgn\",\"dengan\",\"bikin\",\"nih\",\"dong\"\n",
    "}\n",
    "\n",
    "# Combine and lowercase normalize\n",
    "combined_stopwords = set(\n",
    "    word.lower() for word in (\n",
    "        stopwords_id |\n",
    "        stopwords_en |\n",
    "        stopwords_indonlu |\n",
    "        stopwords_idn |\n",
    "        extra_slang\n",
    "    )\n",
    ")\n",
    "\n",
    "print(len(combined_stopwords), \"total stopwords\")"
   ]
  }
 ],
 "metadata": {
  "kernelspec": {
   "display_name": "Python 3",
   "language": "python",
   "name": "python3"
  },
  "language_info": {
   "codemirror_mode": {
    "name": "ipython",
    "version": 3
   },
   "file_extension": ".py",
   "mimetype": "text/x-python",
   "name": "python",
   "nbconvert_exporter": "python",
   "pygments_lexer": "ipython3",
   "version": "3.12.11"
  }
 },
 "nbformat": 4,
 "nbformat_minor": 5
}
