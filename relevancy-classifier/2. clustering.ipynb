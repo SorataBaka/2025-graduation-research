{
 "cells": [
  {
   "cell_type": "code",
   "execution_count": null,
   "id": "88ac35d9",
   "metadata": {},
   "outputs": [],
   "source": [
    "from pipelines.custom_pipeline import cluster_custom, generate_ablation_sample\n",
    "from datasets import load_dataset\n",
    "\n",
    "ds = load_dataset(\"tianharjuno/twitter-parse\", cache_dir=\"cache/\")\n",
    "ds = ds[\"cleaned\"]"
   ]
  },
  {
   "cell_type": "code",
   "execution_count": null,
   "id": "8f1d9ba0",
   "metadata": {},
   "outputs": [],
   "source": [
    "from datasets import Dataset\n",
    "\n",
    "# 1. Convert to pandas\n",
    "df = ds.to_pandas()\n",
    "\n",
    "# 2. Drop duplicates\n",
    "df = df.drop_duplicates(subset=[\"content\"])\n",
    "\n",
    "# 3. (NEW STEP) Reset the pandas index and drop the old one\n",
    "df = df.reset_index(drop=True) \n",
    "\n",
    "# 4. Convert back. The __index_level_0__ column will not be created.\n",
    "ds = Dataset.from_pandas(df)"
   ]
  },
  {
   "cell_type": "code",
   "execution_count": null,
   "id": "23bca82f",
   "metadata": {},
   "outputs": [],
   "source": [
    "randomly_selected_ds = ds.shuffle(42).select(range(80000))"
   ]
  },
  {
   "cell_type": "code",
   "execution_count": null,
   "id": "e5c62e0a",
   "metadata": {},
   "outputs": [],
   "source": [
    "from sentence_transformers import SentenceTransformer\n",
    "sentence_model = SentenceTransformer(\"asmud/nomic-embed-indonesian\", cache_folder=\"cache/\", trust_remote_code=True)\n",
    "embeddings = sentence_model.encode(\n",
    "    randomly_selected_ds[\"content\"],\n",
    "    batch_size=8,\n",
    "    device=\"mps\",\n",
    "    show_progress_bar=True,\n",
    "    normalize_embeddings=True,\n",
    "    convert_to_numpy=True,\n",
    ")"
   ]
  },
  {
   "cell_type": "code",
   "execution_count": null,
   "id": "fe07d376",
   "metadata": {},
   "outputs": [],
   "source": [
    "from pipelines.custom_pipeline import cluster_custom, generate_ablation_sample\n",
    "reduced_embedding, cluster_labels, cluster_probabilties = cluster_custom(embeddings, seed=42, mode=\"dbcv\")"
   ]
  },
  {
   "cell_type": "code",
   "execution_count": null,
   "id": "d6b60020",
   "metadata": {},
   "outputs": [],
   "source": [
    "import numpy as np\n",
    "unique_labels, label_counts = np.unique(cluster_labels, return_counts=True)\n",
    "cluster_dict = dict(zip(unique_labels, label_counts))\n",
    "print(cluster_dict)"
   ]
  },
  {
   "cell_type": "code",
   "execution_count": null,
   "id": "568f7231",
   "metadata": {},
   "outputs": [],
   "source": [
    "from datasets import load_dataset\n",
    "fresh_ds = load_dataset(\"tianharjuno/twitter-parse\", cache_dir=\"cache/\")\n",
    "for i in range(1000, 21000, 1000):\n",
    "    sampled_dataset = generate_ablation_sample(randomly_selected_ds, cluster_labels, cluster_probabilties, i, seed=42, filter_mode=\"above_mean_std\", inter_cluster_strategy=\"direct_proportion\", intra_cluster_bias=\"inverse_prob\")\n",
    "    fresh_ds[f\"sampled_{i}\"] = sampled_dataset"
   ]
  },
  {
   "cell_type": "code",
   "execution_count": null,
   "id": "5ef415c5",
   "metadata": {},
   "outputs": [],
   "source": [
    "fresh_ds.push_to_hub(\"tianharjuno/twitter-parse\", commit_description=\"Created subsamples for training\")"
   ]
  }
 ],
 "metadata": {
  "kernelspec": {
   "display_name": "sentiment",
   "language": "python",
   "name": "python3"
  },
  "language_info": {
   "codemirror_mode": {
    "name": "ipython",
    "version": 3
   },
   "file_extension": ".py",
   "mimetype": "text/x-python",
   "name": "python",
   "nbconvert_exporter": "python",
   "pygments_lexer": "ipython3",
   "version": "3.9.22"
  }
 },
 "nbformat": 4,
 "nbformat_minor": 5
}
