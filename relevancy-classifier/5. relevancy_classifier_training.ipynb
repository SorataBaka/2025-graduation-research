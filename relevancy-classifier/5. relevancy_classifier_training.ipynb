{
 "cells": [
  {
   "cell_type": "code",
   "execution_count": 2,
   "id": "73d29f87",
   "metadata": {},
   "outputs": [
    {
     "name": "stdout",
     "output_type": "stream",
     "text": [
      "Dataset({\n",
      "    features: ['tweet_id', 'time', 'author', 'content', 'comment_count', 'repost_count', 'like_count', 'view_count', 'related', 'confidence'],\n",
      "    num_rows: 15998\n",
      "}) Dataset({\n",
      "    features: ['tweet_id', 'time', 'author', 'content', 'comment_count', 'repost_count', 'like_count', 'view_count', 'related', 'confidence'],\n",
      "    num_rows: 4000\n",
      "}) Dataset({\n",
      "    features: ['tweet_id', 'time', 'author', 'content', 'comment_count', 'repost_count', 'like_count', 'view_count', 'related', 'confidence'],\n",
      "    num_rows: 1999\n",
      "})\n",
      "Train: 15998, Eval: 4000, Test: 1999\n"
     ]
    },
    {
     "data": {
      "application/vnd.jupyter.widget-view+json": {
       "model_id": "854ede6f078f4e51afb0ab5b39f500a4",
       "version_major": 2,
       "version_minor": 0
      },
      "text/plain": [
       "Casting the dataset:   0%|          | 0/15998 [00:00<?, ? examples/s]"
      ]
     },
     "metadata": {},
     "output_type": "display_data"
    },
    {
     "data": {
      "application/vnd.jupyter.widget-view+json": {
       "model_id": "cd32961dc01d4594976053bf2607c0fd",
       "version_major": 2,
       "version_minor": 0
      },
      "text/plain": [
       "Casting the dataset:   0%|          | 0/4000 [00:00<?, ? examples/s]"
      ]
     },
     "metadata": {},
     "output_type": "display_data"
    },
    {
     "data": {
      "application/vnd.jupyter.widget-view+json": {
       "model_id": "8c97d90104ad4bd18027cb93457913d5",
       "version_major": 2,
       "version_minor": 0
      },
      "text/plain": [
       "Casting the dataset:   0%|          | 0/1999 [00:00<?, ? examples/s]"
      ]
     },
     "metadata": {},
     "output_type": "display_data"
    }
   ],
   "source": [
    "from datasets import load_dataset, ClassLabel\n",
    "ds = load_dataset(\"tianharjuno/twitter-parse\", cache_dir=\"cache/\")\n",
    "train_ds = ds[\"sampled_20000_labeled\"]\n",
    "test_ds = ds[\"test\"]\n",
    "# Split into 80% train, 20% temp (for eval + test)\n",
    "train_ds_split= train_ds.train_test_split(test_size=0.2, seed=42)\n",
    "\n",
    "train_ds = train_ds_split[\"train\"]\n",
    "eval_ds = train_ds_split[\"test\"]\n",
    "\n",
    "print(train_ds, eval_ds, test_ds)\n",
    "\n",
    "print(f\"Train: {len(train_ds)}, Eval: {len(eval_ds)}, Test: {len(test_ds)}\")\n",
    "\n",
    "class_labels = ClassLabel(names=list(set(train_ds[\"related\"])))\n",
    "\n",
    "train_ds = train_ds.cast_column(\"related\", class_labels)\n",
    "eval_ds = eval_ds.cast_column(\"related\", class_labels)\n",
    "test_ds = test_ds.cast_column(\"related\", class_labels)\n",
    "\n",
    "cleaned_train_ds = train_ds.select_columns([\"content\", \"related\"])\n",
    "cleaned_test_ds = test_ds.select_columns([\"content\", \"related\"])\n",
    "cleaned_eval_ds = eval_ds.select_columns([\"content\", \"related\"])\n",
    "cleaned_train_ds = cleaned_train_ds.rename_column(\"related\", \"label\")\n",
    "cleaned_eval_ds = cleaned_eval_ds.rename_column(\"related\", \"label\")\n",
    "cleaned_test_ds = cleaned_test_ds.rename_column(\"related\", \"label\")\n",
    "\n",
    "cleaned_train_ds = cleaned_train_ds.rename_column(\"content\", \"text\")\n",
    "cleaned_eval_ds = cleaned_eval_ds.rename_column(\"content\", \"text\")\n",
    "cleaned_test_ds = cleaned_test_ds.rename_column(\"content\", \"text\")"
   ]
  },
  {
   "cell_type": "code",
   "execution_count": 3,
   "id": "51b63de1",
   "metadata": {},
   "outputs": [
    {
     "name": "stdout",
     "output_type": "stream",
     "text": [
      "Dataset({\n",
      "    features: ['text', 'label'],\n",
      "    num_rows: 15998\n",
      "}) Dataset({\n",
      "    features: ['text', 'label'],\n",
      "    num_rows: 4000\n",
      "}) Dataset({\n",
      "    features: ['text', 'label'],\n",
      "    num_rows: 1999\n",
      "})\n"
     ]
    }
   ],
   "source": [
    "print(cleaned_train_ds, cleaned_eval_ds, cleaned_test_ds)"
   ]
  },
  {
   "cell_type": "code",
   "execution_count": 4,
   "id": "8721e370",
   "metadata": {},
   "outputs": [
    {
     "name": "stdout",
     "output_type": "stream",
     "text": [
      "False: 7799, True: 8199\n"
     ]
    }
   ],
   "source": [
    "from collections import Counter\n",
    "\n",
    "# Extract all labels\n",
    "labels = cleaned_train_ds[\"label\"]\n",
    "\n",
    "# Count occurrences\n",
    "label_counts = Counter(labels)\n",
    "\n",
    "num_false = label_counts.get(0, 0)  # count of label 0 / False\n",
    "num_true = label_counts.get(1, 0)   # count of label 1 / True\n",
    "\n",
    "print(f\"False: {num_false}, True: {num_true}\")\n"
   ]
  },
  {
   "cell_type": "code",
   "execution_count": 5,
   "id": "8a713479",
   "metadata": {},
   "outputs": [
    {
     "name": "stderr",
     "output_type": "stream",
     "text": [
      "Some weights of BertForSequenceClassification were not initialized from the model checkpoint at indolem/indobertweet-base-uncased and are newly initialized: ['classifier.bias', 'classifier.weight']\n",
      "You should probably TRAIN this model on a down-stream task to be able to use it for predictions and inference.\n"
     ]
    },
    {
     "data": {
      "text/plain": [
       "BertForSequenceClassification(\n",
       "  (bert): BertModel(\n",
       "    (embeddings): BertEmbeddings(\n",
       "      (word_embeddings): Embedding(31923, 768, padding_idx=0)\n",
       "      (position_embeddings): Embedding(512, 768)\n",
       "      (token_type_embeddings): Embedding(2, 768)\n",
       "      (LayerNorm): LayerNorm((768,), eps=1e-12, elementwise_affine=True)\n",
       "      (dropout): Dropout(p=0.1, inplace=False)\n",
       "    )\n",
       "    (encoder): BertEncoder(\n",
       "      (layer): ModuleList(\n",
       "        (0-11): 12 x BertLayer(\n",
       "          (attention): BertAttention(\n",
       "            (self): BertSdpaSelfAttention(\n",
       "              (query): Linear(in_features=768, out_features=768, bias=True)\n",
       "              (key): Linear(in_features=768, out_features=768, bias=True)\n",
       "              (value): Linear(in_features=768, out_features=768, bias=True)\n",
       "              (dropout): Dropout(p=0.1, inplace=False)\n",
       "            )\n",
       "            (output): BertSelfOutput(\n",
       "              (dense): Linear(in_features=768, out_features=768, bias=True)\n",
       "              (LayerNorm): LayerNorm((768,), eps=1e-12, elementwise_affine=True)\n",
       "              (dropout): Dropout(p=0.1, inplace=False)\n",
       "            )\n",
       "          )\n",
       "          (intermediate): BertIntermediate(\n",
       "            (dense): Linear(in_features=768, out_features=3072, bias=True)\n",
       "            (intermediate_act_fn): GELUActivation()\n",
       "          )\n",
       "          (output): BertOutput(\n",
       "            (dense): Linear(in_features=3072, out_features=768, bias=True)\n",
       "            (LayerNorm): LayerNorm((768,), eps=1e-12, elementwise_affine=True)\n",
       "            (dropout): Dropout(p=0.1, inplace=False)\n",
       "          )\n",
       "        )\n",
       "      )\n",
       "    )\n",
       "    (pooler): BertPooler(\n",
       "      (dense): Linear(in_features=768, out_features=768, bias=True)\n",
       "      (activation): Tanh()\n",
       "    )\n",
       "  )\n",
       "  (dropout): Dropout(p=0.1, inplace=False)\n",
       "  (classifier): Linear(in_features=768, out_features=2, bias=True)\n",
       ")"
      ]
     },
     "execution_count": 5,
     "metadata": {},
     "output_type": "execute_result"
    }
   ],
   "source": [
    "from transformers import AutoModelForSequenceClassification, AutoTokenizer\n",
    "import torch\n",
    "\n",
    "device = torch.device(\"cuda\")\n",
    "\n",
    "# Load model & tokenizer\n",
    "model = AutoModelForSequenceClassification.from_pretrained(\n",
    "    \"indolem/indobertweet-base-uncased\",\n",
    "    cache_dir=\"cache/\"\n",
    ")\n",
    "tokenizer = AutoTokenizer.from_pretrained(\n",
    "    \"indolem/indobertweet-base-uncased\",\n",
    "    cache_dir=\"cache/\"\n",
    ")\n",
    "\n",
    "# Move model to device\n",
    "model.to(device)"
   ]
  },
  {
   "cell_type": "code",
   "execution_count": 6,
   "id": "9cec70fd",
   "metadata": {},
   "outputs": [],
   "source": [
    "def tokenize(key):\n",
    "    def callback(row):\n",
    "        return tokenizer(\n",
    "            row[key],\n",
    "            truncation=True,\n",
    "            padding=\"max_length\",\n",
    "            max_length=128,\n",
    "        )\n",
    "    return callback"
   ]
  },
  {
   "cell_type": "code",
   "execution_count": 7,
   "id": "731425d2",
   "metadata": {},
   "outputs": [
    {
     "data": {
      "application/vnd.jupyter.widget-view+json": {
       "model_id": "d8f0daac706843659591c4e452991690",
       "version_major": 2,
       "version_minor": 0
      },
      "text/plain": [
       "Map:   0%|          | 0/15998 [00:00<?, ? examples/s]"
      ]
     },
     "metadata": {},
     "output_type": "display_data"
    },
    {
     "data": {
      "application/vnd.jupyter.widget-view+json": {
       "model_id": "56fbed300942435bb26f5e7b51d51b2e",
       "version_major": 2,
       "version_minor": 0
      },
      "text/plain": [
       "Map:   0%|          | 0/4000 [00:00<?, ? examples/s]"
      ]
     },
     "metadata": {},
     "output_type": "display_data"
    },
    {
     "data": {
      "application/vnd.jupyter.widget-view+json": {
       "model_id": "a17db94895fb402cab23ed235cf0a078",
       "version_major": 2,
       "version_minor": 0
      },
      "text/plain": [
       "Map:   0%|          | 0/1999 [00:00<?, ? examples/s]"
      ]
     },
     "metadata": {},
     "output_type": "display_data"
    }
   ],
   "source": [
    "tokenizer_callback = tokenize(\"text\")\n",
    "encoded_train_ds = cleaned_train_ds.map(tokenizer_callback, batch_size=256, batched=True)\n",
    "encoded_eval_ds = cleaned_eval_ds.map(tokenizer_callback, batch_size=256, batched=True)\n",
    "encoded_test_ds = cleaned_test_ds.map(tokenizer_callback, batch_size=256, batched=True)"
   ]
  },
  {
   "cell_type": "code",
   "execution_count": 8,
   "id": "2a6f8b8e",
   "metadata": {},
   "outputs": [],
   "source": [
    "encoded_train_ds.set_format(\"torch\", columns=[\"label\", \"input_ids\", \"attention_mask\"])\n",
    "encoded_eval_ds.set_format(\"torch\", columns=[\"label\", \"input_ids\", \"attention_mask\"])\n",
    "encoded_test_ds.set_format(\"torch\", columns=[\"label\", \"input_ids\", \"attention_mask\"])\n"
   ]
  },
  {
   "cell_type": "code",
   "execution_count": 9,
   "id": "001ef791",
   "metadata": {},
   "outputs": [],
   "source": [
    "from transformers import Trainer\n",
    "from torch import nn\n",
    "\n",
    "class WeightedLossTrainer(Trainer):\n",
    "    def __init__(self, *args, class_weights=None, **kwargs):\n",
    "        super().__init__(*args, **kwargs)\n",
    "        self.class_weights = class_weights\n",
    "\n",
    "    def compute_loss(self, model, inputs, return_outputs=False, **kwargs):\n",
    "        labels = inputs.pop(\"labels\")\n",
    "        outputs = model(**inputs)\n",
    "        logits = outputs.get(\"logits\")\n",
    "        weights = self.class_weights.to(logits.device)\n",
    "        loss_fct = nn.CrossEntropyLoss(weight=weights)\n",
    "        loss = loss_fct(logits.view(-1, self.model.config.num_labels), \n",
    "                        labels.view(-1))\n",
    "        return (loss, outputs) if return_outputs else loss"
   ]
  },
  {
   "cell_type": "code",
   "execution_count": 10,
   "id": "c195eb1d",
   "metadata": {},
   "outputs": [],
   "source": [
    "from transformers.training_args import TrainingArguments\n",
    "from transformers.trainer_callback import EarlyStoppingCallback\n",
    "from transformers.trainer import Trainer\n",
    "from transformers.data.data_collator import default_data_collator\n",
    "from sklearn.metrics import precision_recall_fscore_support, accuracy_score\n",
    "import numpy as np\n",
    "\n",
    "def compute_metrics(class_names):\n",
    "    num_classes = len(class_names)\n",
    "    def callback(eval_pred):\n",
    "        logits, labels = eval_pred\n",
    "        if isinstance(logits, torch.Tensor):\n",
    "            logits = logits.detach().cpu().numpy()\n",
    "        if isinstance(labels, torch.Tensor):\n",
    "            labels = labels.detach().cpu().numpy()\n",
    "        preds = np.argmax(logits, axis=1)\n",
    "        macro_p, macro_r, macro_f1, _ = precision_recall_fscore_support(\n",
    "            labels, preds, average=\"macro\", zero_division=0\n",
    "        )\n",
    "        acc = accuracy_score(labels, preds)\n",
    "        p_cls, r_cls, f1_cls, support_cls = precision_recall_fscore_support(\n",
    "            labels, \n",
    "            preds, \n",
    "            average=None,\n",
    "            zero_division=0,\n",
    "            labels=list(range(num_classes))\n",
    "        )\n",
    "        metrics = {\n",
    "            \"accuracy\": acc,\n",
    "            \"macro_f1\": macro_f1,\n",
    "            \"macro_precision\": macro_p,\n",
    "            \"macro_recall\": macro_r,\n",
    "        }\n",
    "        for idx, name in enumerate(class_names):\n",
    "            metrics[f\"{name}_precision\"] = p_cls[idx] #type: ignore\n",
    "            metrics[f\"{name}_recall\"]    = r_cls[idx]  #type: ignore\n",
    "            metrics[f\"{name}_f1\"]        = f1_cls[idx]  #type: ignore\n",
    "            metrics[f\"{name}_support\"]   = int(support_cls[idx])  #type: ignore\n",
    "        return metrics\n",
    "    return callback\n",
    "\n",
    "\n",
    "training_args = TrainingArguments(\n",
    "    output_dir=\"./results\",\n",
    "    overwrite_output_dir=True,\n",
    "    eval_strategy=\"epoch\",     # evaluate at the end of each epoch\n",
    "    save_strategy=\"epoch\",           # save checkpoint at the end of each epoch\n",
    "    learning_rate=1e-5,\n",
    "    per_device_train_batch_size=128,\n",
    "    per_device_eval_batch_size=256,\n",
    "    num_train_epochs=40,\n",
    "    weight_decay=0.05,\n",
    "    logging_strategy=\"epoch\",\n",
    "    load_best_model_at_end=True,\n",
    "    metric_for_best_model=\"eval_macro_f1\",\n",
    "    greater_is_better=True,\n",
    "    warmup_steps=500,\n",
    "    fp16=True,\n",
    "    gradient_accumulation_steps=1,\n",
    ")\n",
    "\n",
    "def train_model(\n",
    "    model,\n",
    "    train_dataset,\n",
    "    eval_dataset,\n",
    "    test_dataset,\n",
    "    input_class_names,\n",
    "    class_weights\n",
    "):\n",
    "    compute_callback = compute_metrics(input_class_names)\n",
    "    trainer = WeightedLossTrainer(\n",
    "        model = model,\n",
    "        args = training_args,\n",
    "        train_dataset = train_dataset,\n",
    "        eval_dataset=eval_dataset,\n",
    "        data_collator=default_data_collator,\n",
    "        compute_metrics=compute_callback,\n",
    "        callbacks=[EarlyStoppingCallback(early_stopping_patience=3)],\n",
    "        class_weights=class_weights\n",
    "    )\n",
    "    print(\"Starting training...\")\n",
    "    trainer.train()\n",
    "    print(\"Training complete. Evaluating...\")\n",
    "    return trainer.evaluate(eval_dataset = test_dataset)"
   ]
  },
  {
   "cell_type": "code",
   "execution_count": 11,
   "id": "8ef7064f",
   "metadata": {},
   "outputs": [
    {
     "name": "stdout",
     "output_type": "stream",
     "text": [
      "Starting training...\n"
     ]
    },
    {
     "data": {
      "text/html": [
       "\n",
       "    <div>\n",
       "      \n",
       "      <progress value='1000' max='5000' style='width:300px; height:20px; vertical-align: middle;'></progress>\n",
       "      [1000/5000 03:17 < 13:11, 5.05 it/s, Epoch 8/40]\n",
       "    </div>\n",
       "    <table border=\"1\" class=\"dataframe\">\n",
       "  <thead>\n",
       " <tr style=\"text-align: left;\">\n",
       "      <th>Epoch</th>\n",
       "      <th>Training Loss</th>\n",
       "      <th>Validation Loss</th>\n",
       "      <th>Accuracy</th>\n",
       "      <th>Macro F1</th>\n",
       "      <th>Macro Precision</th>\n",
       "      <th>Macro Recall</th>\n",
       "      <th>False Precision</th>\n",
       "      <th>False Recall</th>\n",
       "      <th>False F1</th>\n",
       "      <th>False Support</th>\n",
       "      <th>True Precision</th>\n",
       "      <th>True Recall</th>\n",
       "      <th>True F1</th>\n",
       "      <th>True Support</th>\n",
       "    </tr>\n",
       "  </thead>\n",
       "  <tbody>\n",
       "    <tr>\n",
       "      <td>1</td>\n",
       "      <td>0.634800</td>\n",
       "      <td>0.521502</td>\n",
       "      <td>0.780000</td>\n",
       "      <td>0.779232</td>\n",
       "      <td>0.784345</td>\n",
       "      <td>0.780184</td>\n",
       "      <td>0.748439</td>\n",
       "      <td>0.841525</td>\n",
       "      <td>0.792257</td>\n",
       "      <td>1994</td>\n",
       "      <td>0.820250</td>\n",
       "      <td>0.718843</td>\n",
       "      <td>0.766206</td>\n",
       "      <td>2006</td>\n",
       "    </tr>\n",
       "    <tr>\n",
       "      <td>2</td>\n",
       "      <td>0.454400</td>\n",
       "      <td>0.406331</td>\n",
       "      <td>0.822000</td>\n",
       "      <td>0.821986</td>\n",
       "      <td>0.822174</td>\n",
       "      <td>0.822034</td>\n",
       "      <td>0.813908</td>\n",
       "      <td>0.833501</td>\n",
       "      <td>0.823588</td>\n",
       "      <td>1994</td>\n",
       "      <td>0.830439</td>\n",
       "      <td>0.810568</td>\n",
       "      <td>0.820383</td>\n",
       "      <td>2006</td>\n",
       "    </tr>\n",
       "    <tr>\n",
       "      <td>3</td>\n",
       "      <td>0.387700</td>\n",
       "      <td>0.381464</td>\n",
       "      <td>0.834000</td>\n",
       "      <td>0.833965</td>\n",
       "      <td>0.834390</td>\n",
       "      <td>0.834051</td>\n",
       "      <td>0.822190</td>\n",
       "      <td>0.851053</td>\n",
       "      <td>0.836373</td>\n",
       "      <td>1994</td>\n",
       "      <td>0.846591</td>\n",
       "      <td>0.817049</td>\n",
       "      <td>0.831558</td>\n",
       "      <td>2006</td>\n",
       "    </tr>\n",
       "    <tr>\n",
       "      <td>4</td>\n",
       "      <td>0.350800</td>\n",
       "      <td>0.388795</td>\n",
       "      <td>0.833250</td>\n",
       "      <td>0.832923</td>\n",
       "      <td>0.835575</td>\n",
       "      <td>0.833125</td>\n",
       "      <td>0.862767</td>\n",
       "      <td>0.791374</td>\n",
       "      <td>0.825530</td>\n",
       "      <td>1994</td>\n",
       "      <td>0.808383</td>\n",
       "      <td>0.874875</td>\n",
       "      <td>0.840316</td>\n",
       "      <td>2006</td>\n",
       "    </tr>\n",
       "    <tr>\n",
       "      <td>5</td>\n",
       "      <td>0.318400</td>\n",
       "      <td>0.370327</td>\n",
       "      <td>0.845250</td>\n",
       "      <td>0.845248</td>\n",
       "      <td>0.845249</td>\n",
       "      <td>0.845248</td>\n",
       "      <td>0.844957</td>\n",
       "      <td>0.844534</td>\n",
       "      <td>0.844745</td>\n",
       "      <td>1994</td>\n",
       "      <td>0.845541</td>\n",
       "      <td>0.845962</td>\n",
       "      <td>0.845751</td>\n",
       "      <td>2006</td>\n",
       "    </tr>\n",
       "    <tr>\n",
       "      <td>6</td>\n",
       "      <td>0.283300</td>\n",
       "      <td>0.374255</td>\n",
       "      <td>0.841250</td>\n",
       "      <td>0.841226</td>\n",
       "      <td>0.841550</td>\n",
       "      <td>0.841294</td>\n",
       "      <td>0.830657</td>\n",
       "      <td>0.856068</td>\n",
       "      <td>0.843171</td>\n",
       "      <td>1994</td>\n",
       "      <td>0.852442</td>\n",
       "      <td>0.826520</td>\n",
       "      <td>0.839281</td>\n",
       "      <td>2006</td>\n",
       "    </tr>\n",
       "    <tr>\n",
       "      <td>7</td>\n",
       "      <td>0.245400</td>\n",
       "      <td>0.410427</td>\n",
       "      <td>0.834750</td>\n",
       "      <td>0.834396</td>\n",
       "      <td>0.837318</td>\n",
       "      <td>0.834619</td>\n",
       "      <td>0.866008</td>\n",
       "      <td>0.790873</td>\n",
       "      <td>0.826737</td>\n",
       "      <td>1994</td>\n",
       "      <td>0.808628</td>\n",
       "      <td>0.878365</td>\n",
       "      <td>0.842055</td>\n",
       "      <td>2006</td>\n",
       "    </tr>\n",
       "    <tr>\n",
       "      <td>8</td>\n",
       "      <td>0.211300</td>\n",
       "      <td>0.412202</td>\n",
       "      <td>0.837500</td>\n",
       "      <td>0.837482</td>\n",
       "      <td>0.837582</td>\n",
       "      <td>0.837476</td>\n",
       "      <td>0.842159</td>\n",
       "      <td>0.829488</td>\n",
       "      <td>0.835776</td>\n",
       "      <td>1994</td>\n",
       "      <td>0.833006</td>\n",
       "      <td>0.845464</td>\n",
       "      <td>0.839189</td>\n",
       "      <td>2006</td>\n",
       "    </tr>\n",
       "  </tbody>\n",
       "</table><p>"
      ],
      "text/plain": [
       "<IPython.core.display.HTML object>"
      ]
     },
     "metadata": {},
     "output_type": "display_data"
    },
    {
     "name": "stdout",
     "output_type": "stream",
     "text": [
      "Training complete. Evaluating...\n"
     ]
    },
    {
     "data": {
      "text/html": [
       "\n",
       "    <div>\n",
       "      \n",
       "      <progress value='8' max='8' style='width:300px; height:20px; vertical-align: middle;'></progress>\n",
       "      [8/8 00:00]\n",
       "    </div>\n",
       "    "
      ],
      "text/plain": [
       "<IPython.core.display.HTML object>"
      ]
     },
     "metadata": {},
     "output_type": "display_data"
    }
   ],
   "source": [
    "import os\n",
    "num_false = label_counts.get(False, 0)\n",
    "num_true = label_counts.get(True, 0)\n",
    "total = num_false + num_true\n",
    "\n",
    "my_weights = torch.tensor([num_true / total,  # weight for class 0 (False)\n",
    "                           num_false / total], # weight for class 1 (True)\n",
    "                           dtype=torch.float)\n",
    "results = train_model(model, encoded_train_ds, encoded_eval_ds, encoded_test_ds, class_labels.names, my_weights)"
   ]
  },
  {
   "cell_type": "code",
   "execution_count": 13,
   "id": "c6ad8aae",
   "metadata": {},
   "outputs": [
    {
     "name": "stdout",
     "output_type": "stream",
     "text": [
      "Running predictions on test_ds...\n"
     ]
    },
    {
     "data": {
      "text/html": [
       "\n",
       "    <div>\n",
       "      \n",
       "      <progress value='1' max='32' style='width:300px; height:20px; vertical-align: middle;'></progress>\n",
       "      [ 1/32 : < :]\n",
       "    </div>\n",
       "    "
      ],
      "text/plain": [
       "<IPython.core.display.HTML object>"
      ]
     },
     "metadata": {},
     "output_type": "display_data"
    },
    {
     "name": "stdout",
     "output_type": "stream",
     "text": [
      "Predictions complete.\n",
      "\n",
      "Found 234 misclassified samples out of 1999 total.\n",
      "\n",
      "--- 🔴 FALSE POSITIVES (Model said 'Relevant', but was 'Not Relevant') ---\n"
     ]
    },
    {
     "data": {
      "text/html": [
       "<div>\n",
       "<style scoped>\n",
       "    .dataframe tbody tr th:only-of-type {\n",
       "        vertical-align: middle;\n",
       "    }\n",
       "\n",
       "    .dataframe tbody tr th {\n",
       "        vertical-align: top;\n",
       "    }\n",
       "\n",
       "    .dataframe thead th {\n",
       "        text-align: right;\n",
       "    }\n",
       "</style>\n",
       "<table border=\"1\" class=\"dataframe\">\n",
       "  <thead>\n",
       "    <tr style=\"text-align: right;\">\n",
       "      <th></th>\n",
       "      <th>text</th>\n",
       "      <th>true_label</th>\n",
       "      <th>predicted_label</th>\n",
       "      <th>error_type</th>\n",
       "    </tr>\n",
       "  </thead>\n",
       "  <tbody>\n",
       "    <tr>\n",
       "      <th>2</th>\n",
       "      <td>di ruu kesehatan yang membahas tembakau golongan narkotika tega bgt, sampai mereka unjuk rasa di depan gedung jadi bisa di membedakan dan kita harus dukung wakil demi rakyat #tegaklurus #omnibuskesehatan &lt;url&gt;</td>\n",
       "      <td>0</td>\n",
       "      <td>1</td>\n",
       "      <td>False Positive (FP)</td>\n",
       "    </tr>\n",
       "    <tr>\n",
       "      <th>5</th>\n",
       "      <td>setidaknya masih ada hiburan sewaktu indonesia bubar #indonesiagelap</td>\n",
       "      <td>0</td>\n",
       "      <td>1</td>\n",
       "      <td>False Positive (FP)</td>\n",
       "    </tr>\n",
       "    <tr>\n",
       "      <th>15</th>\n",
       "      <td>itu kenapa dihadang sih? kan lagi unjuk rasa!</td>\n",
       "      <td>0</td>\n",
       "      <td>1</td>\n",
       "      <td>False Positive (FP)</td>\n",
       "    </tr>\n",
       "    <tr>\n",
       "      <th>24</th>\n",
       "      <td>teruslah bersuara! #sampaimenang #indonesiagelap</td>\n",
       "      <td>0</td>\n",
       "      <td>1</td>\n",
       "      <td>False Positive (FP)</td>\n",
       "    </tr>\n",
       "    <tr>\n",
       "      <th>32</th>\n",
       "      <td>lah wo yang bayar kan orang-orang lu, tiba-tiba ada kerumunan mendukung ruu tni sambil bagi-bagi makanan -,- berapa rate per aksi nya ? 75k ? 100k ?</td>\n",
       "      <td>0</td>\n",
       "      <td>1</td>\n",
       "      <td>False Positive (FP)</td>\n",
       "    </tr>\n",
       "    <tr>\n",
       "      <th>55</th>\n",
       "      <td>memang tuntutan demo nya dari awal untuk evaluasi. justru salah satu poin tuntutan demo mahasiswa beberapa hari lalu itu juga untuk mendorong efisiensi yang tepat! yaitu efisiensi kabinet gemuk wowo.</td>\n",
       "      <td>0</td>\n",
       "      <td>1</td>\n",
       "      <td>False Positive (FP)</td>\n",
       "    </tr>\n",
       "    <tr>\n",
       "      <th>71</th>\n",
       "      <td>hah?? ruu tni disahkan??</td>\n",
       "      <td>0</td>\n",
       "      <td>1</td>\n",
       "      <td>False Positive (FP)</td>\n",
       "    </tr>\n",
       "    <tr>\n",
       "      <th>89</th>\n",
       "      <td>waspada provokasi #indonesiagelap narasi indonesia gelap hanyalah isu propaganda yang bertujuan untuk menyebarkan ketakutan. masa depan indonesia adalah milik mereka yang optimis. #indonesiaterang #waspadahaoksdanprovokasi #lawanhoaks #lawanprovokasi</td>\n",
       "      <td>0</td>\n",
       "      <td>1</td>\n",
       "      <td>False Positive (FP)</td>\n",
       "    </tr>\n",
       "    <tr>\n",
       "      <th>90</th>\n",
       "      <td>ruu tni di sahkan untuk menutup kasus sekar,hmm. kawal terus sekar(at)</td>\n",
       "      <td>0</td>\n",
       "      <td>1</td>\n",
       "      <td>False Positive (FP)</td>\n",
       "    </tr>\n",
       "    <tr>\n",
       "      <th>93</th>\n",
       "      <td>sering, waktu itu bahas bobroknya coretax, warna cat yang bagus buat lebaran, bagaimana cara duit tambahan, mengomongkan dwifungsi abri, harga rumah, kontrakan, proyeksi masa depan, dan masih banyak lagi.</td>\n",
       "      <td>0</td>\n",
       "      <td>1</td>\n",
       "      <td>False Positive (FP)</td>\n",
       "    </tr>\n",
       "    <tr>\n",
       "      <th>131</th>\n",
       "      <td>horizontal terus nih #tolakruutni bagaimana gess?</td>\n",
       "      <td>0</td>\n",
       "      <td>1</td>\n",
       "      <td>False Positive (FP)</td>\n",
       "    </tr>\n",
       "    <tr>\n",
       "      <th>158</th>\n",
       "      <td>kalo benar kasus yang terjadi belakangan ini: - peliput kejadian (berita) kena pukul - tenaga medis kena tonjok - penyedia logistik nasibnya juga mirip parah banget ya? #cabutuutni #tolakruupolri #peringatandarurat #tolakuutni</td>\n",
       "      <td>0</td>\n",
       "      <td>1</td>\n",
       "      <td>False Positive (FP)</td>\n",
       "    </tr>\n",
       "    <tr>\n",
       "      <th>178</th>\n",
       "      <td>susah memang debat sama kaum yang simpati sama kelompok anarko, menormalisasi vandalisme dan public disruption di tiap aksi demo.</td>\n",
       "      <td>0</td>\n",
       "      <td>1</td>\n",
       "      <td>False Positive (FP)</td>\n",
       "    </tr>\n",
       "    <tr>\n",
       "      <th>182</th>\n",
       "      <td>sebagai maklumat, semua poster buatanku bebas untuk diprint dan disebarluaskan!! lawan lawan lawan!! #indonesiagelap</td>\n",
       "      <td>0</td>\n",
       "      <td>1</td>\n",
       "      <td>False Positive (FP)</td>\n",
       "    </tr>\n",
       "    <tr>\n",
       "      <th>190</th>\n",
       "      <td>#indonesiagelap protest ini wikipedia *in the news* section. keep itu up until indonesia democracy is winning! &lt;url&gt; #darkindonesia</td>\n",
       "      <td>0</td>\n",
       "      <td>1</td>\n",
       "      <td>False Positive (FP)</td>\n",
       "    </tr>\n",
       "    <tr>\n",
       "      <th>215</th>\n",
       "      <td>hanya pion pionnya saja yang diamankan, sedangkan pemain kakapnya dibiarkan begitu saja #kejaksaan #indonesiagelap #presidenri #indonesia #dpr #mpr #tolakruukejaksaan</td>\n",
       "      <td>0</td>\n",
       "      <td>1</td>\n",
       "      <td>False Positive (FP)</td>\n",
       "    </tr>\n",
       "    <tr>\n",
       "      <th>219</th>\n",
       "      <td>terima kasih kepada teman-teman yang ikut meramaikan sg tentang ruu tni ini karena memang perlu guys kita manfaatkan rasa “fomo” gen saja and gen alpha biar jadi penasaran sama “isu apa sekarang” melihat banyaknya repost an dan akhirnya ikutan repost!!</td>\n",
       "      <td>0</td>\n",
       "      <td>1</td>\n",
       "      <td>False Positive (FP)</td>\n",
       "    </tr>\n",
       "    <tr>\n",
       "      <th>254</th>\n",
       "      <td>\"perasaan real life gue aman2 aja\" your ass. mengomong begitu karena belum ngalamin. inituh efek jangka panjang ajg haruskah lu pada terkena efek ruu tni dulu baru melek dan enggak tone deaf?!</td>\n",
       "      <td>0</td>\n",
       "      <td>1</td>\n",
       "      <td>False Positive (FP)</td>\n",
       "    </tr>\n",
       "    <tr>\n",
       "      <th>267</th>\n",
       "      <td>sedang di seberang sedang baca tarot dan main abc 5 dasar #tolakrevisiuutni #tolakruupolri</td>\n",
       "      <td>0</td>\n",
       "      <td>1</td>\n",
       "      <td>False Positive (FP)</td>\n",
       "    </tr>\n",
       "    <tr>\n",
       "      <th>280</th>\n",
       "      <td>tidak ada itu namanya dwifungsi bro #sinergitasuntukbangsa</td>\n",
       "      <td>0</td>\n",
       "      <td>1</td>\n",
       "      <td>False Positive (FP)</td>\n",
       "    </tr>\n",
       "    <tr>\n",
       "      <th>311</th>\n",
       "      <td>ruu tni wingi kae saiki piye ya kabare</td>\n",
       "      <td>0</td>\n",
       "      <td>1</td>\n",
       "      <td>False Positive (FP)</td>\n",
       "    </tr>\n",
       "    <tr>\n",
       "      <th>316</th>\n",
       "      <td>*faifiu kalau bukan dwifungsi* *literally dwifungsi* dumbest and dull argument.</td>\n",
       "      <td>0</td>\n",
       "      <td>1</td>\n",
       "      <td>False Positive (FP)</td>\n",
       "    </tr>\n",
       "    <tr>\n",
       "      <th>363</th>\n",
       "      <td>masih ada saja yang bilang dwifungsi enggak balik. bagaimana pak ? sudah persis orba belum?</td>\n",
       "      <td>0</td>\n",
       "      <td>1</td>\n",
       "      <td>False Positive (FP)</td>\n",
       "    </tr>\n",
       "    <tr>\n",
       "      <th>446</th>\n",
       "      <td>: kemarin demo ruu tni menurut pendapat bapak gimana? : menurut saya indonesia adalah bangsa yang besar, dengan tinggi saya yang mencapai 177cm, saya yakin stecu stecu stecu, makanya 15 juta dibagi 200 hari kan 75 ribu dul.</td>\n",
       "      <td>0</td>\n",
       "      <td>1</td>\n",
       "      <td>False Positive (FP)</td>\n",
       "    </tr>\n",
       "    <tr>\n",
       "      <th>469</th>\n",
       "      <td>kayak begini mau dwifungsi</td>\n",
       "      <td>0</td>\n",
       "      <td>1</td>\n",
       "      <td>False Positive (FP)</td>\n",
       "    </tr>\n",
       "    <tr>\n",
       "      <th>470</th>\n",
       "      <td>menampak tilas sejarah, persatuan gerakan mahasiswa dan buruh (rakyat) terseru pada setiap jaman penindasan, melalui lembaran2 revolusi. #rakyatbiasa #lawanoligarki #indonesiagelap</td>\n",
       "      <td>0</td>\n",
       "      <td>1</td>\n",
       "      <td>False Positive (FP)</td>\n",
       "    </tr>\n",
       "    <tr>\n",
       "      <th>483</th>\n",
       "      <td>enggak mikir aparat tuh yaa, berisiko tinggi main tembak gas tuh. kagak mengerti pikirannya isinya apa #kawalputusanmk #tolakpilkadaasal2an #tolakpolitikdinasti #peringatandarurat #indonesiaemergencydemocracy</td>\n",
       "      <td>0</td>\n",
       "      <td>1</td>\n",
       "      <td>False Positive (FP)</td>\n",
       "    </tr>\n",
       "    <tr>\n",
       "      <th>490</th>\n",
       "      <td>selamat datang kembali dwifungsi!</td>\n",
       "      <td>0</td>\n",
       "      <td>1</td>\n",
       "      <td>False Positive (FP)</td>\n",
       "    </tr>\n",
       "    <tr>\n",
       "      <th>505</th>\n",
       "      <td>cuma bisa berdo'a untuk mereka yang sudah menyengsarakan rakyat agar bertobat. #indonesiagelap</td>\n",
       "      <td>0</td>\n",
       "      <td>1</td>\n",
       "      <td>False Positive (FP)</td>\n",
       "    </tr>\n",
       "    <tr>\n",
       "      <th>528</th>\n",
       "      <td>baru bangun tidur ruu tni sudah sah aja, bangsat memang lu pada yang pilih sih gembrot</td>\n",
       "      <td>0</td>\n",
       "      <td>1</td>\n",
       "      <td>False Positive (FP)</td>\n",
       "    </tr>\n",
       "    <tr>\n",
       "      <th>537</th>\n",
       "      <td>harusnya kalo ada dwifungsi abri, ada dwifungsi sipil. aku mau orang sipil boleh punya pistol dan boleh dibawa kmnmn.</td>\n",
       "      <td>0</td>\n",
       "      <td>1</td>\n",
       "      <td>False Positive (FP)</td>\n",
       "    </tr>\n",
       "    <tr>\n",
       "      <th>563</th>\n",
       "      <td>#tolakruutni</td>\n",
       "      <td>0</td>\n",
       "      <td>1</td>\n",
       "      <td>False Positive (FP)</td>\n",
       "    </tr>\n",
       "    <tr>\n",
       "      <th>566</th>\n",
       "      <td>ngantuk tapi mau mandi #tolakruupolri #tolakuutni #tolakruukejaksaan #gagalkanuutni #indonesiagelap #peringatandarurat #tolakdwifungsiabri #indonesiamakingelap #tnigelap #supremasisipiltetapterjaga #freepalestine #palestinegenocide #alleyesongaza #gazagenocide</td>\n",
       "      <td>0</td>\n",
       "      <td>1</td>\n",
       "      <td>False Positive (FP)</td>\n",
       "    </tr>\n",
       "    <tr>\n",
       "      <th>597</th>\n",
       "      <td>snbp merah indonesia kalah liverpool kalah ferrari apalagi ruu tni sah sial banget hidup jadi wni</td>\n",
       "      <td>0</td>\n",
       "      <td>1</td>\n",
       "      <td>False Positive (FP)</td>\n",
       "    </tr>\n",
       "    <tr>\n",
       "      <th>636</th>\n",
       "      <td>slogan yang paling gua inget: no justice, no peace, f*ck the police #indonesiagelap #darkindonesia #indonesiagelap #darkindonesia #indonesiagelap #darkindonesia #indonesiagelap #darkindonesia #indonesiagelap #darkindonesia #indonesiagelap</td>\n",
       "      <td>0</td>\n",
       "      <td>1</td>\n",
       "      <td>False Positive (FP)</td>\n",
       "    </tr>\n",
       "    <tr>\n",
       "      <th>670</th>\n",
       "      <td>thanks for the ga, kak!! aku mau caelus hehehehe :3 #cabutruutni #tolakruutni #tolakrevisiuutni #indonesiagelap #tolakdwifungsitni</td>\n",
       "      <td>0</td>\n",
       "      <td>1</td>\n",
       "      <td>False Positive (FP)</td>\n",
       "    </tr>\n",
       "    <tr>\n",
       "      <th>695</th>\n",
       "      <td>chanel sepulang sekolah ngejelasin kenapa ruu tni di tolak pakai bahasa bayi, benaran gampang banget uu tni banyak ditolak? ada contoh negara-negara lain! banding saja ini mah :')follow koi on ig : &lt;url&gt; for watching!#learningbygoogling #koiyocabe #ruutni</td>\n",
       "      <td>0</td>\n",
       "      <td>1</td>\n",
       "      <td>False Positive (FP)</td>\n",
       "    </tr>\n",
       "    <tr>\n",
       "      <th>717</th>\n",
       "      <td>maaf enggak update ruu tni di akun ini, karena akun aku banyak</td>\n",
       "      <td>0</td>\n",
       "      <td>1</td>\n",
       "      <td>False Positive (FP)</td>\n",
       "    </tr>\n",
       "    <tr>\n",
       "      <th>721</th>\n",
       "      <td>demo mahasiswa dengan tajuk indonesia gelap sepertinya belum ada respon serius dari ndasnya endas. jangan putus asa suarakan terus hingga parah-parah ndas menya mengurus negara enggak bisa seenak ndasmu.</td>\n",
       "      <td>0</td>\n",
       "      <td>1</td>\n",
       "      <td>False Positive (FP)</td>\n",
       "    </tr>\n",
       "    <tr>\n",
       "      <th>729</th>\n",
       "      <td>dwifungsi damkar jadi petrus kayaknya sabi</td>\n",
       "      <td>0</td>\n",
       "      <td>1</td>\n",
       "      <td>False Positive (FP)</td>\n",
       "    </tr>\n",
       "    <tr>\n",
       "      <th>756</th>\n",
       "      <td>rakyat mengkritik dwifungsi dianggap kampungan?</td>\n",
       "      <td>0</td>\n",
       "      <td>1</td>\n",
       "      <td>False Positive (FP)</td>\n",
       "    </tr>\n",
       "    <tr>\n",
       "      <th>761</th>\n",
       "      <td>kasus perselingkuhan rk itu janggal banget gasi? kayak itu anak lahir sudah dari tahun 22, terus sih lc sudah punya anak kedua itu anak siapa dah? artinya dia sudah punya suami? terus kenapa tiba-tiba meminta hak anak ke rk, suaminya enggak sudi kalo menafkahi yang bukan anak kandungnya? anw #to...</td>\n",
       "      <td>0</td>\n",
       "      <td>1</td>\n",
       "      <td>False Positive (FP)</td>\n",
       "    </tr>\n",
       "    <tr>\n",
       "      <th>796</th>\n",
       "      <td>setiap kebijakan yang diambil pasti ada tujuan, enggak tiba - tiba bikin ini dan itu, bedanya ada hal yang diluar kontrol mereka, seperti aksi demo, negara lain naikin tarif juga dll, tapi soal angka2 ekonomi mereka bisa atur itu.</td>\n",
       "      <td>0</td>\n",
       "      <td>1</td>\n",
       "      <td>False Positive (FP)</td>\n",
       "    </tr>\n",
       "    <tr>\n",
       "      <th>818</th>\n",
       "      <td>kalau demokrasi kita tidak berjalan, tidak mungkin anda jadi gubernur.!! kalau jokowi diktator, tidak mungkin anda jadi gubernur..!! piye, terbukti ora son?? #kawalkeputusanmk #ripdemokrasi #peringatandarurat</td>\n",
       "      <td>0</td>\n",
       "      <td>1</td>\n",
       "      <td>False Positive (FP)</td>\n",
       "    </tr>\n",
       "    <tr>\n",
       "      <th>838</th>\n",
       "      <td>sudahlah hari ini ruu tni disahkan, timnas baru mulai sudah 3-0, apa digiveaway saja ya negara ini?</td>\n",
       "      <td>0</td>\n",
       "      <td>1</td>\n",
       "      <td>False Positive (FP)</td>\n",
       "    </tr>\n",
       "    <tr>\n",
       "      <th>840</th>\n",
       "      <td>i shan't rant here but really the conditions lately is sok bad i hope the govt rot really. #indonesiagelap</td>\n",
       "      <td>0</td>\n",
       "      <td>1</td>\n",
       "      <td>False Positive (FP)</td>\n",
       "    </tr>\n",
       "    <tr>\n",
       "      <th>864</th>\n",
       "      <td>lawan! jangan lengah! batalkan bukan tunda! kawal sampai ketok palu! panjang umur perjuangan! hidup rakyat indonesia! #kawalputusanmk #menjagaputusanmk #tolakpilkadaakal2an #tolakpolitikdinasti #peringatandarurat #indonesiaemergencydemocracy</td>\n",
       "      <td>0</td>\n",
       "      <td>1</td>\n",
       "      <td>False Positive (FP)</td>\n",
       "    </tr>\n",
       "    <tr>\n",
       "      <th>875</th>\n",
       "      <td>lah terus mau lu gimana.. itu artinya demo itu organik aspirasi semua golongan elemen masyarakat dan terbantahkan kalo demonstrasi ini disusupi kekuatan asing dan dibiayai oleh bohir.</td>\n",
       "      <td>0</td>\n",
       "      <td>1</td>\n",
       "      <td>False Positive (FP)</td>\n",
       "    </tr>\n",
       "    <tr>\n",
       "      <th>884</th>\n",
       "      <td>1. apa hingga detik ini dia masih percaya kalau anak yang kritik menu mbak itu pea? 2. apa hingga detik ini dia masih percaya kalau statement dia terkait uu tni itu benar? dia benar-benar percaya kalau tni tidak akan dwifungsi karena uu tsb?</td>\n",
       "      <td>0</td>\n",
       "      <td>1</td>\n",
       "      <td>False Positive (FP)</td>\n",
       "    </tr>\n",
       "    <tr>\n",
       "      <th>888</th>\n",
       "      <td>dwifungsi aparat lagi, putusan ma, tapera, penyiaran, korupsi antam, ayok apalagi, aneh kalo enggak lengser mah</td>\n",
       "      <td>0</td>\n",
       "      <td>1</td>\n",
       "      <td>False Positive (FP)</td>\n",
       "    </tr>\n",
       "    <tr>\n",
       "      <th>894</th>\n",
       "      <td>sistem kayak dwifungsi deh jelas bakal ada, bekasan angkatan banyak di jabatan pemerintah, prab nyalon lagi, n lu enggak ada yang curigaan gt?</td>\n",
       "      <td>0</td>\n",
       "      <td>1</td>\n",
       "      <td>False Positive (FP)</td>\n",
       "    </tr>\n",
       "    <tr>\n",
       "      <th>979</th>\n",
       "      <td>indonesia bisa belajar terus diternakkan budaya yang sudah merusak sistem/ tata kelola di institusi yang culas n menjadi sampah rakyat. negara harus jelas dalam menerapkan efisiensi itu,efisiensi yang benar dilakukan oleh para perusak negara. #indonesiagelap</td>\n",
       "      <td>0</td>\n",
       "      <td>1</td>\n",
       "      <td>False Positive (FP)</td>\n",
       "    </tr>\n",
       "    <tr>\n",
       "      <th>983</th>\n",
       "      <td>terimakasih art raffle nya! semangat #tolakruutni #tolakrevisiuutni #tolakdwifungsiabri #peringatandarurat #indonesiagelap #artistbersuara</td>\n",
       "      <td>0</td>\n",
       "      <td>1</td>\n",
       "      <td>False Positive (FP)</td>\n",
       "    </tr>\n",
       "    <tr>\n",
       "      <th>987</th>\n",
       "      <td>mari kita gaungkan untuk meminta abitrase dari negara tetangga sebagai penengah #indonesiagelap</td>\n",
       "      <td>0</td>\n",
       "      <td>1</td>\n",
       "      <td>False Positive (FP)</td>\n",
       "    </tr>\n",
       "    <tr>\n",
       "      <th>988</th>\n",
       "      <td>indonesia gelap #tolakuutni #cabutruutni</td>\n",
       "      <td>0</td>\n",
       "      <td>1</td>\n",
       "      <td>False Positive (FP)</td>\n",
       "    </tr>\n",
       "    <tr>\n",
       "      <th>1025</th>\n",
       "      <td>belajar dari tetangga #tolakruutni #tolakrevisiuutni &lt;url&gt; .</td>\n",
       "      <td>0</td>\n",
       "      <td>1</td>\n",
       "      <td>False Positive (FP)</td>\n",
       "    </tr>\n",
       "    <tr>\n",
       "      <th>1057</th>\n",
       "      <td>kata guemah ini pemerintah mending fokus menikmati 10 ramadhan terakhir deh, enggak usah lu rapat rapat bahas ruu tni</td>\n",
       "      <td>0</td>\n",
       "      <td>1</td>\n",
       "      <td>False Positive (FP)</td>\n",
       "    </tr>\n",
       "    <tr>\n",
       "      <th>1091</th>\n",
       "      <td>pov : demo ruu tni : demo garai macet, demomu susahku, macet konvoi enggak jelas garai macet : enggak mbendino saja kok nyacat</td>\n",
       "      <td>0</td>\n",
       "      <td>1</td>\n",
       "      <td>False Positive (FP)</td>\n",
       "    </tr>\n",
       "    <tr>\n",
       "      <th>1097</th>\n",
       "      <td>daripada ngesahin ruu tni mendingan benerin tuh coretax.</td>\n",
       "      <td>0</td>\n",
       "      <td>1</td>\n",
       "      <td>False Positive (FP)</td>\n",
       "    </tr>\n",
       "    <tr>\n",
       "      <th>1117</th>\n",
       "      <td>kasus timah itu tidak ada bukti korupsinya, kenapa dijatuhkan pidana kasus korupsi.. bingung kita #indonesiagelap #kaburajadulu #ruukejaksaan #kasustimah #271</td>\n",
       "      <td>0</td>\n",
       "      <td>1</td>\n",
       "      <td>False Positive (FP)</td>\n",
       "    </tr>\n",
       "    <tr>\n",
       "      <th>1188</th>\n",
       "      <td>100 hari pemerintahan oke gas oke gas, sudah muncul lagi peringatan darurat, bagaimana nanti 100 hari nya, bubar kali indonesia ya #indonesiagelap</td>\n",
       "      <td>0</td>\n",
       "      <td>1</td>\n",
       "      <td>False Positive (FP)</td>\n",
       "    </tr>\n",
       "    <tr>\n",
       "      <th>1215</th>\n",
       "      <td>\"police brutality is evidence of state cruelty.\" #indonesiagelap</td>\n",
       "      <td>0</td>\n",
       "      <td>1</td>\n",
       "      <td>False Positive (FP)</td>\n",
       "    </tr>\n",
       "    <tr>\n",
       "      <th>1217</th>\n",
       "      <td>entah di manalah keberpihakan pada rakyat yang di gaungkan pak entar juga ada demonstrasi ujungnya batal. beliau hanya kalah samaarlet driven karena enggak mau citra baik nya rusak melainkan menjadi harum seolah dia berpihak. bahlul</td>\n",
       "      <td>0</td>\n",
       "      <td>1</td>\n",
       "      <td>False Positive (FP)</td>\n",
       "    </tr>\n",
       "    <tr>\n",
       "      <th>1225</th>\n",
       "      <td>guys, ada yang mau sharing paket eksklusif jadibumn ga? maks 3 org, soalnya aku butuh zoom eksklusif mereka aja, buat latsol dll, aku sudah beli paket lain #jadibumn #rbb2025 #tolakruupolri #tolakuutni #tolakdwifungsiabri</td>\n",
       "      <td>0</td>\n",
       "      <td>1</td>\n",
       "      <td>False Positive (FP)</td>\n",
       "    </tr>\n",
       "    <tr>\n",
       "      <th>1231</th>\n",
       "      <td>mereka kan enggak unjuk rasa yang mempengaruhi perang juga loh. bukan politik. jadi, apaan sih pakai narasi 'ga ada rasa kemanusiaan' berlebihan</td>\n",
       "      <td>0</td>\n",
       "      <td>1</td>\n",
       "      <td>False Positive (FP)</td>\n",
       "    </tr>\n",
       "    <tr>\n",
       "      <th>1238</th>\n",
       "      <td>kelompok radikal separatis papua merdeka pisah dari nkri, termasuk kelompok amp (aliansi mahasiswa papua), cara perjuangan separatisnya adalah dengan melalukan unjuk rasa (demonstrasi) sesering mungkin!</td>\n",
       "      <td>0</td>\n",
       "      <td>1</td>\n",
       "      <td>False Positive (FP)</td>\n",
       "    </tr>\n",
       "    <tr>\n",
       "      <th>1243</th>\n",
       "      <td>ini yang bikin media lain jadi takut dapat kiriman kepala babi juga, makanya unjuk rasa masyarakat dan kekerasan aparat sepi dari liputan media</td>\n",
       "      <td>0</td>\n",
       "      <td>1</td>\n",
       "      <td>False Positive (FP)</td>\n",
       "    </tr>\n",
       "    <tr>\n",
       "      <th>1248</th>\n",
       "      <td>polres buru lakukan pengamanan aksi unjuk rasa</td>\n",
       "      <td>0</td>\n",
       "      <td>1</td>\n",
       "      <td>False Positive (FP)</td>\n",
       "    </tr>\n",
       "    <tr>\n",
       "      <th>1259</th>\n",
       "      <td>1 fungsi saja ke becus, ini sok-sok dwifungsi</td>\n",
       "      <td>0</td>\n",
       "      <td>1</td>\n",
       "      <td>False Positive (FP)</td>\n",
       "    </tr>\n",
       "    <tr>\n",
       "      <th>1269</th>\n",
       "      <td>dolfie mengatakan uu hpp merupakan inisiatif pemerintah presiden ke-7 ri joko widodo yang disampaikan ke dpr tanggal 5 mei 2021. seluruh fraksi, ucapnya, saat itu setuju untuk melakukan pembahasan atas usul inisiatif pemerintah atas ruu hpp.</td>\n",
       "      <td>0</td>\n",
       "      <td>1</td>\n",
       "      <td>False Positive (FP)</td>\n",
       "    </tr>\n",
       "    <tr>\n",
       "      <th>1342</th>\n",
       "      <td>syukurlah.. #indonesiagelap #tolakpik2 #tolakpsnpik2</td>\n",
       "      <td>0</td>\n",
       "      <td>1</td>\n",
       "      <td>False Positive (FP)</td>\n",
       "    </tr>\n",
       "    <tr>\n",
       "      <th>1344</th>\n",
       "      <td>bajingan. #cabutruutni #tolakuutni</td>\n",
       "      <td>0</td>\n",
       "      <td>1</td>\n",
       "      <td>False Positive (FP)</td>\n",
       "    </tr>\n",
       "    <tr>\n",
       "      <th>1370</th>\n",
       "      <td>setelah mulyono jadi presiden norma hukum dan aturan konstitusi di 'kangkangi', rusak seluruh sendi2 kehidupan berbangsa dan bernegara #indonesiagelap</td>\n",
       "      <td>0</td>\n",
       "      <td>1</td>\n",
       "      <td>False Positive (FP)</td>\n",
       "    </tr>\n",
       "    <tr>\n",
       "      <th>1422</th>\n",
       "      <td>kira kira, hari sabtu minggu area malioboro jogja ada aksi #indonesiagelap indak ya?</td>\n",
       "      <td>0</td>\n",
       "      <td>1</td>\n",
       "      <td>False Positive (FP)</td>\n",
       "    </tr>\n",
       "    <tr>\n",
       "      <th>1431</th>\n",
       "      <td>gue baca seliweran buzzer bahas itu tuntuntan. seperti gue bilang ya buzzer laknat, enggak usah disetujui, mahasiswa akan diam jika ruu tni dibatalkan, sudah itu saja simple. buzzer 700 perak rela cebokin mereka yang ngebut ruu sembunyi sembunyi. sini gue bayarin 700 perak dooangmah</td>\n",
       "      <td>0</td>\n",
       "      <td>1</td>\n",
       "      <td>False Positive (FP)</td>\n",
       "    </tr>\n",
       "    <tr>\n",
       "      <th>1436</th>\n",
       "      <td>tt kawal #tolakrevisiuutni</td>\n",
       "      <td>0</td>\n",
       "      <td>1</td>\n",
       "      <td>False Positive (FP)</td>\n",
       "    </tr>\n",
       "    <tr>\n",
       "      <th>1474</th>\n",
       "      <td>we only have each other</td>\n",
       "      <td>0</td>\n",
       "      <td>1</td>\n",
       "      <td>False Positive (FP)</td>\n",
       "    </tr>\n",
       "    <tr>\n",
       "      <th>1495</th>\n",
       "      <td>semua akan yaoi pada waktunya #tolakruutni #smut #yaoikiss</td>\n",
       "      <td>0</td>\n",
       "      <td>1</td>\n",
       "      <td>False Positive (FP)</td>\n",
       "    </tr>\n",
       "    <tr>\n",
       "      <th>1497</th>\n",
       "      <td>menarik di simak &lt;url&gt; #indonesiagelap #tolakuutni #supremasisipil #mayday # ( • instagram photos and videos</td>\n",
       "      <td>0</td>\n",
       "      <td>1</td>\n",
       "      <td>False Positive (FP)</td>\n",
       "    </tr>\n",
       "    <tr>\n",
       "      <th>1498</th>\n",
       "      <td>11 indonesia gelap #cabutruutni #tolakruupolri</td>\n",
       "      <td>0</td>\n",
       "      <td>1</td>\n",
       "      <td>False Positive (FP)</td>\n",
       "    </tr>\n",
       "    <tr>\n",
       "      <th>1532</th>\n",
       "      <td>bro not gonna lie gue salty banget lihat teman-teman gue yang dulu bangga jadi 02 voters dan sekarang post tentang ruu tni but at the same time aku lega banget wkwk</td>\n",
       "      <td>0</td>\n",
       "      <td>1</td>\n",
       "      <td>False Positive (FP)</td>\n",
       "    </tr>\n",
       "    <tr>\n",
       "      <th>1544</th>\n",
       "      <td>kalau di tanya, pakai setting spray apa kak? jawabnya \"water canon\" wkwkwk #tolakruutni #cabutruutni</td>\n",
       "      <td>0</td>\n",
       "      <td>1</td>\n",
       "      <td>False Positive (FP)</td>\n",
       "    </tr>\n",
       "    <tr>\n",
       "      <th>1619</th>\n",
       "      <td>drafnya ditaha dulu ya</td>\n",
       "      <td>0</td>\n",
       "      <td>1</td>\n",
       "      <td>False Positive (FP)</td>\n",
       "    </tr>\n",
       "    <tr>\n",
       "      <th>1632</th>\n",
       "      <td>begini masih ada yang denial sama dwifungsi wkwkwkkw cape deh, yang bidangnya linear cuma jadi penonton sampai kapan coba kayak begini mulu</td>\n",
       "      <td>0</td>\n",
       "      <td>1</td>\n",
       "      <td>False Positive (FP)</td>\n",
       "    </tr>\n",
       "    <tr>\n",
       "      <th>1650</th>\n",
       "      <td>berfungsi saja kagak.. mau dwifungsi</td>\n",
       "      <td>0</td>\n",
       "      <td>1</td>\n",
       "      <td>False Positive (FP)</td>\n",
       "    </tr>\n",
       "    <tr>\n",
       "      <th>1654</th>\n",
       "      <td>wah sudah multifungsi, enggak pakai dwifungsi lagi</td>\n",
       "      <td>0</td>\n",
       "      <td>1</td>\n",
       "      <td>False Positive (FP)</td>\n",
       "    </tr>\n",
       "    <tr>\n",
       "      <th>1656</th>\n",
       "      <td>art raffle :3 reward: bust up dengan art style ini untuk 1 winner :3c rules: rep dengan hastag #tolakruutni #tolakrevisiuutni #peringatandarurat #indonesiagelap #tolakdwifungsiabri #tolakruupolri #tolakruukejaksaan end: 28 maret</td>\n",
       "      <td>0</td>\n",
       "      <td>1</td>\n",
       "      <td>False Positive (FP)</td>\n",
       "    </tr>\n",
       "    <tr>\n",
       "      <th>1701</th>\n",
       "      <td>hah?? edan anjir. ini kita cosplay isra*l apa bagaimana dh? #gagalkanuutni #cabutuutni #tolakuutni #tolakrevisiuutni #peringatandarurat #indonesiagelap #tolakdwifungsiabri #supremasisipil #tolakruupolri #tolakruukejaksaan</td>\n",
       "      <td>0</td>\n",
       "      <td>1</td>\n",
       "      <td>False Positive (FP)</td>\n",
       "    </tr>\n",
       "    <tr>\n",
       "      <th>1705</th>\n",
       "      <td>#tolakruutni</td>\n",
       "      <td>0</td>\n",
       "      <td>1</td>\n",
       "      <td>False Positive (FP)</td>\n",
       "    </tr>\n",
       "    <tr>\n",
       "      <th>1717</th>\n",
       "      <td>spirit ruu tni itu melanjutkan reformasi, bukan mengkhianatinya.</td>\n",
       "      <td>0</td>\n",
       "      <td>1</td>\n",
       "      <td>False Positive (FP)</td>\n",
       "    </tr>\n",
       "    <tr>\n",
       "      <th>1747</th>\n",
       "      <td>lo dan atau makhluk sejenisnya tuh bukan ditipu, tapi kalian tukang tipunya. enggak usah berlagak bego. mengaku saja sudah beda kontrak. (doksli perbuatan penyebaran hoax disinformasi mereka saat demonstrasi anti pelemahan kpk #reformasidikorupsi 2019)</td>\n",
       "      <td>0</td>\n",
       "      <td>1</td>\n",
       "      <td>False Positive (FP)</td>\n",
       "    </tr>\n",
       "    <tr>\n",
       "      <th>1774</th>\n",
       "      <td>#cabutruutni #tolakruutni #tolakrevisiuutni #indonesiagelap #tolakdwifungsitni terima kasih enggak sekaligus spread awareness-nya kak. mau yang blade plis (infokan po event/ mail order kalo berkenan, aku tau luck-ku ampas untuk giveaway beginian wkwk). semangat kakk!^^</td>\n",
       "      <td>0</td>\n",
       "      <td>1</td>\n",
       "      <td>False Positive (FP)</td>\n",
       "    </tr>\n",
       "    <tr>\n",
       "      <th>1809</th>\n",
       "      <td>ini gegara kemarin jadi pada berani demonstrasi</td>\n",
       "      <td>0</td>\n",
       "      <td>1</td>\n",
       "      <td>False Positive (FP)</td>\n",
       "    </tr>\n",
       "    <tr>\n",
       "      <th>1812</th>\n",
       "      <td>coba jelasin pemahaman lu tentang uu tni ini enggak ada sisi dwifungsi yang dimunculkan, bisa gak? gue tunggu</td>\n",
       "      <td>0</td>\n",
       "      <td>1</td>\n",
       "      <td>False Positive (FP)</td>\n",
       "    </tr>\n",
       "    <tr>\n",
       "      <th>1868</th>\n",
       "      <td>thanks for hosting the raffle kakk!! #cabutruutni #peringatandarurat #indonesiagelap #tolakruutni #tolakrevisiuutni #tolakdwifungsiabri #tolakruupolri</td>\n",
       "      <td>0</td>\n",
       "      <td>1</td>\n",
       "      <td>False Positive (FP)</td>\n",
       "    </tr>\n",
       "    <tr>\n",
       "      <th>1878</th>\n",
       "      <td>benaran #indonesiagelap ini yang dari kemarin hendarsam goblog coba plotkan untuk dijadikan pahlawan pembersih ꦩꦸꦂꦠꦝ</td>\n",
       "      <td>0</td>\n",
       "      <td>1</td>\n",
       "      <td>False Positive (FP)</td>\n",
       "    </tr>\n",
       "    <tr>\n",
       "      <th>1888</th>\n",
       "      <td>apa bisa bersih bersih? dan menegakkan hukum yang amanah dan berkeadilan untuk rakyat? jika semoga bisa. lahir dari rahim ketidakjujuran: prabowo, gibran, kaesang, dan bobby sebagai produk politik jokowi? &lt;url&gt; #indonesiagelapjilid2lahir dari rahim ketidakjujuran: prabowo, gibran, kaesang, dan b...</td>\n",
       "      <td>0</td>\n",
       "      <td>1</td>\n",
       "      <td>False Positive (FP)</td>\n",
       "    </tr>\n",
       "    <tr>\n",
       "      <th>1947</th>\n",
       "      <td>jancok kok isok mmpi prabski menjelaskn baikny dwifungsi tni cok bahkan mmpiku pun dibredel</td>\n",
       "      <td>0</td>\n",
       "      <td>1</td>\n",
       "      <td>False Positive (FP)</td>\n",
       "    </tr>\n",
       "    <tr>\n",
       "      <th>1962</th>\n",
       "      <td>ketua nya saja geng oslo dasar busuk kalian #indonesiagelap #terusberisik #lawanajadulu #daruratindonesia #revolusisampaiberhasil #tolakdanantara #shameonuprabowo #adilijokowihargamati #gibrankangsusu</td>\n",
       "      <td>0</td>\n",
       "      <td>1</td>\n",
       "      <td>False Positive (FP)</td>\n",
       "    </tr>\n",
       "    <tr>\n",
       "      <th>1991</th>\n",
       "      <td>oke. terus?? mending fokus buat aksi #indonesiagelap besok.</td>\n",
       "      <td>0</td>\n",
       "      <td>1</td>\n",
       "      <td>False Positive (FP)</td>\n",
       "    </tr>\n",
       "  </tbody>\n",
       "</table>\n",
       "</div>"
      ],
      "text/plain": [
       "                                                                                                                                                                                                                                                                                                             text  \\\n",
       "2                                                                                               di ruu kesehatan yang membahas tembakau golongan narkotika tega bgt, sampai mereka unjuk rasa di depan gedung jadi bisa di membedakan dan kita harus dukung wakil demi rakyat #tegaklurus #omnibuskesehatan <url>   \n",
       "5                                                                                                                                                                                                                                            setidaknya masih ada hiburan sewaktu indonesia bubar #indonesiagelap   \n",
       "15                                                                                                                                                                                                                                                                  itu kenapa dihadang sih? kan lagi unjuk rasa!   \n",
       "24                                                                                                                                                                                                                                                               teruslah bersuara! #sampaimenang #indonesiagelap   \n",
       "32                                                                                                                                                           lah wo yang bayar kan orang-orang lu, tiba-tiba ada kerumunan mendukung ruu tni sambil bagi-bagi makanan -,- berapa rate per aksi nya ? 75k ? 100k ?   \n",
       "55                                                                                                        memang tuntutan demo nya dari awal untuk evaluasi. justru salah satu poin tuntutan demo mahasiswa beberapa hari lalu itu juga untuk mendorong efisiensi yang tepat! yaitu efisiensi kabinet gemuk wowo.   \n",
       "71                                                                                                                                                                                                                                                                                       hah?? ruu tni disahkan??   \n",
       "89                                                     waspada provokasi #indonesiagelap narasi indonesia gelap hanyalah isu propaganda yang bertujuan untuk menyebarkan ketakutan. masa depan indonesia adalah milik mereka yang optimis. #indonesiaterang #waspadahaoksdanprovokasi #lawanhoaks #lawanprovokasi   \n",
       "90                                                                                                                                                                                                                                         ruu tni di sahkan untuk menutup kasus sekar,hmm. kawal terus sekar(at)   \n",
       "93                                                                                                   sering, waktu itu bahas bobroknya coretax, warna cat yang bagus buat lebaran, bagaimana cara duit tambahan, mengomongkan dwifungsi abri, harga rumah, kontrakan, proyeksi masa depan, dan masih banyak lagi.   \n",
       "131                                                                                                                                                                                                                                                             horizontal terus nih #tolakruutni bagaimana gess?   \n",
       "158                                                                            kalo benar kasus yang terjadi belakangan ini: - peliput kejadian (berita) kena pukul - tenaga medis kena tonjok - penyedia logistik nasibnya juga mirip parah banget ya? #cabutuutni #tolakruupolri #peringatandarurat #tolakuutni   \n",
       "178                                                                                                                                                                             susah memang debat sama kaum yang simpati sama kelompok anarko, menormalisasi vandalisme dan public disruption di tiap aksi demo.   \n",
       "182                                                                                                                                                                                          sebagai maklumat, semua poster buatanku bebas untuk diprint dan disebarluaskan!! lawan lawan lawan!! #indonesiagelap   \n",
       "190                                                                                                                                                                           #indonesiagelap protest ini wikipedia *in the news* section. keep itu up until indonesia democracy is winning! <url> #darkindonesia   \n",
       "215                                                                                                                                        hanya pion pionnya saja yang diamankan, sedangkan pemain kakapnya dibiarkan begitu saja #kejaksaan #indonesiagelap #presidenri #indonesia #dpr #mpr #tolakruukejaksaan   \n",
       "219                                                  terima kasih kepada teman-teman yang ikut meramaikan sg tentang ruu tni ini karena memang perlu guys kita manfaatkan rasa “fomo” gen saja and gen alpha biar jadi penasaran sama “isu apa sekarang” melihat banyaknya repost an dan akhirnya ikutan repost!!   \n",
       "254                                                                                                              \"perasaan real life gue aman2 aja\" your ass. mengomong begitu karena belum ngalamin. inituh efek jangka panjang ajg haruskah lu pada terkena efek ruu tni dulu baru melek dan enggak tone deaf?!   \n",
       "267                                                                                                                                                                                                                    sedang di seberang sedang baca tarot dan main abc 5 dasar #tolakrevisiuutni #tolakruupolri   \n",
       "280                                                                                                                                                                                                                                                    tidak ada itu namanya dwifungsi bro #sinergitasuntukbangsa   \n",
       "311                                                                                                                                                                                                                                                                        ruu tni wingi kae saiki piye ya kabare   \n",
       "316                                                                                                                                                                                                                               *faifiu kalau bukan dwifungsi* *literally dwifungsi* dumbest and dull argument.   \n",
       "363                                                                                                                                                                                                                   masih ada saja yang bilang dwifungsi enggak balik. bagaimana pak ? sudah persis orba belum?   \n",
       "446                                                                               : kemarin demo ruu tni menurut pendapat bapak gimana? : menurut saya indonesia adalah bangsa yang besar, dengan tinggi saya yang mencapai 177cm, saya yakin stecu stecu stecu, makanya 15 juta dibagi 200 hari kan 75 ribu dul.   \n",
       "469                                                                                                                                                                                                                                                                                    kayak begini mau dwifungsi   \n",
       "470                                                                                                                          menampak tilas sejarah, persatuan gerakan mahasiswa dan buruh (rakyat) terseru pada setiap jaman penindasan, melalui lembaran2 revolusi. #rakyatbiasa #lawanoligarki #indonesiagelap   \n",
       "483                                                                                              enggak mikir aparat tuh yaa, berisiko tinggi main tembak gas tuh. kagak mengerti pikirannya isinya apa #kawalputusanmk #tolakpilkadaasal2an #tolakpolitikdinasti #peringatandarurat #indonesiaemergencydemocracy   \n",
       "490                                                                                                                                                                                                                                                                             selamat datang kembali dwifungsi!   \n",
       "505                                                                                                                                                                                                                cuma bisa berdo'a untuk mereka yang sudah menyengsarakan rakyat agar bertobat. #indonesiagelap   \n",
       "528                                                                                                                                                                                                                        baru bangun tidur ruu tni sudah sah aja, bangsat memang lu pada yang pilih sih gembrot   \n",
       "537                                                                                                                                                                                         harusnya kalo ada dwifungsi abri, ada dwifungsi sipil. aku mau orang sipil boleh punya pistol dan boleh dibawa kmnmn.   \n",
       "563                                                                                                                                                                                                                                                                                                  #tolakruutni   \n",
       "566                                          ngantuk tapi mau mandi #tolakruupolri #tolakuutni #tolakruukejaksaan #gagalkanuutni #indonesiagelap #peringatandarurat #tolakdwifungsiabri #indonesiamakingelap #tnigelap #supremasisipiltetapterjaga #freepalestine #palestinegenocide #alleyesongaza #gazagenocide   \n",
       "597                                                                                                                                                                                                             snbp merah indonesia kalah liverpool kalah ferrari apalagi ruu tni sah sial banget hidup jadi wni   \n",
       "636                                                                slogan yang paling gua inget: no justice, no peace, f*ck the police #indonesiagelap #darkindonesia #indonesiagelap #darkindonesia #indonesiagelap #darkindonesia #indonesiagelap #darkindonesia #indonesiagelap #darkindonesia #indonesiagelap   \n",
       "670                                                                                                                                                                            thanks for the ga, kak!! aku mau caelus hehehehe :3 #cabutruutni #tolakruutni #tolakrevisiuutni #indonesiagelap #tolakdwifungsitni   \n",
       "695                                               chanel sepulang sekolah ngejelasin kenapa ruu tni di tolak pakai bahasa bayi, benaran gampang banget uu tni banyak ditolak? ada contoh negara-negara lain! banding saja ini mah :')follow koi on ig : <url> for watching!#learningbygoogling #koiyocabe #ruutni   \n",
       "717                                                                                                                                                                                                                                                maaf enggak update ruu tni di akun ini, karena akun aku banyak   \n",
       "721                                                                                                   demo mahasiswa dengan tajuk indonesia gelap sepertinya belum ada respon serius dari ndasnya endas. jangan putus asa suarakan terus hingga parah-parah ndas menya mengurus negara enggak bisa seenak ndasmu.   \n",
       "729                                                                                                                                                                                                                                                                    dwifungsi damkar jadi petrus kayaknya sabi   \n",
       "756                                                                                                                                                                                                                                                               rakyat mengkritik dwifungsi dianggap kampungan?   \n",
       "761   kasus perselingkuhan rk itu janggal banget gasi? kayak itu anak lahir sudah dari tahun 22, terus sih lc sudah punya anak kedua itu anak siapa dah? artinya dia sudah punya suami? terus kenapa tiba-tiba meminta hak anak ke rk, suaminya enggak sudi kalo menafkahi yang bukan anak kandungnya? anw #to...   \n",
       "796                                                                        setiap kebijakan yang diambil pasti ada tujuan, enggak tiba - tiba bikin ini dan itu, bedanya ada hal yang diluar kontrol mereka, seperti aksi demo, negara lain naikin tarif juga dll, tapi soal angka2 ekonomi mereka bisa atur itu.   \n",
       "818                                                                                              kalau demokrasi kita tidak berjalan, tidak mungkin anda jadi gubernur.!! kalau jokowi diktator, tidak mungkin anda jadi gubernur..!! piye, terbukti ora son?? #kawalkeputusanmk #ripdemokrasi #peringatandarurat   \n",
       "838                                                                                                                                                                                                           sudahlah hari ini ruu tni disahkan, timnas baru mulai sudah 3-0, apa digiveaway saja ya negara ini?   \n",
       "840                                                                                                                                                                                                    i shan't rant here but really the conditions lately is sok bad i hope the govt rot really. #indonesiagelap   \n",
       "864                                                             lawan! jangan lengah! batalkan bukan tunda! kawal sampai ketok palu! panjang umur perjuangan! hidup rakyat indonesia! #kawalputusanmk #menjagaputusanmk #tolakpilkadaakal2an #tolakpolitikdinasti #peringatandarurat #indonesiaemergencydemocracy   \n",
       "875                                                                                                                       lah terus mau lu gimana.. itu artinya demo itu organik aspirasi semua golongan elemen masyarakat dan terbantahkan kalo demonstrasi ini disusupi kekuatan asing dan dibiayai oleh bohir.   \n",
       "884                                                             1. apa hingga detik ini dia masih percaya kalau anak yang kritik menu mbak itu pea? 2. apa hingga detik ini dia masih percaya kalau statement dia terkait uu tni itu benar? dia benar-benar percaya kalau tni tidak akan dwifungsi karena uu tsb?   \n",
       "888                                                                                                                                                                                               dwifungsi aparat lagi, putusan ma, tapera, penyiaran, korupsi antam, ayok apalagi, aneh kalo enggak lengser mah   \n",
       "894                                                                                                                                                                sistem kayak dwifungsi deh jelas bakal ada, bekasan angkatan banyak di jabatan pemerintah, prab nyalon lagi, n lu enggak ada yang curigaan gt?   \n",
       "979                                            indonesia bisa belajar terus diternakkan budaya yang sudah merusak sistem/ tata kelola di institusi yang culas n menjadi sampah rakyat. negara harus jelas dalam menerapkan efisiensi itu,efisiensi yang benar dilakukan oleh para perusak negara. #indonesiagelap   \n",
       "983                                                                                                                                                                    terimakasih art raffle nya! semangat #tolakruutni #tolakrevisiuutni #tolakdwifungsiabri #peringatandarurat #indonesiagelap #artistbersuara   \n",
       "987                                                                                                                                                                                                               mari kita gaungkan untuk meminta abitrase dari negara tetangga sebagai penengah #indonesiagelap   \n",
       "988                                                                                                                                                                                                                                                                      indonesia gelap #tolakuutni #cabutruutni   \n",
       "1025                                                                                                                                                                                                                                                 belajar dari tetangga #tolakruutni #tolakrevisiuutni <url> .   \n",
       "1057                                                                                                                                                                                        kata guemah ini pemerintah mending fokus menikmati 10 ramadhan terakhir deh, enggak usah lu rapat rapat bahas ruu tni   \n",
       "1091                                                                                                                                                                               pov : demo ruu tni : demo garai macet, demomu susahku, macet konvoi enggak jelas garai macet : enggak mbendino saja kok nyacat   \n",
       "1097                                                                                                                                                                                                                                                     daripada ngesahin ruu tni mendingan benerin tuh coretax.   \n",
       "1117                                                                                                                                               kasus timah itu tidak ada bukti korupsinya, kenapa dijatuhkan pidana kasus korupsi.. bingung kita #indonesiagelap #kaburajadulu #ruukejaksaan #kasustimah #271   \n",
       "1188                                                                                                                                                           100 hari pemerintahan oke gas oke gas, sudah muncul lagi peringatan darurat, bagaimana nanti 100 hari nya, bubar kali indonesia ya #indonesiagelap   \n",
       "1215                                                                                                                                                                                                                                             \"police brutality is evidence of state cruelty.\" #indonesiagelap   \n",
       "1217                                                                     entah di manalah keberpihakan pada rakyat yang di gaungkan pak entar juga ada demonstrasi ujungnya batal. beliau hanya kalah samaarlet driven karena enggak mau citra baik nya rusak melainkan menjadi harum seolah dia berpihak. bahlul   \n",
       "1225                                                                                guys, ada yang mau sharing paket eksklusif jadibumn ga? maks 3 org, soalnya aku butuh zoom eksklusif mereka aja, buat latsol dll, aku sudah beli paket lain #jadibumn #rbb2025 #tolakruupolri #tolakuutni #tolakdwifungsiabri   \n",
       "1231                                                                                                                                                             mereka kan enggak unjuk rasa yang mempengaruhi perang juga loh. bukan politik. jadi, apaan sih pakai narasi 'ga ada rasa kemanusiaan' berlebihan   \n",
       "1238                                                                                                   kelompok radikal separatis papua merdeka pisah dari nkri, termasuk kelompok amp (aliansi mahasiswa papua), cara perjuangan separatisnya adalah dengan melalukan unjuk rasa (demonstrasi) sesering mungkin!   \n",
       "1243                                                                                                                                                              ini yang bikin media lain jadi takut dapat kiriman kepala babi juga, makanya unjuk rasa masyarakat dan kekerasan aparat sepi dari liputan media   \n",
       "1248                                                                                                                                                                                                                                                               polres buru lakukan pengamanan aksi unjuk rasa   \n",
       "1259                                                                                                                                                                                                                                                                1 fungsi saja ke becus, ini sok-sok dwifungsi   \n",
       "1269                                                            dolfie mengatakan uu hpp merupakan inisiatif pemerintah presiden ke-7 ri joko widodo yang disampaikan ke dpr tanggal 5 mei 2021. seluruh fraksi, ucapnya, saat itu setuju untuk melakukan pembahasan atas usul inisiatif pemerintah atas ruu hpp.   \n",
       "1342                                                                                                                                                                                                                                                         syukurlah.. #indonesiagelap #tolakpik2 #tolakpsnpik2   \n",
       "1344                                                                                                                                                                                                                                                                           bajingan. #cabutruutni #tolakuutni   \n",
       "1370                                                                                                                                                       setelah mulyono jadi presiden norma hukum dan aturan konstitusi di 'kangkangi', rusak seluruh sendi2 kehidupan berbangsa dan bernegara #indonesiagelap   \n",
       "1422                                                                                                                                                                                                                         kira kira, hari sabtu minggu area malioboro jogja ada aksi #indonesiagelap indak ya?   \n",
       "1431                  gue baca seliweran buzzer bahas itu tuntuntan. seperti gue bilang ya buzzer laknat, enggak usah disetujui, mahasiswa akan diam jika ruu tni dibatalkan, sudah itu saja simple. buzzer 700 perak rela cebokin mereka yang ngebut ruu sembunyi sembunyi. sini gue bayarin 700 perak dooangmah   \n",
       "1436                                                                                                                                                                                                                                                                                   tt kawal #tolakrevisiuutni   \n",
       "1474                                                                                                                                                                                                                                                                                      we only have each other   \n",
       "1495                                                                                                                                                                                                                                                   semua akan yaoi pada waktunya #tolakruutni #smut #yaoikiss   \n",
       "1497                                                                                                                                                                                                 menarik di simak <url> #indonesiagelap #tolakuutni #supremasisipil #mayday # ( • instagram photos and videos   \n",
       "1498                                                                                                                                                                                                                                                               11 indonesia gelap #cabutruutni #tolakruupolri   \n",
       "1532                                                                                                                                         bro not gonna lie gue salty banget lihat teman-teman gue yang dulu bangga jadi 02 voters dan sekarang post tentang ruu tni but at the same time aku lega banget wkwk   \n",
       "1544                                                                                                                                                                                                         kalau di tanya, pakai setting spray apa kak? jawabnya \"water canon\" wkwkwk #tolakruutni #cabutruutni   \n",
       "1619                                                                                                                                                                                                                                                                                       drafnya ditaha dulu ya   \n",
       "1632                                                                                                                                                                  begini masih ada yang denial sama dwifungsi wkwkwkkw cape deh, yang bidangnya linear cuma jadi penonton sampai kapan coba kayak begini mulu   \n",
       "1650                                                                                                                                                                                                                                                                         berfungsi saja kagak.. mau dwifungsi   \n",
       "1654                                                                                                                                                                                                                                                           wah sudah multifungsi, enggak pakai dwifungsi lagi   \n",
       "1656                                                                         art raffle :3 reward: bust up dengan art style ini untuk 1 winner :3c rules: rep dengan hastag #tolakruutni #tolakrevisiuutni #peringatandarurat #indonesiagelap #tolakdwifungsiabri #tolakruupolri #tolakruukejaksaan end: 28 maret   \n",
       "1701                                                                                hah?? edan anjir. ini kita cosplay isra*l apa bagaimana dh? #gagalkanuutni #cabutuutni #tolakuutni #tolakrevisiuutni #peringatandarurat #indonesiagelap #tolakdwifungsiabri #supremasisipil #tolakruupolri #tolakruukejaksaan   \n",
       "1705                                                                                                                                                                                                                                                                                                 #tolakruutni   \n",
       "1717                                                                                                                                                                                                                                             spirit ruu tni itu melanjutkan reformasi, bukan mengkhianatinya.   \n",
       "1747                                                 lo dan atau makhluk sejenisnya tuh bukan ditipu, tapi kalian tukang tipunya. enggak usah berlagak bego. mengaku saja sudah beda kontrak. (doksli perbuatan penyebaran hoax disinformasi mereka saat demonstrasi anti pelemahan kpk #reformasidikorupsi 2019)   \n",
       "1774                                #cabutruutni #tolakruutni #tolakrevisiuutni #indonesiagelap #tolakdwifungsitni terima kasih enggak sekaligus spread awareness-nya kak. mau yang blade plis (infokan po event/ mail order kalo berkenan, aku tau luck-ku ampas untuk giveaway beginian wkwk). semangat kakk!^^   \n",
       "1809                                                                                                                                                                                                                                                              ini gegara kemarin jadi pada berani demonstrasi   \n",
       "1812                                                                                                                                                                                                coba jelasin pemahaman lu tentang uu tni ini enggak ada sisi dwifungsi yang dimunculkan, bisa gak? gue tunggu   \n",
       "1868                                                                                                                                                       thanks for hosting the raffle kakk!! #cabutruutni #peringatandarurat #indonesiagelap #tolakruutni #tolakrevisiuutni #tolakdwifungsiabri #tolakruupolri   \n",
       "1878                                                                                                                                                                                         benaran #indonesiagelap ini yang dari kemarin hendarsam goblog coba plotkan untuk dijadikan pahlawan pembersih ꦩꦸꦂꦠꦝ   \n",
       "1888  apa bisa bersih bersih? dan menegakkan hukum yang amanah dan berkeadilan untuk rakyat? jika semoga bisa. lahir dari rahim ketidakjujuran: prabowo, gibran, kaesang, dan bobby sebagai produk politik jokowi? <url> #indonesiagelapjilid2lahir dari rahim ketidakjujuran: prabowo, gibran, kaesang, dan b...   \n",
       "1947                                                                                                                                                                                                                  jancok kok isok mmpi prabski menjelaskn baikny dwifungsi tni cok bahkan mmpiku pun dibredel   \n",
       "1962                                                                                                     ketua nya saja geng oslo dasar busuk kalian #indonesiagelap #terusberisik #lawanajadulu #daruratindonesia #revolusisampaiberhasil #tolakdanantara #shameonuprabowo #adilijokowihargamati #gibrankangsusu   \n",
       "1991                                                                                                                                                                                                                                                  oke. terus?? mending fokus buat aksi #indonesiagelap besok.   \n",
       "\n",
       "      true_label  predicted_label           error_type  \n",
       "2              0                1  False Positive (FP)  \n",
       "5              0                1  False Positive (FP)  \n",
       "15             0                1  False Positive (FP)  \n",
       "24             0                1  False Positive (FP)  \n",
       "32             0                1  False Positive (FP)  \n",
       "55             0                1  False Positive (FP)  \n",
       "71             0                1  False Positive (FP)  \n",
       "89             0                1  False Positive (FP)  \n",
       "90             0                1  False Positive (FP)  \n",
       "93             0                1  False Positive (FP)  \n",
       "131            0                1  False Positive (FP)  \n",
       "158            0                1  False Positive (FP)  \n",
       "178            0                1  False Positive (FP)  \n",
       "182            0                1  False Positive (FP)  \n",
       "190            0                1  False Positive (FP)  \n",
       "215            0                1  False Positive (FP)  \n",
       "219            0                1  False Positive (FP)  \n",
       "254            0                1  False Positive (FP)  \n",
       "267            0                1  False Positive (FP)  \n",
       "280            0                1  False Positive (FP)  \n",
       "311            0                1  False Positive (FP)  \n",
       "316            0                1  False Positive (FP)  \n",
       "363            0                1  False Positive (FP)  \n",
       "446            0                1  False Positive (FP)  \n",
       "469            0                1  False Positive (FP)  \n",
       "470            0                1  False Positive (FP)  \n",
       "483            0                1  False Positive (FP)  \n",
       "490            0                1  False Positive (FP)  \n",
       "505            0                1  False Positive (FP)  \n",
       "528            0                1  False Positive (FP)  \n",
       "537            0                1  False Positive (FP)  \n",
       "563            0                1  False Positive (FP)  \n",
       "566            0                1  False Positive (FP)  \n",
       "597            0                1  False Positive (FP)  \n",
       "636            0                1  False Positive (FP)  \n",
       "670            0                1  False Positive (FP)  \n",
       "695            0                1  False Positive (FP)  \n",
       "717            0                1  False Positive (FP)  \n",
       "721            0                1  False Positive (FP)  \n",
       "729            0                1  False Positive (FP)  \n",
       "756            0                1  False Positive (FP)  \n",
       "761            0                1  False Positive (FP)  \n",
       "796            0                1  False Positive (FP)  \n",
       "818            0                1  False Positive (FP)  \n",
       "838            0                1  False Positive (FP)  \n",
       "840            0                1  False Positive (FP)  \n",
       "864            0                1  False Positive (FP)  \n",
       "875            0                1  False Positive (FP)  \n",
       "884            0                1  False Positive (FP)  \n",
       "888            0                1  False Positive (FP)  \n",
       "894            0                1  False Positive (FP)  \n",
       "979            0                1  False Positive (FP)  \n",
       "983            0                1  False Positive (FP)  \n",
       "987            0                1  False Positive (FP)  \n",
       "988            0                1  False Positive (FP)  \n",
       "1025           0                1  False Positive (FP)  \n",
       "1057           0                1  False Positive (FP)  \n",
       "1091           0                1  False Positive (FP)  \n",
       "1097           0                1  False Positive (FP)  \n",
       "1117           0                1  False Positive (FP)  \n",
       "1188           0                1  False Positive (FP)  \n",
       "1215           0                1  False Positive (FP)  \n",
       "1217           0                1  False Positive (FP)  \n",
       "1225           0                1  False Positive (FP)  \n",
       "1231           0                1  False Positive (FP)  \n",
       "1238           0                1  False Positive (FP)  \n",
       "1243           0                1  False Positive (FP)  \n",
       "1248           0                1  False Positive (FP)  \n",
       "1259           0                1  False Positive (FP)  \n",
       "1269           0                1  False Positive (FP)  \n",
       "1342           0                1  False Positive (FP)  \n",
       "1344           0                1  False Positive (FP)  \n",
       "1370           0                1  False Positive (FP)  \n",
       "1422           0                1  False Positive (FP)  \n",
       "1431           0                1  False Positive (FP)  \n",
       "1436           0                1  False Positive (FP)  \n",
       "1474           0                1  False Positive (FP)  \n",
       "1495           0                1  False Positive (FP)  \n",
       "1497           0                1  False Positive (FP)  \n",
       "1498           0                1  False Positive (FP)  \n",
       "1532           0                1  False Positive (FP)  \n",
       "1544           0                1  False Positive (FP)  \n",
       "1619           0                1  False Positive (FP)  \n",
       "1632           0                1  False Positive (FP)  \n",
       "1650           0                1  False Positive (FP)  \n",
       "1654           0                1  False Positive (FP)  \n",
       "1656           0                1  False Positive (FP)  \n",
       "1701           0                1  False Positive (FP)  \n",
       "1705           0                1  False Positive (FP)  \n",
       "1717           0                1  False Positive (FP)  \n",
       "1747           0                1  False Positive (FP)  \n",
       "1774           0                1  False Positive (FP)  \n",
       "1809           0                1  False Positive (FP)  \n",
       "1812           0                1  False Positive (FP)  \n",
       "1868           0                1  False Positive (FP)  \n",
       "1878           0                1  False Positive (FP)  \n",
       "1888           0                1  False Positive (FP)  \n",
       "1947           0                1  False Positive (FP)  \n",
       "1962           0                1  False Positive (FP)  \n",
       "1991           0                1  False Positive (FP)  "
      ]
     },
     "metadata": {},
     "output_type": "display_data"
    },
    {
     "name": "stdout",
     "output_type": "stream",
     "text": [
      "\n",
      "--- 🔵 FALSE NEGATIVES (Model said 'Not Relevant', but was 'Relevant') ---\n"
     ]
    },
    {
     "data": {
      "text/html": [
       "<div>\n",
       "<style scoped>\n",
       "    .dataframe tbody tr th:only-of-type {\n",
       "        vertical-align: middle;\n",
       "    }\n",
       "\n",
       "    .dataframe tbody tr th {\n",
       "        vertical-align: top;\n",
       "    }\n",
       "\n",
       "    .dataframe thead th {\n",
       "        text-align: right;\n",
       "    }\n",
       "</style>\n",
       "<table border=\"1\" class=\"dataframe\">\n",
       "  <thead>\n",
       "    <tr style=\"text-align: right;\">\n",
       "      <th></th>\n",
       "      <th>text</th>\n",
       "      <th>true_label</th>\n",
       "      <th>predicted_label</th>\n",
       "      <th>error_type</th>\n",
       "    </tr>\n",
       "  </thead>\n",
       "  <tbody>\n",
       "    <tr>\n",
       "      <th>17</th>\n",
       "      <td>perjuangan belum selesai #adilijokowi #indonesiagelap #peringatandarurat</td>\n",
       "      <td>1</td>\n",
       "      <td>0</td>\n",
       "      <td>False Negative (FN)</td>\n",
       "    </tr>\n",
       "    <tr>\n",
       "      <th>18</th>\n",
       "      <td>apanya yang memperbaiki citra institusi #indonesiagelap #kamibersamasukatani &lt;url&gt; .</td>\n",
       "      <td>1</td>\n",
       "      <td>0</td>\n",
       "      <td>False Negative (FN)</td>\n",
       "    </tr>\n",
       "    <tr>\n",
       "      <th>43</th>\n",
       "      <td>buat kalian yang turun aksi besok, stay safe ya. semoga semuanya dilancarkan dan aman terkendali! #kawalputusanmk #peringatandarurat #prayforindonesia</td>\n",
       "      <td>1</td>\n",
       "      <td>0</td>\n",
       "      <td>False Negative (FN)</td>\n",
       "    </tr>\n",
       "    <tr>\n",
       "      <th>62</th>\n",
       "      <td>al dwifungsi? au sama ada enggak diajak?</td>\n",
       "      <td>1</td>\n",
       "      <td>0</td>\n",
       "      <td>False Negative (FN)</td>\n",
       "    </tr>\n",
       "    <tr>\n",
       "      <th>72</th>\n",
       "      <td>#kawanrupawan #presenter #cantik terlihat #menawan untuk suatu acara. #zackiarfan #rupawan #cabutuutni #turunkanprabowo #adilijokowi #indonesiagelap # arfan</td>\n",
       "      <td>1</td>\n",
       "      <td>0</td>\n",
       "      <td>False Negative (FN)</td>\n",
       "    </tr>\n",
       "    <tr>\n",
       "      <th>...</th>\n",
       "      <td>...</td>\n",
       "      <td>...</td>\n",
       "      <td>...</td>\n",
       "      <td>...</td>\n",
       "    </tr>\n",
       "    <tr>\n",
       "      <th>1898</th>\n",
       "      <td>#indonesiagelap credit tapi owner</td>\n",
       "      <td>1</td>\n",
       "      <td>0</td>\n",
       "      <td>False Negative (FN)</td>\n",
       "    </tr>\n",
       "    <tr>\n",
       "      <th>1935</th>\n",
       "      <td>kapolsek lengkong pimpin apel pengamanan aksi unjuk rasa di kantor bawaslu jabar</td>\n",
       "      <td>1</td>\n",
       "      <td>0</td>\n",
       "      <td>False Negative (FN)</td>\n",
       "    </tr>\n",
       "    <tr>\n",
       "      <th>1954</th>\n",
       "      <td>kombes pol sugianto marweki pimpin apel pagi: persiapan pengamanan unjuk rasa mengenang lima tahun peristiwa september berdarah #brimobuntukindonesia #brimob_id #poldasultra</td>\n",
       "      <td>1</td>\n",
       "      <td>0</td>\n",
       "      <td>False Negative (FN)</td>\n",
       "    </tr>\n",
       "    <tr>\n",
       "      <th>1957</th>\n",
       "      <td>ya ampun. we’re sok back tapi 90’s dictatorship guys. #indonesiagelap</td>\n",
       "      <td>1</td>\n",
       "      <td>0</td>\n",
       "      <td>False Negative (FN)</td>\n",
       "    </tr>\n",
       "    <tr>\n",
       "      <th>1972</th>\n",
       "      <td>prof dilatih oleh pm masa itu yang ada adab. adab untuk berusaha n berjuang ketika susah. generasi hari ini, diajar oleh untuk berdemo. bermula dizaman um, demonstrasi cari kesalahan adalah adabny. jadi kerajaan sekarang pun adabnya menyalahkan perlu dalam isu kos sara hidupcuba tanya orang tua ...</td>\n",
       "      <td>1</td>\n",
       "      <td>0</td>\n",
       "      <td>False Negative (FN)</td>\n",
       "    </tr>\n",
       "  </tbody>\n",
       "</table>\n",
       "<p>134 rows × 4 columns</p>\n",
       "</div>"
      ],
      "text/plain": [
       "                                                                                                                                                                                                                                                                                                             text  \\\n",
       "17                                                                                                                                                                                                                                       perjuangan belum selesai #adilijokowi #indonesiagelap #peringatandarurat   \n",
       "18                                                                                                                                                                                                                           apanya yang memperbaiki citra institusi #indonesiagelap #kamibersamasukatani <url> .   \n",
       "43                                                                                                                                                         buat kalian yang turun aksi besok, stay safe ya. semoga semuanya dilancarkan dan aman terkendali! #kawalputusanmk #peringatandarurat #prayforindonesia   \n",
       "62                                                                                                                                                                                                                                                                       al dwifungsi? au sama ada enggak diajak?   \n",
       "72                                                                                                                                                   #kawanrupawan #presenter #cantik terlihat #menawan untuk suatu acara. #zackiarfan #rupawan #cabutuutni #turunkanprabowo #adilijokowi #indonesiagelap # arfan   \n",
       "...                                                                                                                                                                                                                                                                                                           ...   \n",
       "1898                                                                                                                                                                                                                                                                            #indonesiagelap credit tapi owner   \n",
       "1935                                                                                                                                                                                                                             kapolsek lengkong pimpin apel pengamanan aksi unjuk rasa di kantor bawaslu jabar   \n",
       "1954                                                                                                                                kombes pol sugianto marweki pimpin apel pagi: persiapan pengamanan unjuk rasa mengenang lima tahun peristiwa september berdarah #brimobuntukindonesia #brimob_id #poldasultra   \n",
       "1957                                                                                                                                                                                                                                        ya ampun. we’re sok back tapi 90’s dictatorship guys. #indonesiagelap   \n",
       "1972  prof dilatih oleh pm masa itu yang ada adab. adab untuk berusaha n berjuang ketika susah. generasi hari ini, diajar oleh untuk berdemo. bermula dizaman um, demonstrasi cari kesalahan adalah adabny. jadi kerajaan sekarang pun adabnya menyalahkan perlu dalam isu kos sara hidupcuba tanya orang tua ...   \n",
       "\n",
       "      true_label  predicted_label           error_type  \n",
       "17             1                0  False Negative (FN)  \n",
       "18             1                0  False Negative (FN)  \n",
       "43             1                0  False Negative (FN)  \n",
       "62             1                0  False Negative (FN)  \n",
       "72             1                0  False Negative (FN)  \n",
       "...          ...              ...                  ...  \n",
       "1898           1                0  False Negative (FN)  \n",
       "1935           1                0  False Negative (FN)  \n",
       "1954           1                0  False Negative (FN)  \n",
       "1957           1                0  False Negative (FN)  \n",
       "1972           1                0  False Negative (FN)  \n",
       "\n",
       "[134 rows x 4 columns]"
      ]
     },
     "metadata": {},
     "output_type": "display_data"
    }
   ],
   "source": [
    "import pandas as pd\n",
    "import numpy as np\n",
    "import torch\n",
    "from transformers import Trainer, TrainingArguments\n",
    "from IPython.display import display, HTML\n",
    "\n",
    "# We don't need a full training setup, just a place to output predictions.\n",
    "# This creates a dummy TrainingArguments object.\n",
    "training_args = TrainingArguments(\n",
    "    output_dir=\"./temp_trainer_results\",\n",
    "    per_device_eval_batch_size=64, # Use a large batch size for fast eval\n",
    ")\n",
    "\n",
    "# Initialize the Trainer\n",
    "trainer = Trainer(\n",
    "    model=model,\n",
    "    args=training_args,\n",
    ")\n",
    "\n",
    "print(\"Running predictions on test_ds...\")\n",
    "\n",
    "# --- 2. Run Predictions ---\n",
    "# The .predict() method runs inference on test_ds and returns a PredictionOutput object\n",
    "prediction_output = trainer.predict(encoded_test_ds)\n",
    "\n",
    "print(\"Predictions complete.\")\n",
    "\n",
    "# The predictions are logits (raw model scores). We need the class index (0 or 1).\n",
    "predicted_labels = np.argmax(prediction_output.predictions, axis=-1)\n",
    "\n",
    "# The true labels are also in the output, just to be safe\n",
    "true_labels = prediction_output.label_ids\n",
    "\n",
    "# --- 3. Create DataFrame for Review ---\n",
    "\n",
    "# Get the original text from the dataset\n",
    "# This is why your test_ds *must* have the 'text' column\n",
    "try:\n",
    "    original_texts = encoded_test_ds['text']\n",
    "except KeyError:\n",
    "    print(\"=\"*50)\n",
    "    print(\"ERROR: Your 'test_ds' does not have a 'text' column.\")\n",
    "    print(\"Please reload your dataset without removing the 'text' column.\")\n",
    "    print(\"=\"*50)\n",
    "    # Stop execution if the text column is missing\n",
    "    raise\n",
    "\n",
    "# Create the main DataFrame\n",
    "df = pd.DataFrame({\n",
    "    'text': original_texts,\n",
    "    'true_label': true_labels,\n",
    "    'predicted_label': predicted_labels\n",
    "})\n",
    "\n",
    "# --- 4. Isolate and Categorize Errors ---\n",
    "\n",
    "# Filter to get only the rows where the model was wrong\n",
    "errors_df = df[df['true_label'] != df['predicted_label']].copy()\n",
    "\n",
    "# Add a new column to categorize the error type\n",
    "def get_error_type(row):\n",
    "    if row['true_label'] == 0 and row['predicted_label'] == 1:\n",
    "        # Model predicted 1 (Relevant), but it was 0 (Not Relevant)\n",
    "        return 'False Positive (FP)'\n",
    "    elif row['true_label'] == 1 and row['predicted_label'] == 0:\n",
    "        # Model predicted 0 (Not Relevant), but it was 1 (Relevant)\n",
    "        return 'False Negative (FN)'\n",
    "\n",
    "errors_df['error_type'] = errors_df.apply(get_error_type, axis=1)\n",
    "\n",
    "print(f\"\\nFound {len(errors_df)} misclassified samples out of {len(df)} total.\")\n",
    "\n",
    "# --- 5. Display the Wrong Answers for Review ---\n",
    "\n",
    "# Set pandas display options for better text viewing in the notebook\n",
    "pd.set_option('display.max_colwidth', 300) # Show more text\n",
    "pd.set_option('display.max_rows', 100)     # Show more rows\n",
    "\n",
    "print(\"\\n--- 🔴 FALSE POSITIVES (Model said 'Relevant', but was 'Not Relevant') ---\")\n",
    "display(errors_df[errors_df['error_type'] == 'False Positive (FP)'])\n",
    "\n",
    "print(\"\\n--- 🔵 FALSE NEGATIVES (Model said 'Not Relevant', but was 'Relevant') ---\")\n",
    "display(errors_df[errors_df['error_type'] == 'False Negative (FN)'])"
   ]
  },
  {
   "cell_type": "code",
   "execution_count": 14,
   "id": "de17ff5c",
   "metadata": {},
   "outputs": [],
   "source": [
    "def calculate_weighted_metrics(eval_metrics):\n",
    "    \"\"\"\n",
    "    Calculates the weighted-average F1, precision, and recall\n",
    "    from a Hugging Face eval metrics dictionary.\n",
    "    \"\"\"\n",
    "    \n",
    "    # --- Get F1 and Support ---\n",
    "    f1_false = eval_metrics.get('eval_False_f1')\n",
    "    support_false = eval_metrics.get('eval_False_support')\n",
    "    f1_true = eval_metrics.get('eval_True_f1')\n",
    "    support_true = eval_metrics.get('eval_True_support')\n",
    "    \n",
    "    # --- Get Precision ---\n",
    "    precision_false = eval_metrics.get('eval_False_precision')\n",
    "    precision_true = eval_metrics.get('eval_True_precision')\n",
    "    \n",
    "    # --- Get Recall ---\n",
    "    recall_false = eval_metrics.get('eval_False_recall')\n",
    "    recall_true = eval_metrics.get('eval_True_recall')\n",
    "\n",
    "    # Check that we have the minimum required keys\n",
    "    if None in [f1_false, support_false, f1_true, support_true]:\n",
    "        print(\"Error: Missing required keys for F1/support.\")\n",
    "        return {}\n",
    "\n",
    "    # --- Calculate Total Support ---\n",
    "    total_support = support_false + support_true\n",
    "    if total_support == 0:\n",
    "        print(\"Error: Total support is zero.\")\n",
    "        return {}\n",
    "\n",
    "    # --- Calculate Weighted Averages ---\n",
    "    weighted_f1 = ( (f1_false * support_false) + (f1_true * support_true) ) / total_support\n",
    "    \n",
    "    weighted_precision = ( (precision_false * support_false) + (precision_true * support_true) ) / total_support\n",
    "    \n",
    "    weighted_recall = ( (recall_false * support_false) + (recall_true * support_true) ) / total_support\n",
    "\n",
    "    return {\n",
    "        \"weighted_f1\": weighted_f1,\n",
    "        \"weighted_precision\": weighted_precision,\n",
    "        \"weighted_recall\": weighted_recall,\n",
    "        \"total_support\": total_support\n",
    "    }"
   ]
  },
  {
   "cell_type": "code",
   "execution_count": 15,
   "id": "ef6b1f02",
   "metadata": {},
   "outputs": [
    {
     "name": "stdout",
     "output_type": "stream",
     "text": [
      "{'weighted_f1': 0.8831581153878554, 'weighted_precision': 0.8838883617584168, 'weighted_recall': 0.8829414707353677, 'total_support': 1999}\n",
      "{'eval_loss': 0.2805786430835724, 'eval_accuracy': 0.8829414707353677, 'eval_macro_f1': 0.8815715119034598, 'eval_macro_precision': 0.8804210696298987, 'eval_macro_recall': 0.8832486019318759, 'eval_False_precision': 0.8525852585258525, 'eval_False_recall': 0.8857142857142857, 'eval_False_f1': 0.8688340807174888, 'eval_False_support': 875, 'eval_True_precision': 0.908256880733945, 'eval_True_recall': 0.8807829181494662, 'eval_True_f1': 0.8943089430894309, 'eval_True_support': 1124, 'eval_runtime': 0.8375, 'eval_samples_per_second': 2386.857, 'eval_steps_per_second': 9.552, 'epoch': 8.0}\n"
     ]
    }
   ],
   "source": [
    "print(calculate_weighted_metrics(results))\n",
    "print(results)"
   ]
  },
  {
   "cell_type": "code",
   "execution_count": 16,
   "id": "ff9b5df7",
   "metadata": {},
   "outputs": [
    {
     "name": "stdout",
     "output_type": "stream",
     "text": [
      "Starting prediction on 201583 texts in batches of 32...\n"
     ]
    },
    {
     "name": "stderr",
     "output_type": "stream",
     "text": [
      "100%|██████████| 6300/6300 [01:13<00:00, 85.14it/s]\n"
     ]
    },
    {
     "name": "stdout",
     "output_type": "stream",
     "text": [
      "Prediction complete.\n",
      "                                                                                                                                                                                                                                                            text  \\\n",
      "0                                          tokoh nu dan islam moderat cak menyentil kinerja kejaksaan. munkin kejaksaan kudu membuktikan kasus pertamina berjalan seperti yang awal digembor2kan, bukan cuma sekedar cari simpati aja! #tolakruutni #cabutruutni   \n",
      "1                                                                                                                                                                                                                       kembalikan tentara ke barak #tolakruutni   \n",
      "2                                                                                               inilah kenapa instansi yang memperbolehkan penggunaan senjata api itu tidak boleh dicampur adukan dengan ranah sipil #tolakruutni #tolakruupolri #supremasisipil   \n",
      "3                                   amazing elephants group - massai mara national park - kenya - مجموعة رائعة من الأفيال - محمية مساي مارا - كينيا - #tolakruutni #espressolab #notebook0616 #beckysangels #素のまんま #lacasadellosfamososcol #parogeneral #보이넥스트도어   \n",
      "4                                                                                                                                                                                                            masih enggak menyangka suamiku tentara #tolakruutni   \n",
      "...                                                                                                                                                                                                                                                          ...   \n",
      "201578                                                           personil sat samapta polres metro bekasi melaksanakan kegiatan pengamanan aksi unjuk rasa departemen pembela rakyat (dpr) ke pemkab bekasi desa sukamahi cikarang pusat kabupaten bekasi. <url>   \n",
      "201579                                                                                                                                                                                                                   besuk anda yang bakal di demo mahasiswa   \n",
      "201580                                 kapolres cimahi akbp aldi subartono,s.h.,s.i.k.,m.h.,cphr pimpin kegiatan pengamanan aksi unjuk rasa koalisi 5 sp/ sb kab. bandung barat ke pemda bandung barat dan dprd kab. bandung barat, kamis (15/6/2023). . . <url>   \n",
      "201581  karena anjing gue gede, dan waktu itu ada empat, petugas jagalnya juga takut. qurban dipindah ke musholla. tapi ternyata gagal dan mereka demonstrasi, intimidatif. dua german shepard raksasa dan satu golden 36kg. plus lemon mobilisasi sosial media.   \n",
      "201582                      1976: #sowetouprising dimulai di soweto, afrika selatan. demonstrasi siswa anti-apartheid yang berkembang menjadi kerusuhan massal dan menghasilkan kekerasan serta represi yang berkepanjangan oleh pemerintah #apartheid. #sejarah   \n",
      "\n",
      "        predicted_label  confidence  prob_False  prob_True  \n",
      "0                  True    0.924073    0.075927   0.924073  \n",
      "1                  True    0.984561    0.015439   0.984561  \n",
      "2                  True    0.992510    0.007490   0.992510  \n",
      "3                 False    0.925769    0.925769   0.074231  \n",
      "4                  True    0.968111    0.031889   0.968111  \n",
      "...                 ...         ...         ...        ...  \n",
      "201578            False    0.868437    0.868437   0.131563  \n",
      "201579             True    0.616734    0.383266   0.616734  \n",
      "201580            False    0.959269    0.959269   0.040731  \n",
      "201581            False    0.979726    0.979726   0.020274  \n",
      "201582            False    0.984782    0.984782   0.015218  \n",
      "\n",
      "[201583 rows x 5 columns]\n"
     ]
    }
   ],
   "source": [
    "from transformers import AutoTokenizer, AutoModelForSequenceClassification\n",
    "import torch\n",
    "from scipy.special import softmax # Or use torch.nn.functional.softmax\n",
    "import numpy as np\n",
    "import pandas as pd\n",
    "from tqdm import tqdm\n",
    "model.eval()     # Put model in evaluation mode (turns off dropout)\n",
    "\n",
    "# 3. Prepare your new data\n",
    "new_texts = ds[\"cleaned\"][\"content\"]\n",
    "\n",
    "batch_size = 32  # <-- Adjust this based on your GPU memory. Try 16, 32, or 64.\n",
    "\n",
    "# --- 5. NEW: Batch Prediction Loop ---\n",
    "all_probabilities = []\n",
    "all_predicted_indices = []\n",
    "\n",
    "print(f\"Starting prediction on {len(new_texts)} texts in batches of {batch_size}...\")\n",
    "\n",
    "# Use torch.no_grad() for the whole loop\n",
    "with torch.no_grad():\n",
    "    # Loop over the new_texts in chunks\n",
    "    for i in tqdm(range(0, len(new_texts), batch_size)):\n",
    "        \n",
    "        # Get the current batch of texts\n",
    "        batch_texts = new_texts[i : i + batch_size]\n",
    "        \n",
    "        # Tokenize the batch\n",
    "        inputs = tokenizer(\n",
    "            batch_texts, \n",
    "            padding=True,       # Pad to the longest text *in this batch*\n",
    "            truncation=True,    # Truncate to model's max length\n",
    "            max_length=512,     # Explicitly set max length\n",
    "            return_tensors=\"pt\"\n",
    "        )\n",
    "        \n",
    "        # Move batch to GPU\n",
    "        inputs = {k: v.to(device) for k, v in inputs.items()}\n",
    "        \n",
    "        # Run inference\n",
    "        outputs = model(**inputs)\n",
    "        \n",
    "        # Get logits and convert to probabilities\n",
    "        logits = outputs.logits\n",
    "        probabilities = softmax(logits.cpu().numpy(), axis=1)\n",
    "        \n",
    "        # Get predicted indices\n",
    "        predicted_indices = np.argmax(probabilities, axis=1)\n",
    "        \n",
    "        # Store results\n",
    "        all_probabilities.append(probabilities)\n",
    "        all_predicted_indices.append(predicted_indices)\n",
    "\n",
    "print(\"Prediction complete.\")\n",
    "\n",
    "# --- 6. Consolidate Results ---\n",
    "# Combine the results from all batches\n",
    "all_probabilities = np.concatenate(all_probabilities, axis=0)\n",
    "all_predicted_indices = np.concatenate(all_predicted_indices, axis=0)\n",
    "\n",
    "# --- 7. Package into DataFrame ---\n",
    "results_data = []\n",
    "for i in range(len(new_texts)):\n",
    "    results_data.append({\n",
    "        'text': new_texts[i],\n",
    "        'predicted_label': class_labels.names[all_predicted_indices[i]],\n",
    "        'confidence': all_probabilities[i].max(),\n",
    "        'prob_False': all_probabilities[i][0],\n",
    "        'prob_True': all_probabilities[i][1]\n",
    "    })\n",
    "\n",
    "df = pd.DataFrame(results_data)\n",
    "print(df)"
   ]
  },
  {
   "cell_type": "code",
   "execution_count": 17,
   "id": "6830114f",
   "metadata": {},
   "outputs": [
    {
     "name": "stdout",
     "output_type": "stream",
     "text": [
      "Starting to update 'related' column...\n"
     ]
    },
    {
     "data": {
      "application/vnd.jupyter.widget-view+json": {
       "model_id": "b4ce533a554b4234b3266e2dbcc099d1",
       "version_major": 2,
       "version_minor": 0
      },
      "text/plain": [
       "Map:   0%|          | 0/201583 [00:00<?, ? examples/s]"
      ]
     },
     "metadata": {},
     "output_type": "display_data"
    },
    {
     "name": "stdout",
     "output_type": "stream",
     "text": [
      "Column updated successfully!\n",
      "Dataset({\n",
      "    features: ['tweet_id', 'time', 'author', 'content', 'comment_count', 'repost_count', 'like_count', 'view_count', 'related', 'confidence'],\n",
      "    num_rows: 201583\n",
      "})\n",
      "{'tweet_id': '1913036803143335954', 'time': '2025-04-18T01:08:11', 'author': '@hutanaksara', 'content': 'beberapa zine yang akan saya bawa saat melapak nanti #tolakruutni #supremasisipil', 'comment_count': 0, 'repost_count': 0, 'like_count': 2, 'view_count': 290, 'related': True, 'confidence': None}\n"
     ]
    }
   ],
   "source": [
    "cleaned_ds = ds[\"cleaned\"]\n",
    "predictions_list = df[\"predicted_label\"].tolist()\n",
    "# 3. Define the function that .map() will run on each row\n",
    "def update_row(example, idx):\n",
    "    \"\"\"\n",
    "    Takes a single row (example) and its index (idx).\n",
    "    It replaces the value in 'related' with the new prediction.\n",
    "    \"\"\"\n",
    "    example['related'] = predictions_list[idx]\n",
    "    return example\n",
    "\n",
    "# 4. Apply the function to the entire dataset\n",
    "# .map() returns a new dataset, so we must re-assign it\n",
    "print(\"Starting to update 'related' column...\")\n",
    "cleaned_ds = cleaned_ds.map(update_row, with_indices=True)\n",
    "\n",
    "print(\"Column updated successfully!\")\n",
    "print(cleaned_ds)\n",
    "\n",
    "# Check the first row to see the change\n",
    "# You should now see your string label (e.g., \"True\" or \"False\")\n",
    "# instead of the old boolean (e.g., True or False)\n",
    "print(cleaned_ds[5])"
   ]
  },
  {
   "cell_type": "code",
   "execution_count": 18,
   "id": "2b694358",
   "metadata": {},
   "outputs": [
    {
     "name": "stdout",
     "output_type": "stream",
     "text": [
      "{'content': 'tokoh nu dan islam moderat cak menyentil kinerja kejaksaan. munkin kejaksaan kudu membuktikan kasus pertamina berjalan seperti yang awal digembor2kan, bukan cuma sekedar cari simpati aja! #tolakruutni #cabutruutni', 'related': True}\n",
      "{'content': 'kembalikan tentara ke barak #tolakruutni', 'related': True}\n",
      "{'content': 'inilah kenapa instansi yang memperbolehkan penggunaan senjata api itu tidak boleh dicampur adukan dengan ranah sipil #tolakruutni #tolakruupolri #supremasisipil', 'related': True}\n",
      "{'content': 'amazing elephants group - massai mara national park - kenya - مجموعة رائعة من الأفيال - محمية مساي مارا - كينيا - #tolakruutni #espressolab #notebook0616 #beckysangels #素のまんま #lacasadellosfamososcol #parogeneral #보이넥스트도어', 'related': False}\n",
      "{'content': 'masih enggak menyangka suamiku tentara #tolakruutni', 'related': True}\n",
      "{'content': 'beberapa zine yang akan saya bawa saat melapak nanti #tolakruutni #supremasisipil', 'related': True}\n",
      "{'content': 'sebagai mahasiswa hukum, kami memiliki tanggung jawab akademik untuk mengawal proses pembentukan undang-undang agar memiliki proses partisipasi yang bermakna! berjuang turun ke jalan, bahkan berjuang di ruang sidang, semua sah dilakukan. yang penting #tolakruutni', 'related': True}\n",
      "{'content': 'sepakat. gue juga enggak peduli kalau tiba-tiba ada kabar bahlil ternyata chindo atau teddy ternyata anak band metal. bebas. yang penting #tolakruutni #tolakruupolri .', 'related': True}\n",
      "{'content': 'sekali-kali enggak menyebalkan ye kita #fallinginloveera #tolakruutni', 'related': True}\n",
      "{'content': 'presiden kita ini sudah kosong dari pas zaman debat pilpres. dan sekarang negara kita di pimpin oleh 2 manusia kosong bin dongo #tolakruutni #supremasisipil', 'related': True}\n"
     ]
    }
   ],
   "source": [
    "view_ds = cleaned_ds.select_columns([\"content\", \"related\"])\n",
    "for row in view_ds.to_list()[:10]:\n",
    "    print(row)"
   ]
  },
  {
   "cell_type": "code",
   "execution_count": 19,
   "id": "b5834fec",
   "metadata": {},
   "outputs": [],
   "source": [
    "ds[\"cleaned_labeled\"] = cleaned_ds"
   ]
  },
  {
   "cell_type": "code",
   "execution_count": 20,
   "id": "7d2bd6ac",
   "metadata": {},
   "outputs": [],
   "source": [
    "text_only = ds[\"cleaned_labeled\"][\"content\"]\n",
    "label_only = ds[\"cleaned_labeled\"][\"related\"]\n",
    "\n",
    "with open(\"reader.txt\", \"w\") as file:\n",
    "    for text, label in zip(text_only, label_only):\n",
    "        file.write(f\"TEXT: {text}\\n\")\n",
    "        file.write(f\"LABEL: {label}\\n\")\n",
    "        file.write(\"========================================================================\\n\")\n"
   ]
  },
  {
   "cell_type": "code",
   "execution_count": 21,
   "id": "9f5fe511",
   "metadata": {},
   "outputs": [
    {
     "data": {
      "application/vnd.jupyter.widget-view+json": {
       "model_id": "e8a65754aa934bb1855847bf6668dbd9",
       "version_major": 2,
       "version_minor": 0
      },
      "text/plain": [
       "Uploading the dataset shards:   0%|          | 0/1 [00:00<?, ?it/s]"
      ]
     },
     "metadata": {},
     "output_type": "display_data"
    },
    {
     "data": {
      "application/vnd.jupyter.widget-view+json": {
       "model_id": "7eb625f6ac864bf698e0dfd5a78debfa",
       "version_major": 2,
       "version_minor": 0
      },
      "text/plain": [
       "Creating parquet from Arrow format:   0%|          | 0/202 [00:00<?, ?ba/s]"
      ]
     },
     "metadata": {},
     "output_type": "display_data"
    },
    {
     "name": "stderr",
     "output_type": "stream",
     "text": [
      "Uploading files as a binary IO buffer is not supported by Xet Storage. Falling back to HTTP upload.\n"
     ]
    },
    {
     "data": {
      "application/vnd.jupyter.widget-view+json": {
       "model_id": "a2986ee810114e23a1bfd1552973afe9",
       "version_major": 2,
       "version_minor": 0
      },
      "text/plain": [
       "Upload 0 LFS files: 0it [00:00, ?it/s]"
      ]
     },
     "metadata": {},
     "output_type": "display_data"
    },
    {
     "data": {
      "application/vnd.jupyter.widget-view+json": {
       "model_id": "3f4ba1be52514c68a9e8a5dda0fc5011",
       "version_major": 2,
       "version_minor": 0
      },
      "text/plain": [
       "Uploading the dataset shards:   0%|          | 0/1 [00:00<?, ?it/s]"
      ]
     },
     "metadata": {},
     "output_type": "display_data"
    },
    {
     "data": {
      "application/vnd.jupyter.widget-view+json": {
       "model_id": "584628760bd2492aa16a292446dad3f5",
       "version_major": 2,
       "version_minor": 0
      },
      "text/plain": [
       "Creating parquet from Arrow format:   0%|          | 0/202 [00:00<?, ?ba/s]"
      ]
     },
     "metadata": {},
     "output_type": "display_data"
    },
    {
     "name": "stderr",
     "output_type": "stream",
     "text": [
      "Uploading files as a binary IO buffer is not supported by Xet Storage. Falling back to HTTP upload.\n"
     ]
    },
    {
     "data": {
      "application/vnd.jupyter.widget-view+json": {
       "model_id": "90374ca5963a4431a84d1801e32065c7",
       "version_major": 2,
       "version_minor": 0
      },
      "text/plain": [
       "Upload 0 LFS files: 0it [00:00, ?it/s]"
      ]
     },
     "metadata": {},
     "output_type": "display_data"
    },
    {
     "data": {
      "application/vnd.jupyter.widget-view+json": {
       "model_id": "c5aa2ec7c4f64c8f9a36bc61b43db291",
       "version_major": 2,
       "version_minor": 0
      },
      "text/plain": [
       "Uploading the dataset shards:   0%|          | 0/1 [00:00<?, ?it/s]"
      ]
     },
     "metadata": {},
     "output_type": "display_data"
    },
    {
     "data": {
      "application/vnd.jupyter.widget-view+json": {
       "model_id": "ebf5b7c0061440cb8dc63eb8f510ab48",
       "version_major": 2,
       "version_minor": 0
      },
      "text/plain": [
       "Creating parquet from Arrow format:   0%|          | 0/1 [00:00<?, ?ba/s]"
      ]
     },
     "metadata": {},
     "output_type": "display_data"
    },
    {
     "name": "stderr",
     "output_type": "stream",
     "text": [
      "Uploading files as a binary IO buffer is not supported by Xet Storage. Falling back to HTTP upload.\n"
     ]
    },
    {
     "data": {
      "application/vnd.jupyter.widget-view+json": {
       "model_id": "6d8710e53ebd4a2e9902e3b9357aaaae",
       "version_major": 2,
       "version_minor": 0
      },
      "text/plain": [
       "Upload 0 LFS files: 0it [00:00, ?it/s]"
      ]
     },
     "metadata": {},
     "output_type": "display_data"
    },
    {
     "data": {
      "application/vnd.jupyter.widget-view+json": {
       "model_id": "290a525f9bc5441d9fe82e2ed3b0d3c8",
       "version_major": 2,
       "version_minor": 0
      },
      "text/plain": [
       "Uploading the dataset shards:   0%|          | 0/1 [00:00<?, ?it/s]"
      ]
     },
     "metadata": {},
     "output_type": "display_data"
    },
    {
     "data": {
      "application/vnd.jupyter.widget-view+json": {
       "model_id": "b2904063aaf7476fa481a80b9a81654c",
       "version_major": 2,
       "version_minor": 0
      },
      "text/plain": [
       "Creating parquet from Arrow format:   0%|          | 0/3 [00:00<?, ?ba/s]"
      ]
     },
     "metadata": {},
     "output_type": "display_data"
    },
    {
     "name": "stderr",
     "output_type": "stream",
     "text": [
      "Uploading files as a binary IO buffer is not supported by Xet Storage. Falling back to HTTP upload.\n"
     ]
    },
    {
     "data": {
      "application/vnd.jupyter.widget-view+json": {
       "model_id": "7c028567e7fb4ca7a53b26fc4fcb7156",
       "version_major": 2,
       "version_minor": 0
      },
      "text/plain": [
       "Upload 0 LFS files: 0it [00:00, ?it/s]"
      ]
     },
     "metadata": {},
     "output_type": "display_data"
    },
    {
     "data": {
      "application/vnd.jupyter.widget-view+json": {
       "model_id": "bb5dd4ceeb9d4fceb6969ea9716f0ae9",
       "version_major": 2,
       "version_minor": 0
      },
      "text/plain": [
       "Uploading the dataset shards:   0%|          | 0/1 [00:00<?, ?it/s]"
      ]
     },
     "metadata": {},
     "output_type": "display_data"
    },
    {
     "data": {
      "application/vnd.jupyter.widget-view+json": {
       "model_id": "92259ef99c0b42078f084e7df82802ef",
       "version_major": 2,
       "version_minor": 0
      },
      "text/plain": [
       "Creating parquet from Arrow format:   0%|          | 0/3 [00:00<?, ?ba/s]"
      ]
     },
     "metadata": {},
     "output_type": "display_data"
    },
    {
     "name": "stderr",
     "output_type": "stream",
     "text": [
      "Uploading files as a binary IO buffer is not supported by Xet Storage. Falling back to HTTP upload.\n"
     ]
    },
    {
     "data": {
      "application/vnd.jupyter.widget-view+json": {
       "model_id": "35d7b12b39fc4aa49d7635a4b39e2bbf",
       "version_major": 2,
       "version_minor": 0
      },
      "text/plain": [
       "Upload 0 LFS files: 0it [00:00, ?it/s]"
      ]
     },
     "metadata": {},
     "output_type": "display_data"
    },
    {
     "data": {
      "application/vnd.jupyter.widget-view+json": {
       "model_id": "d172179728964a5f8f1865b92430bcc0",
       "version_major": 2,
       "version_minor": 0
      },
      "text/plain": [
       "Uploading the dataset shards:   0%|          | 0/1 [00:00<?, ?it/s]"
      ]
     },
     "metadata": {},
     "output_type": "display_data"
    },
    {
     "data": {
      "application/vnd.jupyter.widget-view+json": {
       "model_id": "b2c606cfb3914766b8c94e1b4f13d31b",
       "version_major": 2,
       "version_minor": 0
      },
      "text/plain": [
       "Creating parquet from Arrow format:   0%|          | 0/4 [00:00<?, ?ba/s]"
      ]
     },
     "metadata": {},
     "output_type": "display_data"
    },
    {
     "name": "stderr",
     "output_type": "stream",
     "text": [
      "Uploading files as a binary IO buffer is not supported by Xet Storage. Falling back to HTTP upload.\n"
     ]
    },
    {
     "data": {
      "application/vnd.jupyter.widget-view+json": {
       "model_id": "0306ffe263e14e0983991a689cf26626",
       "version_major": 2,
       "version_minor": 0
      },
      "text/plain": [
       "Upload 0 LFS files: 0it [00:00, ?it/s]"
      ]
     },
     "metadata": {},
     "output_type": "display_data"
    },
    {
     "data": {
      "application/vnd.jupyter.widget-view+json": {
       "model_id": "8455ba7540eb4190b43dd0165798de07",
       "version_major": 2,
       "version_minor": 0
      },
      "text/plain": [
       "Uploading the dataset shards:   0%|          | 0/1 [00:00<?, ?it/s]"
      ]
     },
     "metadata": {},
     "output_type": "display_data"
    },
    {
     "data": {
      "application/vnd.jupyter.widget-view+json": {
       "model_id": "a4f0c962e0ad49879abc0a9e70895da4",
       "version_major": 2,
       "version_minor": 0
      },
      "text/plain": [
       "Creating parquet from Arrow format:   0%|          | 0/5 [00:00<?, ?ba/s]"
      ]
     },
     "metadata": {},
     "output_type": "display_data"
    },
    {
     "name": "stderr",
     "output_type": "stream",
     "text": [
      "Uploading files as a binary IO buffer is not supported by Xet Storage. Falling back to HTTP upload.\n"
     ]
    },
    {
     "data": {
      "application/vnd.jupyter.widget-view+json": {
       "model_id": "5ee9750693ae41b88ea7653440902bb1",
       "version_major": 2,
       "version_minor": 0
      },
      "text/plain": [
       "Upload 0 LFS files: 0it [00:00, ?it/s]"
      ]
     },
     "metadata": {},
     "output_type": "display_data"
    },
    {
     "data": {
      "application/vnd.jupyter.widget-view+json": {
       "model_id": "c80479edd59f40afb1f8fd8a56ba1496",
       "version_major": 2,
       "version_minor": 0
      },
      "text/plain": [
       "Uploading the dataset shards:   0%|          | 0/1 [00:00<?, ?it/s]"
      ]
     },
     "metadata": {},
     "output_type": "display_data"
    },
    {
     "data": {
      "application/vnd.jupyter.widget-view+json": {
       "model_id": "00264008d1cc4a0eae3bd800b4a719c7",
       "version_major": 2,
       "version_minor": 0
      },
      "text/plain": [
       "Creating parquet from Arrow format:   0%|          | 0/7 [00:00<?, ?ba/s]"
      ]
     },
     "metadata": {},
     "output_type": "display_data"
    },
    {
     "name": "stderr",
     "output_type": "stream",
     "text": [
      "Uploading files as a binary IO buffer is not supported by Xet Storage. Falling back to HTTP upload.\n"
     ]
    },
    {
     "data": {
      "application/vnd.jupyter.widget-view+json": {
       "model_id": "0f38a7fc8ea54abf9cd86c3207cd6375",
       "version_major": 2,
       "version_minor": 0
      },
      "text/plain": [
       "Upload 0 LFS files: 0it [00:00, ?it/s]"
      ]
     },
     "metadata": {},
     "output_type": "display_data"
    },
    {
     "data": {
      "application/vnd.jupyter.widget-view+json": {
       "model_id": "ef8bad6a15a94f9da7136303392b9575",
       "version_major": 2,
       "version_minor": 0
      },
      "text/plain": [
       "Uploading the dataset shards:   0%|          | 0/1 [00:00<?, ?it/s]"
      ]
     },
     "metadata": {},
     "output_type": "display_data"
    },
    {
     "data": {
      "application/vnd.jupyter.widget-view+json": {
       "model_id": "3be973e690d44330bb5c215f64019265",
       "version_major": 2,
       "version_minor": 0
      },
      "text/plain": [
       "Creating parquet from Arrow format:   0%|          | 0/8 [00:00<?, ?ba/s]"
      ]
     },
     "metadata": {},
     "output_type": "display_data"
    },
    {
     "name": "stderr",
     "output_type": "stream",
     "text": [
      "Uploading files as a binary IO buffer is not supported by Xet Storage. Falling back to HTTP upload.\n"
     ]
    },
    {
     "data": {
      "application/vnd.jupyter.widget-view+json": {
       "model_id": "65b598ecdcdd4c538cb5dd8305fcd75b",
       "version_major": 2,
       "version_minor": 0
      },
      "text/plain": [
       "Upload 0 LFS files: 0it [00:00, ?it/s]"
      ]
     },
     "metadata": {},
     "output_type": "display_data"
    },
    {
     "data": {
      "application/vnd.jupyter.widget-view+json": {
       "model_id": "e7c85d677b4344999a58f70ddb343499",
       "version_major": 2,
       "version_minor": 0
      },
      "text/plain": [
       "Uploading the dataset shards:   0%|          | 0/1 [00:00<?, ?it/s]"
      ]
     },
     "metadata": {},
     "output_type": "display_data"
    },
    {
     "data": {
      "application/vnd.jupyter.widget-view+json": {
       "model_id": "d2305f5ada63471299ed7a97380a88a9",
       "version_major": 2,
       "version_minor": 0
      },
      "text/plain": [
       "Creating parquet from Arrow format:   0%|          | 0/8 [00:00<?, ?ba/s]"
      ]
     },
     "metadata": {},
     "output_type": "display_data"
    },
    {
     "name": "stderr",
     "output_type": "stream",
     "text": [
      "Uploading files as a binary IO buffer is not supported by Xet Storage. Falling back to HTTP upload.\n"
     ]
    },
    {
     "data": {
      "application/vnd.jupyter.widget-view+json": {
       "model_id": "7ba952a54c454510bf145ff2aa53b6b0",
       "version_major": 2,
       "version_minor": 0
      },
      "text/plain": [
       "Upload 0 LFS files: 0it [00:00, ?it/s]"
      ]
     },
     "metadata": {},
     "output_type": "display_data"
    },
    {
     "data": {
      "application/vnd.jupyter.widget-view+json": {
       "model_id": "22b07cf33ed14504b28b7358e7b87cf2",
       "version_major": 2,
       "version_minor": 0
      },
      "text/plain": [
       "Uploading the dataset shards:   0%|          | 0/1 [00:00<?, ?it/s]"
      ]
     },
     "metadata": {},
     "output_type": "display_data"
    },
    {
     "data": {
      "application/vnd.jupyter.widget-view+json": {
       "model_id": "9da8033df413478e971b46c40e33d48a",
       "version_major": 2,
       "version_minor": 0
      },
      "text/plain": [
       "Creating parquet from Arrow format:   0%|          | 0/9 [00:00<?, ?ba/s]"
      ]
     },
     "metadata": {},
     "output_type": "display_data"
    },
    {
     "name": "stderr",
     "output_type": "stream",
     "text": [
      "Uploading files as a binary IO buffer is not supported by Xet Storage. Falling back to HTTP upload.\n"
     ]
    },
    {
     "data": {
      "application/vnd.jupyter.widget-view+json": {
       "model_id": "a0bc4b0ff00a47a081ef7bfd7c4bd697",
       "version_major": 2,
       "version_minor": 0
      },
      "text/plain": [
       "Upload 0 LFS files: 0it [00:00, ?it/s]"
      ]
     },
     "metadata": {},
     "output_type": "display_data"
    },
    {
     "data": {
      "application/vnd.jupyter.widget-view+json": {
       "model_id": "bee07f4197f949b08dfd9c4ae4550002",
       "version_major": 2,
       "version_minor": 0
      },
      "text/plain": [
       "Uploading the dataset shards:   0%|          | 0/1 [00:00<?, ?it/s]"
      ]
     },
     "metadata": {},
     "output_type": "display_data"
    },
    {
     "data": {
      "application/vnd.jupyter.widget-view+json": {
       "model_id": "adcb22bc507d4ea1a75f706fd722dcf1",
       "version_major": 2,
       "version_minor": 0
      },
      "text/plain": [
       "Creating parquet from Arrow format:   0%|          | 0/10 [00:00<?, ?ba/s]"
      ]
     },
     "metadata": {},
     "output_type": "display_data"
    },
    {
     "name": "stderr",
     "output_type": "stream",
     "text": [
      "Uploading files as a binary IO buffer is not supported by Xet Storage. Falling back to HTTP upload.\n"
     ]
    },
    {
     "data": {
      "application/vnd.jupyter.widget-view+json": {
       "model_id": "f1b1273ba7364c0384305b6ee7a3a891",
       "version_major": 2,
       "version_minor": 0
      },
      "text/plain": [
       "Upload 0 LFS files: 0it [00:00, ?it/s]"
      ]
     },
     "metadata": {},
     "output_type": "display_data"
    },
    {
     "data": {
      "application/vnd.jupyter.widget-view+json": {
       "model_id": "c9a147a7f48b4f67ad89e6d0954ffdd0",
       "version_major": 2,
       "version_minor": 0
      },
      "text/plain": [
       "Uploading the dataset shards:   0%|          | 0/1 [00:00<?, ?it/s]"
      ]
     },
     "metadata": {},
     "output_type": "display_data"
    },
    {
     "data": {
      "application/vnd.jupyter.widget-view+json": {
       "model_id": "c672ff66a944464d9345fbc5f998ccdc",
       "version_major": 2,
       "version_minor": 0
      },
      "text/plain": [
       "Creating parquet from Arrow format:   0%|          | 0/11 [00:00<?, ?ba/s]"
      ]
     },
     "metadata": {},
     "output_type": "display_data"
    },
    {
     "name": "stderr",
     "output_type": "stream",
     "text": [
      "Uploading files as a binary IO buffer is not supported by Xet Storage. Falling back to HTTP upload.\n"
     ]
    },
    {
     "data": {
      "application/vnd.jupyter.widget-view+json": {
       "model_id": "0087ce1866c449fa97309ceb76f4b58b",
       "version_major": 2,
       "version_minor": 0
      },
      "text/plain": [
       "Upload 0 LFS files: 0it [00:00, ?it/s]"
      ]
     },
     "metadata": {},
     "output_type": "display_data"
    },
    {
     "data": {
      "application/vnd.jupyter.widget-view+json": {
       "model_id": "70fcdcae88d14857a36b5f011af76182",
       "version_major": 2,
       "version_minor": 0
      },
      "text/plain": [
       "Uploading the dataset shards:   0%|          | 0/1 [00:00<?, ?it/s]"
      ]
     },
     "metadata": {},
     "output_type": "display_data"
    },
    {
     "data": {
      "application/vnd.jupyter.widget-view+json": {
       "model_id": "bb0dceb7022d4ba9b7be748b7cb4f58c",
       "version_major": 2,
       "version_minor": 0
      },
      "text/plain": [
       "Creating parquet from Arrow format:   0%|          | 0/13 [00:00<?, ?ba/s]"
      ]
     },
     "metadata": {},
     "output_type": "display_data"
    },
    {
     "name": "stderr",
     "output_type": "stream",
     "text": [
      "Uploading files as a binary IO buffer is not supported by Xet Storage. Falling back to HTTP upload.\n"
     ]
    },
    {
     "data": {
      "application/vnd.jupyter.widget-view+json": {
       "model_id": "5d247d34f68947dfb19b0a9399f61fc7",
       "version_major": 2,
       "version_minor": 0
      },
      "text/plain": [
       "Upload 0 LFS files: 0it [00:00, ?it/s]"
      ]
     },
     "metadata": {},
     "output_type": "display_data"
    },
    {
     "data": {
      "application/vnd.jupyter.widget-view+json": {
       "model_id": "22b837eadcc04e049212918f9d12080b",
       "version_major": 2,
       "version_minor": 0
      },
      "text/plain": [
       "Uploading the dataset shards:   0%|          | 0/1 [00:00<?, ?it/s]"
      ]
     },
     "metadata": {},
     "output_type": "display_data"
    },
    {
     "data": {
      "application/vnd.jupyter.widget-view+json": {
       "model_id": "2ef159262a2b4615ab9bebfc03ef0a22",
       "version_major": 2,
       "version_minor": 0
      },
      "text/plain": [
       "Creating parquet from Arrow format:   0%|          | 0/13 [00:00<?, ?ba/s]"
      ]
     },
     "metadata": {},
     "output_type": "display_data"
    },
    {
     "name": "stderr",
     "output_type": "stream",
     "text": [
      "Uploading files as a binary IO buffer is not supported by Xet Storage. Falling back to HTTP upload.\n"
     ]
    },
    {
     "data": {
      "application/vnd.jupyter.widget-view+json": {
       "model_id": "c0c22a14024f43c39757f0e6d9e45e08",
       "version_major": 2,
       "version_minor": 0
      },
      "text/plain": [
       "Upload 0 LFS files: 0it [00:00, ?it/s]"
      ]
     },
     "metadata": {},
     "output_type": "display_data"
    },
    {
     "data": {
      "application/vnd.jupyter.widget-view+json": {
       "model_id": "6d041ef9313f4ff69e7d2316ae957185",
       "version_major": 2,
       "version_minor": 0
      },
      "text/plain": [
       "Uploading the dataset shards:   0%|          | 0/1 [00:00<?, ?it/s]"
      ]
     },
     "metadata": {},
     "output_type": "display_data"
    },
    {
     "data": {
      "application/vnd.jupyter.widget-view+json": {
       "model_id": "7666ab7c12754a60ad1bcbe350990015",
       "version_major": 2,
       "version_minor": 0
      },
      "text/plain": [
       "Creating parquet from Arrow format:   0%|          | 0/15 [00:00<?, ?ba/s]"
      ]
     },
     "metadata": {},
     "output_type": "display_data"
    },
    {
     "name": "stderr",
     "output_type": "stream",
     "text": [
      "Uploading files as a binary IO buffer is not supported by Xet Storage. Falling back to HTTP upload.\n"
     ]
    },
    {
     "data": {
      "application/vnd.jupyter.widget-view+json": {
       "model_id": "84624b5df81c495380f9bdb00a1e3616",
       "version_major": 2,
       "version_minor": 0
      },
      "text/plain": [
       "Upload 0 LFS files: 0it [00:00, ?it/s]"
      ]
     },
     "metadata": {},
     "output_type": "display_data"
    },
    {
     "data": {
      "application/vnd.jupyter.widget-view+json": {
       "model_id": "63129148d0dc4966a95667e1f0c1b12a",
       "version_major": 2,
       "version_minor": 0
      },
      "text/plain": [
       "Uploading the dataset shards:   0%|          | 0/1 [00:00<?, ?it/s]"
      ]
     },
     "metadata": {},
     "output_type": "display_data"
    },
    {
     "data": {
      "application/vnd.jupyter.widget-view+json": {
       "model_id": "2367932c99e74122830b857debd0df0e",
       "version_major": 2,
       "version_minor": 0
      },
      "text/plain": [
       "Creating parquet from Arrow format:   0%|          | 0/15 [00:00<?, ?ba/s]"
      ]
     },
     "metadata": {},
     "output_type": "display_data"
    },
    {
     "name": "stderr",
     "output_type": "stream",
     "text": [
      "Uploading files as a binary IO buffer is not supported by Xet Storage. Falling back to HTTP upload.\n"
     ]
    },
    {
     "data": {
      "application/vnd.jupyter.widget-view+json": {
       "model_id": "500af1e4712f4637af823d541b17b0ce",
       "version_major": 2,
       "version_minor": 0
      },
      "text/plain": [
       "Upload 0 LFS files: 0it [00:00, ?it/s]"
      ]
     },
     "metadata": {},
     "output_type": "display_data"
    },
    {
     "data": {
      "application/vnd.jupyter.widget-view+json": {
       "model_id": "92fa8d2b05e543108506414e2b28b450",
       "version_major": 2,
       "version_minor": 0
      },
      "text/plain": [
       "Uploading the dataset shards:   0%|          | 0/1 [00:00<?, ?it/s]"
      ]
     },
     "metadata": {},
     "output_type": "display_data"
    },
    {
     "data": {
      "application/vnd.jupyter.widget-view+json": {
       "model_id": "8df137758007456ba54e3f3a0cc81f92",
       "version_major": 2,
       "version_minor": 0
      },
      "text/plain": [
       "Creating parquet from Arrow format:   0%|          | 0/17 [00:00<?, ?ba/s]"
      ]
     },
     "metadata": {},
     "output_type": "display_data"
    },
    {
     "name": "stderr",
     "output_type": "stream",
     "text": [
      "Uploading files as a binary IO buffer is not supported by Xet Storage. Falling back to HTTP upload.\n"
     ]
    },
    {
     "data": {
      "application/vnd.jupyter.widget-view+json": {
       "model_id": "79d38a5f42b44591bd310862749af577",
       "version_major": 2,
       "version_minor": 0
      },
      "text/plain": [
       "Upload 0 LFS files: 0it [00:00, ?it/s]"
      ]
     },
     "metadata": {},
     "output_type": "display_data"
    },
    {
     "data": {
      "application/vnd.jupyter.widget-view+json": {
       "model_id": "6fb009a6ff284060a99d92ed4cac7a4a",
       "version_major": 2,
       "version_minor": 0
      },
      "text/plain": [
       "Uploading the dataset shards:   0%|          | 0/1 [00:00<?, ?it/s]"
      ]
     },
     "metadata": {},
     "output_type": "display_data"
    },
    {
     "data": {
      "application/vnd.jupyter.widget-view+json": {
       "model_id": "d16985fb8f35411c8a2f5ca6a3212ab2",
       "version_major": 2,
       "version_minor": 0
      },
      "text/plain": [
       "Creating parquet from Arrow format:   0%|          | 0/17 [00:00<?, ?ba/s]"
      ]
     },
     "metadata": {},
     "output_type": "display_data"
    },
    {
     "name": "stderr",
     "output_type": "stream",
     "text": [
      "Uploading files as a binary IO buffer is not supported by Xet Storage. Falling back to HTTP upload.\n"
     ]
    },
    {
     "data": {
      "application/vnd.jupyter.widget-view+json": {
       "model_id": "fa9c98cea89b4416855f1c5d37b90854",
       "version_major": 2,
       "version_minor": 0
      },
      "text/plain": [
       "Upload 0 LFS files: 0it [00:00, ?it/s]"
      ]
     },
     "metadata": {},
     "output_type": "display_data"
    },
    {
     "data": {
      "application/vnd.jupyter.widget-view+json": {
       "model_id": "89ee9963ae2646a08343c6bb9f147009",
       "version_major": 2,
       "version_minor": 0
      },
      "text/plain": [
       "Uploading the dataset shards:   0%|          | 0/1 [00:00<?, ?it/s]"
      ]
     },
     "metadata": {},
     "output_type": "display_data"
    },
    {
     "data": {
      "application/vnd.jupyter.widget-view+json": {
       "model_id": "8a73e65f3b034dddaf51dbba043d7e4f",
       "version_major": 2,
       "version_minor": 0
      },
      "text/plain": [
       "Creating parquet from Arrow format:   0%|          | 0/18 [00:00<?, ?ba/s]"
      ]
     },
     "metadata": {},
     "output_type": "display_data"
    },
    {
     "name": "stderr",
     "output_type": "stream",
     "text": [
      "Uploading files as a binary IO buffer is not supported by Xet Storage. Falling back to HTTP upload.\n"
     ]
    },
    {
     "data": {
      "application/vnd.jupyter.widget-view+json": {
       "model_id": "5dccd4af538d44408e0ad91209e7c572",
       "version_major": 2,
       "version_minor": 0
      },
      "text/plain": [
       "Upload 0 LFS files: 0it [00:00, ?it/s]"
      ]
     },
     "metadata": {},
     "output_type": "display_data"
    },
    {
     "data": {
      "application/vnd.jupyter.widget-view+json": {
       "model_id": "f4d8609a2227436f9ba9ce0967971338",
       "version_major": 2,
       "version_minor": 0
      },
      "text/plain": [
       "Uploading the dataset shards:   0%|          | 0/1 [00:00<?, ?it/s]"
      ]
     },
     "metadata": {},
     "output_type": "display_data"
    },
    {
     "data": {
      "application/vnd.jupyter.widget-view+json": {
       "model_id": "ec4be47220f84fd39c1eb16f7507c26f",
       "version_major": 2,
       "version_minor": 0
      },
      "text/plain": [
       "Creating parquet from Arrow format:   0%|          | 0/20 [00:00<?, ?ba/s]"
      ]
     },
     "metadata": {},
     "output_type": "display_data"
    },
    {
     "name": "stderr",
     "output_type": "stream",
     "text": [
      "Uploading files as a binary IO buffer is not supported by Xet Storage. Falling back to HTTP upload.\n"
     ]
    },
    {
     "data": {
      "application/vnd.jupyter.widget-view+json": {
       "model_id": "61e32e582247426392c714bb7f266740",
       "version_major": 2,
       "version_minor": 0
      },
      "text/plain": [
       "Upload 0 LFS files: 0it [00:00, ?it/s]"
      ]
     },
     "metadata": {},
     "output_type": "display_data"
    },
    {
     "data": {
      "application/vnd.jupyter.widget-view+json": {
       "model_id": "356258e9862446ac8b58d6ca519add19",
       "version_major": 2,
       "version_minor": 0
      },
      "text/plain": [
       "Uploading the dataset shards:   0%|          | 0/1 [00:00<?, ?it/s]"
      ]
     },
     "metadata": {},
     "output_type": "display_data"
    },
    {
     "data": {
      "application/vnd.jupyter.widget-view+json": {
       "model_id": "b8f0a3a83c864ae08f1499fccf644b2c",
       "version_major": 2,
       "version_minor": 0
      },
      "text/plain": [
       "Creating parquet from Arrow format:   0%|          | 0/20 [00:00<?, ?ba/s]"
      ]
     },
     "metadata": {},
     "output_type": "display_data"
    },
    {
     "name": "stderr",
     "output_type": "stream",
     "text": [
      "Uploading files as a binary IO buffer is not supported by Xet Storage. Falling back to HTTP upload.\n"
     ]
    },
    {
     "data": {
      "application/vnd.jupyter.widget-view+json": {
       "model_id": "a11bf2496a5645e3aa9a5830e1d21a29",
       "version_major": 2,
       "version_minor": 0
      },
      "text/plain": [
       "Upload 0 LFS files: 0it [00:00, ?it/s]"
      ]
     },
     "metadata": {},
     "output_type": "display_data"
    },
    {
     "data": {
      "application/vnd.jupyter.widget-view+json": {
       "model_id": "a0571c97e0194835a5cfe8333203d79e",
       "version_major": 2,
       "version_minor": 0
      },
      "text/plain": [
       "Uploading the dataset shards:   0%|          | 0/1 [00:00<?, ?it/s]"
      ]
     },
     "metadata": {},
     "output_type": "display_data"
    },
    {
     "data": {
      "application/vnd.jupyter.widget-view+json": {
       "model_id": "ad39728d2e82411f846b044284db6906",
       "version_major": 2,
       "version_minor": 0
      },
      "text/plain": [
       "Creating parquet from Arrow format:   0%|          | 0/2 [00:00<?, ?ba/s]"
      ]
     },
     "metadata": {},
     "output_type": "display_data"
    },
    {
     "name": "stderr",
     "output_type": "stream",
     "text": [
      "Uploading files as a binary IO buffer is not supported by Xet Storage. Falling back to HTTP upload.\n"
     ]
    },
    {
     "data": {
      "application/vnd.jupyter.widget-view+json": {
       "model_id": "3fe550d3e35e4aacb5a66c115ed8f8e0",
       "version_major": 2,
       "version_minor": 0
      },
      "text/plain": [
       "Upload 0 LFS files: 0it [00:00, ?it/s]"
      ]
     },
     "metadata": {},
     "output_type": "display_data"
    },
    {
     "data": {
      "application/vnd.jupyter.widget-view+json": {
       "model_id": "8461eaa4bef946998f8634fbda82097f",
       "version_major": 2,
       "version_minor": 0
      },
      "text/plain": [
       "Uploading the dataset shards:   0%|          | 0/1 [00:00<?, ?it/s]"
      ]
     },
     "metadata": {},
     "output_type": "display_data"
    },
    {
     "data": {
      "application/vnd.jupyter.widget-view+json": {
       "model_id": "61227a17b3cf435b87d4f0457548a062",
       "version_major": 2,
       "version_minor": 0
      },
      "text/plain": [
       "Creating parquet from Arrow format:   0%|          | 0/20 [00:00<?, ?ba/s]"
      ]
     },
     "metadata": {},
     "output_type": "display_data"
    },
    {
     "name": "stderr",
     "output_type": "stream",
     "text": [
      "Uploading files as a binary IO buffer is not supported by Xet Storage. Falling back to HTTP upload.\n"
     ]
    },
    {
     "data": {
      "application/vnd.jupyter.widget-view+json": {
       "model_id": "ffd361f78bd14ccca7707cc659646265",
       "version_major": 2,
       "version_minor": 0
      },
      "text/plain": [
       "Upload 0 LFS files: 0it [00:00, ?it/s]"
      ]
     },
     "metadata": {},
     "output_type": "display_data"
    },
    {
     "data": {
      "application/vnd.jupyter.widget-view+json": {
       "model_id": "3ce3712eb58341998b9560f6538f0b2f",
       "version_major": 2,
       "version_minor": 0
      },
      "text/plain": [
       "Uploading the dataset shards:   0%|          | 0/1 [00:00<?, ?it/s]"
      ]
     },
     "metadata": {},
     "output_type": "display_data"
    },
    {
     "data": {
      "application/vnd.jupyter.widget-view+json": {
       "model_id": "a8592c67a09340078ae6d87919521930",
       "version_major": 2,
       "version_minor": 0
      },
      "text/plain": [
       "Creating parquet from Arrow format:   0%|          | 0/202 [00:00<?, ?ba/s]"
      ]
     },
     "metadata": {},
     "output_type": "display_data"
    },
    {
     "name": "stderr",
     "output_type": "stream",
     "text": [
      "Uploading files as a binary IO buffer is not supported by Xet Storage. Falling back to HTTP upload.\n"
     ]
    },
    {
     "data": {
      "text/plain": [
       "CommitInfo(commit_url='https://huggingface.co/datasets/tianharjuno/twitter-parse/commit/9d881a2590e48e8dee2a39a96b86b98982908e53', commit_message='Upload dataset', commit_description='Labeled cleaned ds', oid='9d881a2590e48e8dee2a39a96b86b98982908e53', pr_url=None, repo_url=RepoUrl('https://huggingface.co/datasets/tianharjuno/twitter-parse', endpoint='https://huggingface.co', repo_type='dataset', repo_id='tianharjuno/twitter-parse'), pr_revision=None, pr_num=None)"
      ]
     },
     "execution_count": 21,
     "metadata": {},
     "output_type": "execute_result"
    }
   ],
   "source": [
    "ds.push_to_hub(\"tianharjuno/twitter-parse\", commit_description=\"Labeled cleaned ds\")"
   ]
  },
  {
   "cell_type": "code",
   "execution_count": 22,
   "id": "a3069c68",
   "metadata": {},
   "outputs": [
    {
     "data": {
      "application/vnd.jupyter.widget-view+json": {
       "model_id": "d4a88eedfc904388a9a40cd397044162",
       "version_major": 2,
       "version_minor": 0
      },
      "text/plain": [
       "Processing Files (0 / 0): |          |  0.00B /  0.00B            "
      ]
     },
     "metadata": {},
     "output_type": "display_data"
    },
    {
     "data": {
      "application/vnd.jupyter.widget-view+json": {
       "model_id": "f1db9556231e42ae98c034ce419885e6",
       "version_major": 2,
       "version_minor": 0
      },
      "text/plain": [
       "New Data Upload: |          |  0.00B /  0.00B            "
      ]
     },
     "metadata": {},
     "output_type": "display_data"
    },
    {
     "name": "stderr",
     "output_type": "stream",
     "text": [
      "No files have been modified since last commit. Skipping to prevent empty commit.\n"
     ]
    },
    {
     "data": {
      "text/plain": [
       "CommitInfo(commit_url='https://huggingface.co/tianharjuno/ruu-tni-relevancy-classification-p1/commit/faba550a3a6bda6841e4c5115ba87e4f652bb41c', commit_message='Upload tokenizer', commit_description='Changed training pipeline', oid='faba550a3a6bda6841e4c5115ba87e4f652bb41c', pr_url=None, repo_url=RepoUrl('https://huggingface.co/tianharjuno/ruu-tni-relevancy-classification-p1', endpoint='https://huggingface.co', repo_type='model', repo_id='tianharjuno/ruu-tni-relevancy-classification-p1'), pr_revision=None, pr_num=None)"
      ]
     },
     "execution_count": 22,
     "metadata": {},
     "output_type": "execute_result"
    }
   ],
   "source": [
    "model.push_to_hub(\"tianharjuno/ruu-tni-relevancy-classification-p1\", commit_description=\"Changed training pipeline\")\n",
    "tokenizer.push_to_hub(\"tianharjuno/ruu-tni-relevancy-classification-p1\", commit_description=\"Changed training pipeline\")"
   ]
  }
 ],
 "metadata": {
  "kernelspec": {
   "display_name": "Python 3",
   "language": "python",
   "name": "python3"
  },
  "language_info": {
   "codemirror_mode": {
    "name": "ipython",
    "version": 3
   },
   "file_extension": ".py",
   "mimetype": "text/x-python",
   "name": "python",
   "nbconvert_exporter": "python",
   "pygments_lexer": "ipython3",
   "version": "3.12.11"
  }
 },
 "nbformat": 4,
 "nbformat_minor": 5
}
